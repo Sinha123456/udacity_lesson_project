{
  "nbformat": 4,
  "nbformat_minor": 0,
  "metadata": {
    "kernelspec": {
      "display_name": "Python 3",
      "language": "python",
      "name": "python3"
    },
    "language_info": {
      "codemirror_mode": {
        "name": "ipython",
        "version": 3
      },
      "file_extension": ".py",
      "mimetype": "text/x-python",
      "name": "python",
      "nbconvert_exporter": "python",
      "pygments_lexer": "ipython3",
      "version": "3.6.3"
    },
    "colab": {
      "name": "Confidence Intervals - Part I.ipynb",
      "provenance": [],
      "include_colab_link": true
    }
  },
  "cells": [
    {
      "cell_type": "markdown",
      "metadata": {
        "id": "view-in-github",
        "colab_type": "text"
      },
      "source": [
        "<a href=\"https://colab.research.google.com/github/Sinha123456/udacity_lesson_project/blob/main/Confidence_Intervals_Part_I.ipynb\" target=\"_parent\"><img src=\"https://colab.research.google.com/assets/colab-badge.svg\" alt=\"Open In Colab\"/></a>"
      ]
    },
    {
      "cell_type": "markdown",
      "metadata": {
        "id": "NXq2Lm8lhimS"
      },
      "source": [
        "### Confidence Intervals - Part I\n",
        "\n",
        "First let's read in the necessary libraries and the dataset.  You also have the full and reduced versions of the data available.  The reduced version is an example of you would actually get in practice, as it is the sample.  While the full data is an example of everyone in your population."
      ]
    },
    {
      "cell_type": "code",
      "metadata": {
        "id": "qvlHOV6mhimo",
        "outputId": "8af3f6f7-97cf-44d5-df5d-d02f8e4e0f0a"
      },
      "source": [
        "import pandas as pd\n",
        "import numpy as np\n",
        "import matplotlib.pyplot as plt\n",
        "\n",
        "np.random.seed(42)\n",
        "\n",
        "coffee_full = pd.read_csv('coffee_dataset.csv')\n",
        "coffee_red = coffee_full.sample(200) #this is the only data you might actually get in the real world.\n",
        "coffee_red.head(5)"
      ],
      "execution_count": null,
      "outputs": [
        {
          "output_type": "execute_result",
          "data": {
            "text/html": [
              "<div>\n",
              "<style scoped>\n",
              "    .dataframe tbody tr th:only-of-type {\n",
              "        vertical-align: middle;\n",
              "    }\n",
              "\n",
              "    .dataframe tbody tr th {\n",
              "        vertical-align: top;\n",
              "    }\n",
              "\n",
              "    .dataframe thead th {\n",
              "        text-align: right;\n",
              "    }\n",
              "</style>\n",
              "<table border=\"1\" class=\"dataframe\">\n",
              "  <thead>\n",
              "    <tr style=\"text-align: right;\">\n",
              "      <th></th>\n",
              "      <th>user_id</th>\n",
              "      <th>age</th>\n",
              "      <th>drinks_coffee</th>\n",
              "      <th>height</th>\n",
              "    </tr>\n",
              "  </thead>\n",
              "  <tbody>\n",
              "    <tr>\n",
              "      <th>2402</th>\n",
              "      <td>2874</td>\n",
              "      <td>&lt;21</td>\n",
              "      <td>True</td>\n",
              "      <td>64.357154</td>\n",
              "    </tr>\n",
              "    <tr>\n",
              "      <th>2864</th>\n",
              "      <td>3670</td>\n",
              "      <td>&gt;=21</td>\n",
              "      <td>True</td>\n",
              "      <td>66.859636</td>\n",
              "    </tr>\n",
              "    <tr>\n",
              "      <th>2167</th>\n",
              "      <td>7441</td>\n",
              "      <td>&lt;21</td>\n",
              "      <td>False</td>\n",
              "      <td>66.659561</td>\n",
              "    </tr>\n",
              "    <tr>\n",
              "      <th>507</th>\n",
              "      <td>2781</td>\n",
              "      <td>&gt;=21</td>\n",
              "      <td>True</td>\n",
              "      <td>70.166241</td>\n",
              "    </tr>\n",
              "    <tr>\n",
              "      <th>1817</th>\n",
              "      <td>2875</td>\n",
              "      <td>&gt;=21</td>\n",
              "      <td>True</td>\n",
              "      <td>71.369120</td>\n",
              "    </tr>\n",
              "  </tbody>\n",
              "</table>\n",
              "</div>"
            ],
            "text/plain": [
              "      user_id   age  drinks_coffee     height\n",
              "2402     2874   <21           True  64.357154\n",
              "2864     3670  >=21           True  66.859636\n",
              "2167     7441   <21          False  66.659561\n",
              "507      2781  >=21           True  70.166241\n",
              "1817     2875  >=21           True  71.369120"
            ]
          },
          "metadata": {
            "tags": []
          },
          "execution_count": 20
        }
      ]
    },
    {
      "cell_type": "code",
      "metadata": {
        "id": "WDMcbFtOhimw"
      },
      "source": [
        ""
      ],
      "execution_count": null,
      "outputs": []
    },
    {
      "cell_type": "markdown",
      "metadata": {
        "id": "9vgecxx5him0"
      },
      "source": [
        "`1.` What is the proportion of coffee drinkers in the sample?  What is the proportion of individuals that don't drink coffee?"
      ]
    },
    {
      "cell_type": "code",
      "metadata": {
        "id": "pEUZbebDhim3",
        "outputId": "277c93ef-ebf7-452a-bd4b-7e1a7d64441e"
      },
      "source": [
        "coffee_red.drinks_coffee.mean()"
      ],
      "execution_count": null,
      "outputs": [
        {
          "output_type": "execute_result",
          "data": {
            "text/plain": [
              "0.59499999999999997"
            ]
          },
          "metadata": {
            "tags": []
          },
          "execution_count": 3
        }
      ]
    },
    {
      "cell_type": "code",
      "metadata": {
        "id": "eRNNenNahim6",
        "outputId": "dcb9769f-cf8c-42a7-a518-29fcb4891abd"
      },
      "source": [
        "total_coffee_drinker = coffee_red['drinks_coffee'].count()\n",
        "total_coffee_drinker"
      ],
      "execution_count": null,
      "outputs": [
        {
          "output_type": "execute_result",
          "data": {
            "text/plain": [
              "200"
            ]
          },
          "metadata": {
            "tags": []
          },
          "execution_count": 4
        }
      ]
    },
    {
      "cell_type": "code",
      "metadata": {
        "id": "6Nsd8yfbhim9",
        "outputId": "9e69f630-6706-464b-ae63-d078cc55a2fe"
      },
      "source": [
        "no_coffee_drinker = coffee_red[coffee_red['drinks_coffee']==False].count()\n",
        "no_coffee_drinker"
      ],
      "execution_count": null,
      "outputs": [
        {
          "output_type": "execute_result",
          "data": {
            "text/plain": [
              "user_id          81\n",
              "age              81\n",
              "drinks_coffee    81\n",
              "height           81\n",
              "dtype: int64"
            ]
          },
          "metadata": {
            "tags": []
          },
          "execution_count": 6
        }
      ]
    },
    {
      "cell_type": "code",
      "metadata": {
        "id": "ggIyihhxhinA",
        "outputId": "8c98d8bd-0520-439d-d3c1-a5c56d70652f"
      },
      "source": [
        "prop_no_coffee = no_coffee_drinker/total_coffee_drinker\n",
        "prop_no_coffee"
      ],
      "execution_count": null,
      "outputs": [
        {
          "output_type": "execute_result",
          "data": {
            "text/plain": [
              "user_id          0.405\n",
              "age              0.405\n",
              "drinks_coffee    0.405\n",
              "height           0.405\n",
              "dtype: float64"
            ]
          },
          "metadata": {
            "tags": []
          },
          "execution_count": 7
        }
      ]
    },
    {
      "cell_type": "markdown",
      "metadata": {
        "id": "_rNRWExdhinD"
      },
      "source": [
        "`2.` Of the individuals who drink coffee, what is the average height? Of the individuals who do not drink coffee, what is the average height?"
      ]
    },
    {
      "cell_type": "code",
      "metadata": {
        "id": "zQacQTGthinE",
        "outputId": "fec923ea-c04b-402c-ac87-58cb5ce98cc4"
      },
      "source": [
        "coffee_red[coffee_red['drinks_coffee']==True]['height'].mean()\n"
      ],
      "execution_count": null,
      "outputs": [
        {
          "output_type": "execute_result",
          "data": {
            "text/plain": [
              "68.119629908586163"
            ]
          },
          "metadata": {
            "tags": []
          },
          "execution_count": 8
        }
      ]
    },
    {
      "cell_type": "code",
      "metadata": {
        "id": "5YhXim9nhinH",
        "outputId": "e998c1b5-2404-4180-c480-e1d0dc050ad5"
      },
      "source": [
        "coffee_red[coffee_red['drinks_coffee']==False]['height'].mean()\n"
      ],
      "execution_count": null,
      "outputs": [
        {
          "output_type": "execute_result",
          "data": {
            "text/plain": [
              "66.784922799278775"
            ]
          },
          "metadata": {
            "tags": []
          },
          "execution_count": 9
        }
      ]
    },
    {
      "cell_type": "markdown",
      "metadata": {
        "id": "LQVn9nWohinL"
      },
      "source": [
        "`3.` Simulate 200 \"new\" individuals from your original sample of 200.  What are the proportion of coffee drinkers in your bootstrap sample?  How about individuals that don't drink coffee?"
      ]
    },
    {
      "cell_type": "code",
      "metadata": {
        "id": "5_OEjX5QhinM",
        "outputId": "6846a4a6-c18e-48d4-bd53-68c1a6640b0f"
      },
      "source": [
        "bootsample = coffee_red.sample(200, replace = True)\n",
        "bootsample['drinks_coffee'].mean()"
      ],
      "execution_count": null,
      "outputs": [
        {
          "output_type": "execute_result",
          "data": {
            "text/plain": [
              "0.60499999999999998"
            ]
          },
          "metadata": {
            "tags": []
          },
          "execution_count": 12
        }
      ]
    },
    {
      "cell_type": "code",
      "metadata": {
        "id": "pBYv-hUEhinN",
        "outputId": "b825dd6d-5f65-4cef-88a8-df6bf1039445"
      },
      "source": [
        "no_coffee_drinks = 1 - bootsample['drinks_coffee'].mean()\n",
        "no_coffee_drinks"
      ],
      "execution_count": null,
      "outputs": [
        {
          "output_type": "execute_result",
          "data": {
            "text/plain": [
              "0.39500000000000002"
            ]
          },
          "metadata": {
            "tags": []
          },
          "execution_count": 14
        }
      ]
    },
    {
      "cell_type": "markdown",
      "metadata": {
        "id": "0NA6fTC3hinQ"
      },
      "source": [
        "`4.` Now simulate your bootstrap sample 10,000 times and take the mean height of the non-coffee drinkers in each sample. Each bootstrap sample should be from the very first sample of 200 data points. Plot the distribution, and pull the values necessary for a 95% confidence interval.  What do you notice about the sampling distribution of the mean in this example?"
      ]
    },
    {
      "cell_type": "code",
      "metadata": {
        "id": "On0WoA88hinS",
        "outputId": "ed6eb95e-8c03-482a-eeb0-c9b74339ec54"
      },
      "source": [
        "boot_means = []\n",
        "for _ in range(10000):\n",
        "    bootsample = coffee_red.sample(200, replace = True)\n",
        "    boot_mean = bootsample[bootsample['drinks_coffee'] == False]['height'].mean()\n",
        "    boot_means.append(boot_mean)\n",
        "plt.hist(boot_means)"
      ],
      "execution_count": null,
      "outputs": [
        {
          "output_type": "execute_result",
          "data": {
            "text/plain": [
              "(array([   16.,   107.,   578.,  1605.,  2649.,  2741.,  1600.,   579.,\n",
              "          110.,    15.]),\n",
              " array([ 65.27657893,  65.57718387,  65.87778881,  66.17839375,\n",
              "         66.47899869,  66.77960363,  67.08020857,  67.38081351,\n",
              "         67.68141845,  67.98202339,  68.28262833]),\n",
              " <a list of 10 Patch objects>)"
            ]
          },
          "metadata": {
            "tags": []
          },
          "execution_count": 24
        },
        {
          "output_type": "display_data",
          "data": {
            "image/png": "[encoded data removed]",
            "text/plain": [
              "<matplotlib.figure.Figure at 0x7f4909783048>"
            ]
          },
          "metadata": {
            "tags": [],
            "needs_background": "light"
          }
        }
      ]
    },
    {
      "cell_type": "markdown",
      "metadata": {
        "collapsed": true,
        "id": "6b2vvszthinU"
      },
      "source": [
        "Looks like a normally distributed"
      ]
    },
    {
      "cell_type": "markdown",
      "metadata": {
        "id": "CfZWqpN1hinW"
      },
      "source": [
        "`5.`  Did your interval capture the actual average height of non-coffee drinkers in the population?  Look at the average in the population and the two bounds provided by your 95% confidence interval, and then answer the final quiz question below."
      ]
    },
    {
      "cell_type": "markdown",
      "metadata": {
        "collapsed": true,
        "id": "-rKRFjgQhinX"
      },
      "source": [
        "#Actual non coffee drinkers height interval is between 66.5-66.7"
      ]
    },
    {
      "cell_type": "code",
      "metadata": {
        "id": "xv55KXhQhinY",
        "outputId": "9c179b85-496f-4280-e20c-c760df7d18b6"
      },
      "source": [
        "coffee_full[coffee_full['drinks_coffee']==False]['height'].mean()"
      ],
      "execution_count": null,
      "outputs": [
        {
          "output_type": "execute_result",
          "data": {
            "text/plain": [
              "66.443407762147004"
            ]
          },
          "metadata": {
            "tags": []
          },
          "execution_count": 25
        }
      ]
    },
    {
      "cell_type": "code",
      "metadata": {
        "id": "yqpFj7xQhinZ",
        "outputId": "e69d7ff5-4e55-447a-b118-963c2487f6bb"
      },
      "source": [
        "np.percentile(boot_means, 2.5),np.percentile(boot_means, 95)"
      ],
      "execution_count": null,
      "outputs": [
        {
          "output_type": "execute_result",
          "data": {
            "text/plain": [
              "(65.982314686704754, 67.442383101853608)"
            ]
          },
          "metadata": {
            "tags": []
          },
          "execution_count": 28
        }
      ]
    },
    {
      "cell_type": "code",
      "metadata": {
        "id": "hcOvtOcxhina"
      },
      "source": [
        ""
      ],
      "execution_count": null,
      "outputs": []
    }
  ]
}