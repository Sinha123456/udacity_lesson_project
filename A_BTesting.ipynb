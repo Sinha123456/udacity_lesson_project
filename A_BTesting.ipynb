{
  "nbformat": 4,
  "nbformat_minor": 0,
  "metadata": {
    "colab": {
      "name": "A/BTesting.ipynb",
      "provenance": [],
      "collapsed_sections": [],
      "authorship_tag": "ABX9TyNPk64rC+KPwbvRn5hIIYK3",
      "include_colab_link": true
    },
    "kernelspec": {
      "name": "python3",
      "display_name": "Python 3"
    }
  },
  "cells": [
    {
      "cell_type": "markdown",
      "metadata": {
        "id": "view-in-github",
        "colab_type": "text"
      },
      "source": [
        "<a href=\"https://colab.research.google.com/github/Sinha123456/udacity_lesson_project/blob/main/A_BTesting.ipynb\" target=\"_parent\"><img src=\"https://colab.research.google.com/assets/colab-badge.svg\" alt=\"Open In Colab\"/></a>"
      ]
    },
    {
      "cell_type": "code",
      "metadata": {
        "colab": {
          "base_uri": "https://localhost:8080/"
        },
        "id": "ic8f233DGBhg",
        "outputId": "dc5be3e2-83ec-4a6a-93ed-5f3e04728ad2"
      },
      "source": [
        "from google.colab import drive\r\n",
        "drive.mount('/content/drive')\r\n"
      ],
      "execution_count": 1,
      "outputs": [
        {
          "output_type": "stream",
          "text": [
            "Mounted at /content/drive\n"
          ],
          "name": "stdout"
        }
      ]
    },
    {
      "cell_type": "markdown",
      "metadata": {
        "id": "sq5qMw-5IHlx"
      },
      "source": [
        "# **Analyze A/B Test Results**\r\n"
      ]
    },
    {
      "cell_type": "markdown",
      "metadata": {
        "id": "yA5paa0vHysX"
      },
      "source": [
        "## **Introduction**\r\n",
        "\r\n",
        "A/B tests are very commonly performed by data analysts and data scientists. It is important that you get some practice working with the difficulties of these\r\n",
        "\r\n",
        "For this project, you will be working to understand the results of an A/B test run by an e-commerce website. The company has developed a new web page in order to try and increase the number of users who \"convert,\" meaning the number of users who decide to pay for the company's product. Our goal is to work through this notebook to help the company understand if they should implement this new page, keep the old page, or perhaps run the experiment longer to make their decision."
      ]
    },
    {
      "cell_type": "code",
      "metadata": {
        "id": "ngFnWz-KIcRo"
      },
      "source": [
        "import pandas as pd\r\n",
        "import numpy as np\r\n",
        "import random\r\n",
        "import matplotlib.pyplot as plt\r\n",
        "%matplotlib inline\r\n",
        "random.seed(42)"
      ],
      "execution_count": 2,
      "outputs": []
    },
    {
      "cell_type": "code",
      "metadata": {
        "colab": {
          "base_uri": "https://localhost:8080/",
          "height": 206
        },
        "id": "vhQnRt-eIjy1",
        "outputId": "a6a2fc8c-f84d-452b-8c39-190520ab9f31"
      },
      "source": [
        "#Loading the data and printing the few lines of first data\r\n",
        "df1 = pd.read_csv('/content/drive/My Drive/Colab Notebooks/udacity_projects/ab_data.csv')\r\n",
        "df1.head(5)\r\n",
        "         "
      ],
      "execution_count": 3,
      "outputs": [
        {
          "output_type": "execute_result",
          "data": {
            "text/html": [
              "<div>\n",
              "<style scoped>\n",
              "    .dataframe tbody tr th:only-of-type {\n",
              "        vertical-align: middle;\n",
              "    }\n",
              "\n",
              "    .dataframe tbody tr th {\n",
              "        vertical-align: top;\n",
              "    }\n",
              "\n",
              "    .dataframe thead th {\n",
              "        text-align: right;\n",
              "    }\n",
              "</style>\n",
              "<table border=\"1\" class=\"dataframe\">\n",
              "  <thead>\n",
              "    <tr style=\"text-align: right;\">\n",
              "      <th></th>\n",
              "      <th>user_id</th>\n",
              "      <th>timestamp</th>\n",
              "      <th>group</th>\n",
              "      <th>landing_page</th>\n",
              "      <th>converted</th>\n",
              "    </tr>\n",
              "  </thead>\n",
              "  <tbody>\n",
              "    <tr>\n",
              "      <th>0</th>\n",
              "      <td>851104</td>\n",
              "      <td>2017-01-21 22:11:48.556739</td>\n",
              "      <td>control</td>\n",
              "      <td>old_page</td>\n",
              "      <td>0</td>\n",
              "    </tr>\n",
              "    <tr>\n",
              "      <th>1</th>\n",
              "      <td>804228</td>\n",
              "      <td>2017-01-12 08:01:45.159739</td>\n",
              "      <td>control</td>\n",
              "      <td>old_page</td>\n",
              "      <td>0</td>\n",
              "    </tr>\n",
              "    <tr>\n",
              "      <th>2</th>\n",
              "      <td>661590</td>\n",
              "      <td>2017-01-11 16:55:06.154213</td>\n",
              "      <td>treatment</td>\n",
              "      <td>new_page</td>\n",
              "      <td>0</td>\n",
              "    </tr>\n",
              "    <tr>\n",
              "      <th>3</th>\n",
              "      <td>853541</td>\n",
              "      <td>2017-01-08 18:28:03.143765</td>\n",
              "      <td>treatment</td>\n",
              "      <td>new_page</td>\n",
              "      <td>0</td>\n",
              "    </tr>\n",
              "    <tr>\n",
              "      <th>4</th>\n",
              "      <td>864975</td>\n",
              "      <td>2017-01-21 01:52:26.210827</td>\n",
              "      <td>control</td>\n",
              "      <td>old_page</td>\n",
              "      <td>1</td>\n",
              "    </tr>\n",
              "  </tbody>\n",
              "</table>\n",
              "</div>"
            ],
            "text/plain": [
              "   user_id                   timestamp      group landing_page  converted\n",
              "0   851104  2017-01-21 22:11:48.556739    control     old_page          0\n",
              "1   804228  2017-01-12 08:01:45.159739    control     old_page          0\n",
              "2   661590  2017-01-11 16:55:06.154213  treatment     new_page          0\n",
              "3   853541  2017-01-08 18:28:03.143765  treatment     new_page          0\n",
              "4   864975  2017-01-21 01:52:26.210827    control     old_page          1"
            ]
          },
          "metadata": {
            "tags": []
          },
          "execution_count": 3
        }
      ]
    },
    {
      "cell_type": "code",
      "metadata": {
        "colab": {
          "base_uri": "https://localhost:8080/"
        },
        "id": "lHsg7CuHJdgk",
        "outputId": "8446477f-ad86-4768-92b3-ce55d1a7fdb8"
      },
      "source": [
        "df1.isnull().sum() # There is no null values"
      ],
      "execution_count": 4,
      "outputs": [
        {
          "output_type": "execute_result",
          "data": {
            "text/plain": [
              "user_id         0\n",
              "timestamp       0\n",
              "group           0\n",
              "landing_page    0\n",
              "converted       0\n",
              "dtype: int64"
            ]
          },
          "metadata": {
            "tags": []
          },
          "execution_count": 4
        }
      ]
    },
    {
      "cell_type": "code",
      "metadata": {
        "colab": {
          "base_uri": "https://localhost:8080/"
        },
        "id": "FGVak-EOK4zh",
        "outputId": "57d59630-4853-49fc-efc7-4a55a78551d7"
      },
      "source": [
        "df1.duplicated().sum() #There is no duplicate values"
      ],
      "execution_count": 5,
      "outputs": [
        {
          "output_type": "execute_result",
          "data": {
            "text/plain": [
              "0"
            ]
          },
          "metadata": {
            "tags": []
          },
          "execution_count": 5
        }
      ]
    },
    {
      "cell_type": "code",
      "metadata": {
        "colab": {
          "base_uri": "https://localhost:8080/"
        },
        "id": "S960gYJYLA_x",
        "outputId": "453b3b83-66a5-49a8-dc31-afe6e9439c5a"
      },
      "source": [
        "df1.nunique() #The number of unique users in the dataset."
      ],
      "execution_count": 6,
      "outputs": [
        {
          "output_type": "execute_result",
          "data": {
            "text/plain": [
              "user_id         290584\n",
              "timestamp       294478\n",
              "group                2\n",
              "landing_page         2\n",
              "converted            2\n",
              "dtype: int64"
            ]
          },
          "metadata": {
            "tags": []
          },
          "execution_count": 6
        }
      ]
    },
    {
      "cell_type": "code",
      "metadata": {
        "colab": {
          "base_uri": "https://localhost:8080/"
        },
        "id": "X_tB2NvFLMdn",
        "outputId": "6206ee19-53df-4200-d5b2-3306f477b8ea"
      },
      "source": [
        "df1.shape \r\n",
        "#294478 rows and 5 columns"
      ],
      "execution_count": 7,
      "outputs": [
        {
          "output_type": "execute_result",
          "data": {
            "text/plain": [
              "(294478, 5)"
            ]
          },
          "metadata": {
            "tags": []
          },
          "execution_count": 7
        }
      ]
    },
    {
      "cell_type": "code",
      "metadata": {
        "colab": {
          "base_uri": "https://localhost:8080/"
        },
        "id": "dGcZVeipL6Ge",
        "outputId": "d9fb0b48-8551-4078-8a82-37fe7dd4b1a9"
      },
      "source": [
        "df1.info()"
      ],
      "execution_count": 8,
      "outputs": [
        {
          "output_type": "stream",
          "text": [
            "<class 'pandas.core.frame.DataFrame'>\n",
            "RangeIndex: 294478 entries, 0 to 294477\n",
            "Data columns (total 5 columns):\n",
            " #   Column        Non-Null Count   Dtype \n",
            "---  ------        --------------   ----- \n",
            " 0   user_id       294478 non-null  int64 \n",
            " 1   timestamp     294478 non-null  object\n",
            " 2   group         294478 non-null  object\n",
            " 3   landing_page  294478 non-null  object\n",
            " 4   converted     294478 non-null  int64 \n",
            "dtypes: int64(2), object(3)\n",
            "memory usage: 11.2+ MB\n"
          ],
          "name": "stdout"
        }
      ]
    },
    {
      "cell_type": "code",
      "metadata": {
        "colab": {
          "base_uri": "https://localhost:8080/",
          "height": 300
        },
        "id": "2gpGVjJ5LRdy",
        "outputId": "ed587b6e-1916-42ce-d6bd-29ea17c1f916"
      },
      "source": [
        "df1.describe()"
      ],
      "execution_count": 9,
      "outputs": [
        {
          "output_type": "execute_result",
          "data": {
            "text/html": [
              "<div>\n",
              "<style scoped>\n",
              "    .dataframe tbody tr th:only-of-type {\n",
              "        vertical-align: middle;\n",
              "    }\n",
              "\n",
              "    .dataframe tbody tr th {\n",
              "        vertical-align: top;\n",
              "    }\n",
              "\n",
              "    .dataframe thead th {\n",
              "        text-align: right;\n",
              "    }\n",
              "</style>\n",
              "<table border=\"1\" class=\"dataframe\">\n",
              "  <thead>\n",
              "    <tr style=\"text-align: right;\">\n",
              "      <th></th>\n",
              "      <th>user_id</th>\n",
              "      <th>converted</th>\n",
              "    </tr>\n",
              "  </thead>\n",
              "  <tbody>\n",
              "    <tr>\n",
              "      <th>count</th>\n",
              "      <td>294478.000000</td>\n",
              "      <td>294478.000000</td>\n",
              "    </tr>\n",
              "    <tr>\n",
              "      <th>mean</th>\n",
              "      <td>787974.124733</td>\n",
              "      <td>0.119659</td>\n",
              "    </tr>\n",
              "    <tr>\n",
              "      <th>std</th>\n",
              "      <td>91210.823776</td>\n",
              "      <td>0.324563</td>\n",
              "    </tr>\n",
              "    <tr>\n",
              "      <th>min</th>\n",
              "      <td>630000.000000</td>\n",
              "      <td>0.000000</td>\n",
              "    </tr>\n",
              "    <tr>\n",
              "      <th>25%</th>\n",
              "      <td>709032.250000</td>\n",
              "      <td>0.000000</td>\n",
              "    </tr>\n",
              "    <tr>\n",
              "      <th>50%</th>\n",
              "      <td>787933.500000</td>\n",
              "      <td>0.000000</td>\n",
              "    </tr>\n",
              "    <tr>\n",
              "      <th>75%</th>\n",
              "      <td>866911.750000</td>\n",
              "      <td>0.000000</td>\n",
              "    </tr>\n",
              "    <tr>\n",
              "      <th>max</th>\n",
              "      <td>945999.000000</td>\n",
              "      <td>1.000000</td>\n",
              "    </tr>\n",
              "  </tbody>\n",
              "</table>\n",
              "</div>"
            ],
            "text/plain": [
              "             user_id      converted\n",
              "count  294478.000000  294478.000000\n",
              "mean   787974.124733       0.119659\n",
              "std     91210.823776       0.324563\n",
              "min    630000.000000       0.000000\n",
              "25%    709032.250000       0.000000\n",
              "50%    787933.500000       0.000000\n",
              "75%    866911.750000       0.000000\n",
              "max    945999.000000       1.000000"
            ]
          },
          "metadata": {
            "tags": []
          },
          "execution_count": 9
        }
      ]
    },
    {
      "cell_type": "code",
      "metadata": {
        "colab": {
          "base_uri": "https://localhost:8080/"
        },
        "id": "7ClBgb8DMDOu",
        "outputId": "2f25c6d7-33dd-4682-c0c2-8413dc295fa0"
      },
      "source": [
        "df1['user_id'].duplicated().sum()"
      ],
      "execution_count": 10,
      "outputs": [
        {
          "output_type": "execute_result",
          "data": {
            "text/plain": [
              "3894"
            ]
          },
          "metadata": {
            "tags": []
          },
          "execution_count": 10
        }
      ]
    },
    {
      "cell_type": "markdown",
      "metadata": {
        "id": "nzLOwZZflv_r"
      },
      "source": [
        "Do any of the rows have missing values?\r\n",
        "\r\n",
        "No"
      ]
    },
    {
      "cell_type": "markdown",
      "metadata": {
        "id": "TR30pQkKOCWW"
      },
      "source": [
        "## **Part I - Probability**"
      ]
    },
    {
      "cell_type": "markdown",
      "metadata": {
        "id": "bRRYgSaVOmqz"
      },
      "source": [
        "### The proportion of users converted."
      ]
    },
    {
      "cell_type": "code",
      "metadata": {
        "colab": {
          "base_uri": "https://localhost:8080/"
        },
        "id": "s2XhQq2wOuVS",
        "outputId": "94f04ff3-bc94-4648-f735-5fd15ed151b1"
      },
      "source": [
        "prop_convert_users = df1.query('converted == 1').count()[0]/df1.converted.shape[0]\r\n",
        "prop_convert_users #12% of users converted"
      ],
      "execution_count": 11,
      "outputs": [
        {
          "output_type": "execute_result",
          "data": {
            "text/plain": [
              "0.11965919355605512"
            ]
          },
          "metadata": {
            "tags": []
          },
          "execution_count": 11
        }
      ]
    },
    {
      "cell_type": "markdown",
      "metadata": {
        "id": "GOUf1JGlQ1L0"
      },
      "source": [
        "The number of times the new_page and treatment don't match."
      ]
    },
    {
      "cell_type": "code",
      "metadata": {
        "colab": {
          "base_uri": "https://localhost:8080/"
        },
        "id": "wefbwQ4vpT8W",
        "outputId": "a8047c59-1549-4600-acf3-7908ebd627cc"
      },
      "source": [
        "df1[((df1['group'] == 'treatment') == (df1['landing_page'] == 'new_page')) == False].shape[0]"
      ],
      "execution_count": 12,
      "outputs": [
        {
          "output_type": "execute_result",
          "data": {
            "text/plain": [
              "3893"
            ]
          },
          "metadata": {
            "tags": []
          },
          "execution_count": 12
        }
      ]
    },
    {
      "cell_type": "code",
      "metadata": {
        "id": "yvsUfKdzg7B3"
      },
      "source": [
        "remove = list(df1[((df1['group']=='treatment') == (df1['landing_page']=='new_page'))==False].index)\r\n",
        "df2 = df1.drop(remove)"
      ],
      "execution_count": 14,
      "outputs": []
    },
    {
      "cell_type": "markdown",
      "metadata": {
        "id": "ZE0osDvCrJAr"
      },
      "source": [
        " How many unique user_ids are in df2?"
      ]
    },
    {
      "cell_type": "code",
      "metadata": {
        "colab": {
          "base_uri": "https://localhost:8080/"
        },
        "id": "fCHY9LkSrNvi",
        "outputId": "c1411f09-375d-4e86-af66-851de15fde2f"
      },
      "source": [
        "df2.user_id.nunique()"
      ],
      "execution_count": 15,
      "outputs": [
        {
          "output_type": "execute_result",
          "data": {
            "text/plain": [
              "290584"
            ]
          },
          "metadata": {
            "tags": []
          },
          "execution_count": 15
        }
      ]
    },
    {
      "cell_type": "markdown",
      "metadata": {
        "id": "_4WGjPwlsRN0"
      },
      "source": [
        "There is one user_id repeated in df2. What is it?\r\n",
        "\r\n",
        "It's 773192"
      ]
    },
    {
      "cell_type": "markdown",
      "metadata": {
        "id": "XTJ3zMtVoXcg"
      },
      "source": [
        "What is the row information for the repeat user_id? "
      ]
    },
    {
      "cell_type": "code",
      "metadata": {
        "colab": {
          "base_uri": "https://localhost:8080/",
          "height": 80
        },
        "id": "kFBn9J82sTvM",
        "outputId": "59404156-fdbe-434a-dad5-eb7920d630eb"
      },
      "source": [
        "df2[df2.duplicated('user_id')]"
      ],
      "execution_count": 16,
      "outputs": [
        {
          "output_type": "execute_result",
          "data": {
            "text/html": [
              "<div>\n",
              "<style scoped>\n",
              "    .dataframe tbody tr th:only-of-type {\n",
              "        vertical-align: middle;\n",
              "    }\n",
              "\n",
              "    .dataframe tbody tr th {\n",
              "        vertical-align: top;\n",
              "    }\n",
              "\n",
              "    .dataframe thead th {\n",
              "        text-align: right;\n",
              "    }\n",
              "</style>\n",
              "<table border=\"1\" class=\"dataframe\">\n",
              "  <thead>\n",
              "    <tr style=\"text-align: right;\">\n",
              "      <th></th>\n",
              "      <th>user_id</th>\n",
              "      <th>timestamp</th>\n",
              "      <th>group</th>\n",
              "      <th>landing_page</th>\n",
              "      <th>converted</th>\n",
              "    </tr>\n",
              "  </thead>\n",
              "  <tbody>\n",
              "    <tr>\n",
              "      <th>2893</th>\n",
              "      <td>773192</td>\n",
              "      <td>2017-01-14 02:55:59.590927</td>\n",
              "      <td>treatment</td>\n",
              "      <td>new_page</td>\n",
              "      <td>0</td>\n",
              "    </tr>\n",
              "  </tbody>\n",
              "</table>\n",
              "</div>"
            ],
            "text/plain": [
              "      user_id                   timestamp      group landing_page  converted\n",
              "2893   773192  2017-01-14 02:55:59.590927  treatment     new_page          0"
            ]
          },
          "metadata": {
            "tags": []
          },
          "execution_count": 16
        }
      ]
    },
    {
      "cell_type": "markdown",
      "metadata": {
        "id": "ZFJoRFxOoi19"
      },
      "source": [
        "Remove one of the rows with a duplicate user_id, but keep your dataframe as df2."
      ]
    },
    {
      "cell_type": "code",
      "metadata": {
        "id": "O1iT_x5BsqbE"
      },
      "source": [
        "remove = df2.query('user_id==773192').index.values\r\n",
        "df2 = df2.drop(remove)"
      ],
      "execution_count": 17,
      "outputs": []
    },
    {
      "cell_type": "code",
      "metadata": {
        "colab": {
          "base_uri": "https://localhost:8080/",
          "height": 49
        },
        "id": "vfEVtX3UtJsr",
        "outputId": "f853ffad-ad4c-4cb1-c558-70a6905fcc70"
      },
      "source": [
        "#check the duplicate of user_id is dropped or not.\r\n",
        "df2[df2.duplicated('user_id')]"
      ],
      "execution_count": 18,
      "outputs": [
        {
          "output_type": "execute_result",
          "data": {
            "text/html": [
              "<div>\n",
              "<style scoped>\n",
              "    .dataframe tbody tr th:only-of-type {\n",
              "        vertical-align: middle;\n",
              "    }\n",
              "\n",
              "    .dataframe tbody tr th {\n",
              "        vertical-align: top;\n",
              "    }\n",
              "\n",
              "    .dataframe thead th {\n",
              "        text-align: right;\n",
              "    }\n",
              "</style>\n",
              "<table border=\"1\" class=\"dataframe\">\n",
              "  <thead>\n",
              "    <tr style=\"text-align: right;\">\n",
              "      <th></th>\n",
              "      <th>user_id</th>\n",
              "      <th>timestamp</th>\n",
              "      <th>group</th>\n",
              "      <th>landing_page</th>\n",
              "      <th>converted</th>\n",
              "    </tr>\n",
              "  </thead>\n",
              "  <tbody>\n",
              "  </tbody>\n",
              "</table>\n",
              "</div>"
            ],
            "text/plain": [
              "Empty DataFrame\n",
              "Columns: [user_id, timestamp, group, landing_page, converted]\n",
              "Index: []"
            ]
          },
          "metadata": {
            "tags": []
          },
          "execution_count": 18
        }
      ]
    },
    {
      "cell_type": "markdown",
      "metadata": {
        "id": "ureDBqsx3Vi1"
      },
      "source": [
        "What is the probability of an individual converting regardless of the page they receive?\r\n"
      ]
    },
    {
      "cell_type": "code",
      "metadata": {
        "colab": {
          "base_uri": "https://localhost:8080/"
        },
        "id": "wOF2DYMx5sHQ",
        "outputId": "e441c742-0792-4ca6-ca9e-51d12f5d675b"
      },
      "source": [
        "new_convert = df2.query('landing_page==\"new_page\" and converted == 1').count()[0]/df2['converted'].count()\r\n",
        "old_convert = df2.query('landing_page==\"old_page\" and converted == 1').count()[0]/df2['converted'].count()\r\n",
        "individually_convert = new_convert+old_convert\r\n",
        "individually_convert\r\n"
      ],
      "execution_count": 19,
      "outputs": [
        {
          "output_type": "execute_result",
          "data": {
            "text/plain": [
              "0.11959749882133504"
            ]
          },
          "metadata": {
            "tags": []
          },
          "execution_count": 19
        }
      ]
    },
    {
      "cell_type": "markdown",
      "metadata": {
        "id": "tAWa8Vbo_Fee"
      },
      "source": [
        "Given that an individual was in the control group, what is the probability they converted?"
      ]
    },
    {
      "cell_type": "code",
      "metadata": {
        "colab": {
          "base_uri": "https://localhost:8080/"
        },
        "id": "qmvvQC31_HQY",
        "outputId": "6806c59c-5e70-4121-d926-128eae4dfd5f"
      },
      "source": [
        "df2.query('group==\"control\" and converted == 1').count()[0]/df2.query('group==\"control\"').count()[0]\r\n"
      ],
      "execution_count": 20,
      "outputs": [
        {
          "output_type": "execute_result",
          "data": {
            "text/plain": [
              "0.1203863045004612"
            ]
          },
          "metadata": {
            "tags": []
          },
          "execution_count": 20
        }
      ]
    },
    {
      "cell_type": "markdown",
      "metadata": {
        "id": "yldVTVoWDkVm"
      },
      "source": [
        "Given that an individual was in the treatment group, what is the probability they converted?"
      ]
    },
    {
      "cell_type": "code",
      "metadata": {
        "colab": {
          "base_uri": "https://localhost:8080/"
        },
        "id": "7njs2KLSupRa",
        "outputId": "29409e3f-95ec-40bb-f0a9-432a8d89264d"
      },
      "source": [
        "df2.query('group==\"treatment\" and converted == 1').count()[0]/df2.query('group==\"treatment\"').count()[0]\r\n"
      ],
      "execution_count": 21,
      "outputs": [
        {
          "output_type": "execute_result",
          "data": {
            "text/plain": [
              "0.11880888313869065"
            ]
          },
          "metadata": {
            "tags": []
          },
          "execution_count": 21
        }
      ]
    },
    {
      "cell_type": "markdown",
      "metadata": {
        "id": "mSW8bMqnEdUR"
      },
      "source": [
        "What is the probability that an individual received the new page?"
      ]
    },
    {
      "cell_type": "code",
      "metadata": {
        "colab": {
          "base_uri": "https://localhost:8080/"
        },
        "id": "gBmkUPioGrpw",
        "outputId": "0c73e27d-0f6c-4ae9-e843-963776aa56e3"
      },
      "source": [
        "control = df2.query('group==\"control\" and landing_page == \"new_page\"').count()[0]/df2['landing_page'].count()\r\n",
        "treatment = df2.query('group==\"treatment\" and landing_page == \"new_page\"').count()[0]/df2['landing_page'].count()\r\n",
        "individual_new_page = control+treatment\r\n",
        "individual_new_page"
      ],
      "execution_count": 22,
      "outputs": [
        {
          "output_type": "execute_result",
          "data": {
            "text/plain": [
              "0.5000602237570677"
            ]
          },
          "metadata": {
            "tags": []
          },
          "execution_count": 22
        }
      ]
    },
    {
      "cell_type": "markdown",
      "metadata": {
        "id": "n5g1j7OKLQTY"
      },
      "source": [
        "Consider your results from parts (a) through (d) above, and explain below whether you think there is sufficient evidence to conclude that the new treatment page leads to more conversions.\r\n",
        "\r\n",
        "The probability of converting in control group is 0.1% higher than treatment group, we have evidence that there is a little increment of conversion, we might do little better to increase more conversion. Little change make a big effect sometimes. There is 12% pf users who converted treament they like new_page more than old_page. Probability of receiving new_page is 50%. We have all of these evidence that shows our new_page can have more conversions."
      ]
    },
    {
      "cell_type": "markdown",
      "metadata": {
        "id": "3ep9jU-mzcIQ"
      },
      "source": [
        "# Part II - A/B Test\r\n",
        "\r\n",
        "Notice that because of the time stamp associated with each event, you could technically run a hypothesis test continuously as each observation was observed.\r\n",
        "\r\n",
        "However, then the hard question is do you stop as soon as one page is considered significantly better than another or does it need to happen consistently for a certain amount of time? How long do you run to render a decision that neither page is better than another?\r\n",
        "\r\n",
        "These questions are the difficult parts associated with A/B tests in general.\r\n",
        "\r\n",
        "1. For now, consider you need to make the decision just based on all the data provided. If you want to assume that the old page is better unless the new page proves to be definitely better at a Type I error rate of 5%, what should your null and alternative hypotheses be? You can state your hypothesis in terms of words or in terms of 𝑝𝑜𝑙𝑑\r\n",
        "and 𝑝𝑛𝑒𝑤, which are the converted rates for the old and new pages.\r\n",
        "\r\n",
        "H0: Pnew <= Pold\r\n",
        "\r\n",
        "H1 : Pnew > Pold\r\n",
        "\r\n",
        "From the above calculations shows that there is a small increment in new page. In type 1 error, we reject null hypothesis in favour of alternative. We want to prove that new page is better than old page in favour of 5% of type 1 error rate."
      ]
    },
    {
      "cell_type": "markdown",
      "metadata": {
        "id": "OK9zedgJ4OYY"
      },
      "source": [
        "2. Assume under the null hypothesis, 𝑝𝑛𝑒𝑤 and 𝑝𝑜𝑙𝑑 both have \"true\" success rates equal to the converted success rate regardless of page - that is 𝑝𝑛𝑒𝑤 and 𝑝𝑜𝑙𝑑\r\n",
        "\r\n",
        "are equal. Furthermore, assume they are equal to the converted rate in ab_data.csv regardless of the page.\r\n",
        "\r\n",
        "Use a sample size for each page equal to the ones in ab_data.csv.\r\n",
        "\r\n",
        "Perform the sampling distribution for the difference in converted between the two pages over 10,000 iterations of calculating an estimate from the null. "
      ]
    },
    {
      "cell_type": "markdown",
      "metadata": {
        "id": "KRV6RZzD75X0"
      },
      "source": [
        "a. What is the conversion rate for 𝑝𝑛𝑒𝑤 under the null? "
      ]
    },
    {
      "cell_type": "markdown",
      "metadata": {
        "id": "iWRAn8-TBFeG"
      },
      "source": [
        "b. What is the conversion rate for 𝑝𝑜𝑙𝑑 under the null? "
      ]
    },
    {
      "cell_type": "code",
      "metadata": {
        "colab": {
          "base_uri": "https://localhost:8080/"
        },
        "id": "Kdopf8aXEGuL",
        "outputId": "7dccc1e8-6889-4688-9910-f94f163a7f8d"
      },
      "source": [
        "p_new = p_old = df1['converted'].mean()\r\n",
        "p_new, p_old"
      ],
      "execution_count": 23,
      "outputs": [
        {
          "output_type": "execute_result",
          "data": {
            "text/plain": [
              "(0.11965919355605512, 0.11965919355605512)"
            ]
          },
          "metadata": {
            "tags": []
          },
          "execution_count": 23
        }
      ]
    },
    {
      "cell_type": "markdown",
      "metadata": {
        "id": "qde9msh7BORE"
      },
      "source": [
        "c. What is 𝑛𝑛𝑒𝑤, the number of individuals in the treatment group?"
      ]
    },
    {
      "cell_type": "code",
      "metadata": {
        "colab": {
          "base_uri": "https://localhost:8080/"
        },
        "id": "AiIs7FiqNCUt",
        "outputId": "97062553-b450-4898-ba16-a693aa959bb1"
      },
      "source": [
        "nnew = df2.query('group == \"treatment\"')['user_id'].shape[0]\r\n",
        "nnew"
      ],
      "execution_count": 24,
      "outputs": [
        {
          "output_type": "execute_result",
          "data": {
            "text/plain": [
              "145309"
            ]
          },
          "metadata": {
            "tags": []
          },
          "execution_count": 24
        }
      ]
    },
    {
      "cell_type": "markdown",
      "metadata": {
        "id": "uMK2y-6XHobK"
      },
      "source": [
        " What is 𝑛𝑜𝑙𝑑, the number of individuals in the control group?"
      ]
    },
    {
      "cell_type": "code",
      "metadata": {
        "colab": {
          "base_uri": "https://localhost:8080/"
        },
        "id": "CTMmiZJIHqgg",
        "outputId": "4d8c70b0-c8a0-4d84-f9da-8e505fea882d"
      },
      "source": [
        "nold = df2.query('group == \"control\"')['user_id'].shape[0]\r\n",
        "nold"
      ],
      "execution_count": 25,
      "outputs": [
        {
          "output_type": "execute_result",
          "data": {
            "text/plain": [
              "145274"
            ]
          },
          "metadata": {
            "tags": []
          },
          "execution_count": 25
        }
      ]
    },
    {
      "cell_type": "markdown",
      "metadata": {
        "id": "1QUNLCDTISMV"
      },
      "source": [
        "p_new - p_old under the null."
      ]
    },
    {
      "cell_type": "code",
      "metadata": {
        "colab": {
          "base_uri": "https://localhost:8080/"
        },
        "id": "BBapb_3pIUaG",
        "outputId": "ff64731c-b960-4abb-a171-78f05ae05255"
      },
      "source": [
        "p_new-p_old"
      ],
      "execution_count": 26,
      "outputs": [
        {
          "output_type": "execute_result",
          "data": {
            "text/plain": [
              "0.0"
            ]
          },
          "metadata": {
            "tags": []
          },
          "execution_count": 26
        }
      ]
    },
    {
      "cell_type": "markdown",
      "metadata": {
        "id": "GeWbnLGZOG5O"
      },
      "source": [
        "e. Simulate 𝑛𝑛𝑒𝑤 transactions with a conversion rate of 𝑝𝑛𝑒𝑤 under the null. Store these 𝑛𝑛𝑒𝑤 1's and 0's in new_page_converted."
      ]
    },
    {
      "cell_type": "code",
      "metadata": {
        "colab": {
          "base_uri": "https://localhost:8080/"
        },
        "id": "Pjt_5UnuPUhP",
        "outputId": "230f0cdb-8d37-4986-f141-227c23dd77c3"
      },
      "source": [
        "#We need to check whether the simulated data creates a normal distribution or not. \r\n",
        "#In addition, we want to check what the data should look like under the null hypothesis.\r\n",
        "new_page_converted = np.random.choice([0,1], size=nnew, p = [1-p_new, p_new])\r\n",
        "new_page_converted"
      ],
      "execution_count": 27,
      "outputs": [
        {
          "output_type": "execute_result",
          "data": {
            "text/plain": [
              "array([0, 0, 0, ..., 1, 0, 0])"
            ]
          },
          "metadata": {
            "tags": []
          },
          "execution_count": 27
        }
      ]
    },
    {
      "cell_type": "markdown",
      "metadata": {
        "id": "erWx4LLUWpY-"
      },
      "source": [
        "f. Simulate 𝑛𝑜𝑙𝑑 transactions with a conversion rate of 𝑝𝑜𝑙𝑑 under the null. Store these 𝑛𝑜𝑙𝑑 1's and 0's in old_page_converted."
      ]
    },
    {
      "cell_type": "code",
      "metadata": {
        "colab": {
          "base_uri": "https://localhost:8080/"
        },
        "id": "qAxXcuFiWr0N",
        "outputId": "98ce442d-219c-46af-f6aa-cc2400fce4dc"
      },
      "source": [
        "old_page_converted = np.random.choice([0,1], size= nold, p=[1-p_old, p_old])\r\n",
        "old_page_converted"
      ],
      "execution_count": 28,
      "outputs": [
        {
          "output_type": "execute_result",
          "data": {
            "text/plain": [
              "array([0, 0, 0, ..., 0, 1, 0])"
            ]
          },
          "metadata": {
            "tags": []
          },
          "execution_count": 28
        }
      ]
    },
    {
      "cell_type": "markdown",
      "metadata": {
        "id": "AAU6etiFX-Xx"
      },
      "source": [
        "g. Find 𝑝𝑛𝑒𝑤 - 𝑝𝑜𝑙𝑑 for your simulated values from part (e) and (f)."
      ]
    },
    {
      "cell_type": "code",
      "metadata": {
        "colab": {
          "base_uri": "https://localhost:8080/"
        },
        "id": "DKGDYmONYADW",
        "outputId": "26de904c-de3b-41c2-8018-313a3c00b105"
      },
      "source": [
        "obs_diff = new_page_converted.mean() - old_page_converted.mean()\r\n",
        "obs_diff"
      ],
      "execution_count": 29,
      "outputs": [
        {
          "output_type": "execute_result",
          "data": {
            "text/plain": [
              "-0.0009026930992362542"
            ]
          },
          "metadata": {
            "tags": []
          },
          "execution_count": 29
        }
      ]
    },
    {
      "cell_type": "markdown",
      "metadata": {
        "id": "kRYUgQGEbWy-"
      },
      "source": [
        "h. Create 10,000 𝑝𝑛𝑒𝑤 - 𝑝𝑜𝑙𝑑\r\n",
        "\r\n",
        "values using the same simulation process you used in parts (a) through (g) above. Store all 10,000 values in a NumPy array called p_diffs.\r\n",
        "\r\n",
        "​"
      ]
    },
    {
      "cell_type": "code",
      "metadata": {
        "colab": {
          "base_uri": "https://localhost:8080/"
        },
        "id": "5JCLM7-2c5mo",
        "outputId": "95a95dda-625a-4df3-e4c2-dd78dce8076f"
      },
      "source": [
        "p_diffs = []\r\n",
        "for _ in range(10000):\r\n",
        "  new_converted = np.random.choice([0,1], size = nnew, p = [1-p_new, p_new])\r\n",
        "  old_converted = np.random.choice([0,1], size= nold, p = [1-p_old, p_old])\r\n",
        "  diff = new_converted.mean() - old_converted.mean()\r\n",
        "  p_diffs.append(diff)\r\n",
        "p_diffs = np.array(p_diffs)\r\n",
        "(p_diffs>obs_diff).mean()"
      ],
      "execution_count": 30,
      "outputs": [
        {
          "output_type": "execute_result",
          "data": {
            "text/plain": [
              "0.7681"
            ]
          },
          "metadata": {
            "tags": []
          },
          "execution_count": 30
        }
      ]
    },
    {
      "cell_type": "markdown",
      "metadata": {
        "id": "QFfQ47cJbzrN"
      },
      "source": [
        "i. Plot a histogram of the p_diffs. Does this plot look like what you expected? Use the matching problem in the classroom to assure you fully understand what was computed here.\r\n",
        "\r\n",
        "​"
      ]
    },
    {
      "cell_type": "code",
      "metadata": {
        "colab": {
          "base_uri": "https://localhost:8080/",
          "height": 313
        },
        "id": "kLBS_J0xcpS-",
        "outputId": "fed54835-24f6-4c25-b6ce-7438e9b99cbb"
      },
      "source": [
        "plt.hist(p_diffs)\r\n",
        "plt.title('sampling distribution for the difference in means of new and old page conversion')\r\n",
        "plt.axvline(x = p_diffs.mean(), color = 'r')\r\n",
        "plt.xlabel('Average number of conversion in both pages')\r\n",
        "plt.ylabel('count')"
      ],
      "execution_count": 31,
      "outputs": [
        {
          "output_type": "execute_result",
          "data": {
            "text/plain": [
              "Text(0, 0.5, 'count')"
            ]
          },
          "metadata": {
            "tags": []
          },
          "execution_count": 31
        },
        {
          "output_type": "display_data",
          "data": {
            "image/png": "[encoded data removed]",
            "text/plain": [
              "<Figure size 432x288 with 1 Axes>"
            ]
          },
          "metadata": {
            "tags": [],
            "needs_background": "light"
          }
        }
      ]
    },
    {
      "cell_type": "markdown",
      "metadata": {
        "id": "iD2WM5KJgjqv"
      },
      "source": [
        "Histogram of sampling distrbution seems to me normally distributed and our p value is to be right of the plot, pvalue is less than 5% so we reject null hypothesis in favor of alternative hypothesis."
      ]
    },
    {
      "cell_type": "markdown",
      "metadata": {
        "id": "cdiktL1Oh4Dc"
      },
      "source": [
        "j. What proportion of the p_diffs are greater than the actual difference observed in ab_data.csv?\r\n",
        "\r\n",
        "​"
      ]
    },
    {
      "cell_type": "code",
      "metadata": {
        "colab": {
          "base_uri": "https://localhost:8080/"
        },
        "id": "hmv7U0gKn6xY",
        "outputId": "9a98939b-0d24-4b98-9160-97fd17cfaf0e"
      },
      "source": [
        "p_diffs = np.array(p_diffs) #converting p_diffs in array\r\n",
        "p_diffs"
      ],
      "execution_count": 32,
      "outputs": [
        {
          "output_type": "execute_result",
          "data": {
            "text/plain": [
              "array([-1.36408455e-03, -7.01755419e-05,  3.29139658e-04, ...,\n",
              "       -1.41237050e-03,  2.74077937e-04,  6.59587914e-04])"
            ]
          },
          "metadata": {
            "tags": []
          },
          "execution_count": 32
        }
      ]
    },
    {
      "cell_type": "code",
      "metadata": {
        "colab": {
          "base_uri": "https://localhost:8080/"
        },
        "id": "U8GWbiveoN9e",
        "outputId": "5e580b82-7441-4262-a76d-875fb80cbd74"
      },
      "source": [
        "#finding obseerved difference between tretment and control group conversion\r\n",
        "observed_diff = df2.query('group == \"treatment\"')['converted'].mean()- df2.query('group == \"control\"')['converted'].mean()\r\n",
        "observed_diff"
      ],
      "execution_count": 33,
      "outputs": [
        {
          "output_type": "execute_result",
          "data": {
            "text/plain": [
              "-0.0015774213617705535"
            ]
          },
          "metadata": {
            "tags": []
          },
          "execution_count": 33
        }
      ]
    },
    {
      "cell_type": "code",
      "metadata": {
        "colab": {
          "base_uri": "https://localhost:8080/"
        },
        "id": "vq_51g_jpaiB",
        "outputId": "c87fcd5e-3334-45db-ef2d-a5643c6d4f5d"
      },
      "source": [
        "#See the sampling distribution of group conversion is greater than the actual observation.\r\n",
        "(p_diffs>observed_diff)"
      ],
      "execution_count": 34,
      "outputs": [
        {
          "output_type": "execute_result",
          "data": {
            "text/plain": [
              "array([ True,  True,  True, ...,  True,  True,  True])"
            ]
          },
          "metadata": {
            "tags": []
          },
          "execution_count": 34
        }
      ]
    },
    {
      "cell_type": "code",
      "metadata": {
        "colab": {
          "base_uri": "https://localhost:8080/"
        },
        "id": "_AlYKekcp16v",
        "outputId": "a570eac1-7ca0-4373-fa16-6b6baffbe6cb"
      },
      "source": [
        "#proportion of the p_diffs are greater than the actual difference observed in ab_data.csv\r\n",
        "(p_diffs>observed_diff).mean()"
      ],
      "execution_count": 35,
      "outputs": [
        {
          "output_type": "execute_result",
          "data": {
            "text/plain": [
              "0.9024"
            ]
          },
          "metadata": {
            "tags": []
          },
          "execution_count": 35
        }
      ]
    },
    {
      "cell_type": "markdown",
      "metadata": {
        "id": "tTiDP9o3rUg4"
      },
      "source": [
        "k. Please explain using the vocabulary you've learned in this course what you just computed in part j. What is this value called in scientific studies? What does this value mean in terms of whether or not there is a difference between the new and old pages?\r\n",
        "\r\n",
        "Firstly, we setup our null and alternative hypothesis\r\n",
        "\r\n",
        "H0: Pnew <= Pold\r\n",
        "\r\n",
        "H1 : Pnew > Pold\r\n",
        "In the first part we found the pvalue under the null hypothesis where all conversion of users were equal in treatment and control group. pvalue from the smapling distribution was 0.4121 means our p value is greater than 95% of confidence interval, Therefore, we do not have evidence that we can reject null hypothesis in favour of alternate. \r\n",
        "Pvalue is the probability of observing your static if the null hypothesis is true."
      ]
    },
    {
      "cell_type": "markdown",
      "metadata": {
        "id": "KDHFg1W1ysXV"
      },
      "source": [
        "l. We could also use a built-in to achieve similar results. Though using the built-in might be easier to code, the above portions are a walkthrough of the ideas that are critical to correctly thinking about statistical significance. Fill in the below to calculate the number of conversions for each page, as well as the number of individuals who received each page. Let n_old and n_new refer the the number of rows associated with the old page and new pages, respectively."
      ]
    },
    {
      "cell_type": "code",
      "metadata": {
        "colab": {
          "base_uri": "https://localhost:8080/"
        },
        "id": "VLpd9PvyzPSq",
        "outputId": "892d69f3-6367-40af-da83-d2fd4cc56db6"
      },
      "source": [
        "import statsmodels.api as sm\r\n",
        "\r\n",
        "convert_old = df2.query('landing_page== \"old_page\" and converted == 1').count()[0]\r\n",
        "convert_new = df2.query('landing_page== \"new_page\" and converted == 1').count()[0]\r\n",
        "n_old = df2.query('landing_page== \"old_page\"').count()[0]\r\n",
        "n_new = df2.query('landing_page== \"new_page\"').count()[0]\r\n",
        "print(\"converted_old:\", convert_old)\r\n",
        "print(\"converted_new:\", convert_new)\r\n",
        "print(\"n_old:\", n_old)\r\n",
        "print(\"n_new:\", n_new)"
      ],
      "execution_count": 36,
      "outputs": [
        {
          "output_type": "stream",
          "text": [
            "/usr/local/lib/python3.6/dist-packages/statsmodels/tools/_testing.py:19: FutureWarning: pandas.util.testing is deprecated. Use the functions in the public API at pandas.testing instead.\n",
            "  import pandas.util.testing as tm\n"
          ],
          "name": "stderr"
        },
        {
          "output_type": "stream",
          "text": [
            "converted_old: 17489\n",
            "converted_new: 17264\n",
            "n_old: 145274\n",
            "n_new: 145309\n"
          ],
          "name": "stdout"
        }
      ]
    },
    {
      "cell_type": "markdown",
      "metadata": {
        "id": "jCMRqUnk56EP"
      },
      "source": [
        "m. Now use stats.proportions_ztest to compute your test statistic and p-value. Here is a helpful link on using the built in."
      ]
    },
    {
      "cell_type": "code",
      "metadata": {
        "colab": {
          "base_uri": "https://localhost:8080/"
        },
        "id": "HGJJInpxRjy7",
        "outputId": "5fdcb6e0-470a-4d73-9372-1b07dcb8f709"
      },
      "source": [
        "#H0: pold = pnew\r\n",
        "#H1: pold != pnew\r\n",
        "#from statsmodels.stats.proportion import stats.proportions_ztest\r\n",
        "no_of_success = ([17489,17264])\r\n",
        "total_sample = ([145274, 145309])\r\n",
        "z_score, p_value = sm.stats.proportions_ztest(no_of_success, total_sample, alternative='smaller')\r\n",
        "print('z_score {}'.format(z_score))\r\n",
        "print('p_value {}'.format(p_value))"
      ],
      "execution_count": 37,
      "outputs": [
        {
          "output_type": "stream",
          "text": [
            "z_score 1.3102408579271012\n",
            "p_value 0.9049428161159749\n"
          ],
          "name": "stdout"
        }
      ]
    },
    {
      "cell_type": "code",
      "metadata": {
        "id": "GwT_s_eoToHB",
        "colab": {
          "base_uri": "https://localhost:8080/"
        },
        "outputId": "d8602174-5de9-4f22-caf8-71b3d1331360"
      },
      "source": [
        "#critcal_value = (1-0.05)= 0.95\r\n",
        "#from the z table of right tail \r\n",
        "1.65"
      ],
      "execution_count": 99,
      "outputs": [
        {
          "output_type": "execute_result",
          "data": {
            "text/plain": [
              "1.65"
            ]
          },
          "metadata": {
            "tags": []
          },
          "execution_count": 99
        }
      ]
    },
    {
      "cell_type": "markdown",
      "metadata": {
        "id": "7Em-XKQncAG3"
      },
      "source": [
        "n. What do the z-score and p-value you computed in the previous question mean for the conversion rates of the old and new pages? Do they agree with the findings in parts j. and k.?\r\n",
        "\r\n",
        "In the previous question  pvlaue is exactly the as same as computed through statsmodel left tail test. In the begining question we set up that old page is better than new page in the null hypothesis in favour of 5% of type 1 error rate. From the all calculations with population and  with sample we found that pvalue is greater than 5% of type 1 error error rate. P vlaue is 0.9 which is grater than 0.05, It's not statistical significant and strong evidence for null hypothesis. We fail to reject null hypothesis.\r\n"
      ]
    },
    {
      "cell_type": "markdown",
      "metadata": {
        "id": "Qkif_X_ZVKeH"
      },
      "source": [
        "## Part III - A regression approach\r\n",
        "\r\n",
        "1.In this final part, you will see that the result you achieved in the A/B test in Part II above can also be achieved by performing regression.\r\n",
        "\r\n",
        "a. Since each row is either a conversion or no conversion, what type of regression should you be performing in this case?\r\n",
        "\r\n",
        "Logistic regression should be better for that dataset. Logistic regression is a regression approach used to predict only two possible outcomes, here we have to predict whether user convert to treatmetn group or not."
      ]
    },
    {
      "cell_type": "markdown",
      "metadata": {
        "id": "cmnkvvzPbfRQ"
      },
      "source": [
        "b. The goal is to use statsmodels to fit the regression model you specified in part a. to see if there is a significant difference in conversion based on which page a customer receives. However, you first need to create in df2 a column for the intercept, and create a dummy variable column for which page each user received. Add an intercept column, as well as an ab_page column, which is 1 when an individual receives the treatment and 0 if control."
      ]
    },
    {
      "cell_type": "code",
      "metadata": {
        "id": "Cng5aa3VlzrE"
      },
      "source": [
        "df2['intercept'] = 1\r\n",
        "df2['ab_page'] = pd.get_dummies(df2['group'])['treatment']\r\n"
      ],
      "execution_count": 38,
      "outputs": []
    },
    {
      "cell_type": "code",
      "metadata": {
        "colab": {
          "base_uri": "https://localhost:8080/",
          "height": 175
        },
        "id": "OE_0mhquciVa",
        "outputId": "3b935430-9bb3-4fce-d160-23bd97b2a201"
      },
      "source": [
        "df2.head(4)"
      ],
      "execution_count": 173,
      "outputs": [
        {
          "output_type": "execute_result",
          "data": {
            "text/html": [
              "<div>\n",
              "<style scoped>\n",
              "    .dataframe tbody tr th:only-of-type {\n",
              "        vertical-align: middle;\n",
              "    }\n",
              "\n",
              "    .dataframe tbody tr th {\n",
              "        vertical-align: top;\n",
              "    }\n",
              "\n",
              "    .dataframe thead th {\n",
              "        text-align: right;\n",
              "    }\n",
              "</style>\n",
              "<table border=\"1\" class=\"dataframe\">\n",
              "  <thead>\n",
              "    <tr style=\"text-align: right;\">\n",
              "      <th></th>\n",
              "      <th>user_id</th>\n",
              "      <th>timestamp</th>\n",
              "      <th>group</th>\n",
              "      <th>landing_page</th>\n",
              "      <th>converted</th>\n",
              "      <th>intercept</th>\n",
              "      <th>ab_page</th>\n",
              "    </tr>\n",
              "  </thead>\n",
              "  <tbody>\n",
              "    <tr>\n",
              "      <th>0</th>\n",
              "      <td>851104</td>\n",
              "      <td>2017-01-21 22:11:48.556739</td>\n",
              "      <td>control</td>\n",
              "      <td>old_page</td>\n",
              "      <td>0</td>\n",
              "      <td>1</td>\n",
              "      <td>0</td>\n",
              "    </tr>\n",
              "    <tr>\n",
              "      <th>1</th>\n",
              "      <td>804228</td>\n",
              "      <td>2017-01-12 08:01:45.159739</td>\n",
              "      <td>control</td>\n",
              "      <td>old_page</td>\n",
              "      <td>0</td>\n",
              "      <td>1</td>\n",
              "      <td>0</td>\n",
              "    </tr>\n",
              "    <tr>\n",
              "      <th>2</th>\n",
              "      <td>661590</td>\n",
              "      <td>2017-01-11 16:55:06.154213</td>\n",
              "      <td>treatment</td>\n",
              "      <td>new_page</td>\n",
              "      <td>0</td>\n",
              "      <td>1</td>\n",
              "      <td>1</td>\n",
              "    </tr>\n",
              "    <tr>\n",
              "      <th>3</th>\n",
              "      <td>853541</td>\n",
              "      <td>2017-01-08 18:28:03.143765</td>\n",
              "      <td>treatment</td>\n",
              "      <td>new_page</td>\n",
              "      <td>0</td>\n",
              "      <td>1</td>\n",
              "      <td>1</td>\n",
              "    </tr>\n",
              "  </tbody>\n",
              "</table>\n",
              "</div>"
            ],
            "text/plain": [
              "   user_id                   timestamp  ... intercept ab_page\n",
              "0   851104  2017-01-21 22:11:48.556739  ...         1       0\n",
              "1   804228  2017-01-12 08:01:45.159739  ...         1       0\n",
              "2   661590  2017-01-11 16:55:06.154213  ...         1       1\n",
              "3   853541  2017-01-08 18:28:03.143765  ...         1       1\n",
              "\n",
              "[4 rows x 7 columns]"
            ]
          },
          "metadata": {
            "tags": []
          },
          "execution_count": 173
        }
      ]
    },
    {
      "cell_type": "markdown",
      "metadata": {
        "id": "dcNknzb-lPIB"
      },
      "source": [
        "c. Use statsmodels to instantiate your regression model on the two columns you created in part b., then fit the model using the two columns you created in part b. to predict whether or not an individual converts. "
      ]
    },
    {
      "cell_type": "code",
      "metadata": {
        "colab": {
          "base_uri": "https://localhost:8080/",
          "height": 307
        },
        "id": "zGMH4g41lT-1",
        "outputId": "c8bc9e85-f47d-430b-b07e-c743a3b0aeca"
      },
      "source": [
        "logit = sm.Logit(df2['converted'], df2[['intercept', 'ab_page']])\r\n",
        "results = logit.fit()\r\n",
        "results.summary()"
      ],
      "execution_count": 39,
      "outputs": [
        {
          "output_type": "stream",
          "text": [
            "Optimization terminated successfully.\n",
            "         Current function value: 0.366119\n",
            "         Iterations 6\n"
          ],
          "name": "stdout"
        },
        {
          "output_type": "execute_result",
          "data": {
            "text/html": [
              "<table class=\"simpletable\">\n",
              "<caption>Logit Regression Results</caption>\n",
              "<tr>\n",
              "  <th>Dep. Variable:</th>       <td>converted</td>    <th>  No. Observations:  </th>   <td>290583</td>   \n",
              "</tr>\n",
              "<tr>\n",
              "  <th>Model:</th>                 <td>Logit</td>      <th>  Df Residuals:      </th>   <td>290581</td>   \n",
              "</tr>\n",
              "<tr>\n",
              "  <th>Method:</th>                 <td>MLE</td>       <th>  Df Model:          </th>   <td>     1</td>   \n",
              "</tr>\n",
              "<tr>\n",
              "  <th>Date:</th>            <td>Thu, 04 Feb 2021</td> <th>  Pseudo R-squ.:     </th>  <td>8.068e-06</td> \n",
              "</tr>\n",
              "<tr>\n",
              "  <th>Time:</th>                <td>14:00:32</td>     <th>  Log-Likelihood:    </th> <td>-1.0639e+05</td>\n",
              "</tr>\n",
              "<tr>\n",
              "  <th>converged:</th>             <td>True</td>       <th>  LL-Null:           </th> <td>-1.0639e+05</td>\n",
              "</tr>\n",
              "<tr>\n",
              "  <th>Covariance Type:</th>     <td>nonrobust</td>    <th>  LLR p-value:       </th>   <td>0.1901</td>   \n",
              "</tr>\n",
              "</table>\n",
              "<table class=\"simpletable\">\n",
              "<tr>\n",
              "      <td></td>         <th>coef</th>     <th>std err</th>      <th>z</th>      <th>P>|z|</th>  <th>[0.025</th>    <th>0.975]</th>  \n",
              "</tr>\n",
              "<tr>\n",
              "  <th>intercept</th> <td>   -1.9888</td> <td>    0.008</td> <td> -246.669</td> <td> 0.000</td> <td>   -2.005</td> <td>   -1.973</td>\n",
              "</tr>\n",
              "<tr>\n",
              "  <th>ab_page</th>   <td>   -0.0150</td> <td>    0.011</td> <td>   -1.310</td> <td> 0.190</td> <td>   -0.037</td> <td>    0.007</td>\n",
              "</tr>\n",
              "</table>"
            ],
            "text/plain": [
              "<class 'statsmodels.iolib.summary.Summary'>\n",
              "\"\"\"\n",
              "                           Logit Regression Results                           \n",
              "==============================================================================\n",
              "Dep. Variable:              converted   No. Observations:               290583\n",
              "Model:                          Logit   Df Residuals:                   290581\n",
              "Method:                           MLE   Df Model:                            1\n",
              "Date:                Thu, 04 Feb 2021   Pseudo R-squ.:               8.068e-06\n",
              "Time:                        14:00:32   Log-Likelihood:            -1.0639e+05\n",
              "converged:                       True   LL-Null:                   -1.0639e+05\n",
              "Covariance Type:            nonrobust   LLR p-value:                    0.1901\n",
              "==============================================================================\n",
              "                 coef    std err          z      P>|z|      [0.025      0.975]\n",
              "------------------------------------------------------------------------------\n",
              "intercept     -1.9888      0.008   -246.669      0.000      -2.005      -1.973\n",
              "ab_page       -0.0150      0.011     -1.310      0.190      -0.037       0.007\n",
              "==============================================================================\n",
              "\"\"\""
            ]
          },
          "metadata": {
            "tags": []
          },
          "execution_count": 39
        }
      ]
    },
    {
      "cell_type": "code",
      "metadata": {
        "colab": {
          "base_uri": "https://localhost:8080/"
        },
        "id": "nxU9s76inrKw",
        "outputId": "3530def7-e74f-4d21-f71b-201494330317"
      },
      "source": [
        "#log odds\r\n",
        "print(results.params)"
      ],
      "execution_count": 175,
      "outputs": [
        {
          "output_type": "stream",
          "text": [
            "intercept   -1.988777\n",
            "ab_page     -0.014981\n",
            "dtype: float64\n"
          ],
          "name": "stdout"
        }
      ]
    },
    {
      "cell_type": "code",
      "metadata": {
        "colab": {
          "base_uri": "https://localhost:8080/"
        },
        "id": "SVU1NyUmn5_Q",
        "outputId": "85462351-785e-453d-985c-8804f18f3bb3"
      },
      "source": [
        "np.exp(results.params)"
      ],
      "execution_count": 40,
      "outputs": [
        {
          "output_type": "execute_result",
          "data": {
            "text/plain": [
              "intercept    0.136863\n",
              "ab_page      0.985130\n",
              "dtype: float64"
            ]
          },
          "metadata": {
            "tags": []
          },
          "execution_count": 40
        }
      ]
    },
    {
      "cell_type": "code",
      "metadata": {
        "colab": {
          "base_uri": "https://localhost:8080/"
        },
        "id": "ClHdtMC9oKmx",
        "outputId": "53249942-fd7e-46a1-f636-f4529dd4c4a3"
      },
      "source": [
        "1/_"
      ],
      "execution_count": 41,
      "outputs": [
        {
          "output_type": "execute_result",
          "data": {
            "text/plain": [
              "intercept    7.306593\n",
              "ab_page      1.015094\n",
              "dtype: float64"
            ]
          },
          "metadata": {
            "tags": []
          },
          "execution_count": 41
        }
      ]
    },
    {
      "cell_type": "markdown",
      "metadata": {
        "id": "UuPME7Wwt523"
      },
      "source": [
        "d. Provide the summary of your model below, and use it as necessary to answer the following questions.\r\n"
      ]
    },
    {
      "cell_type": "markdown",
      "metadata": {
        "id": "wzKsQn9o1pXA"
      },
      "source": [
        "e. What is the p-value associated with ab_page? Why does it differ from the value you found in Part II?\r\n",
        "The p-value is 0.190 associated with ap_page which is higher than error rate.\r\n",
        "The p-value is part II is 0.90 from z-test and and from the observed difference of conversion rate. In z-test we used one tail test, and the value was 0.90 which is higher than error rate. In the part II null and alternative hypothesis are:\r\n",
        "\r\n",
        "H0: Pnew <= Pold\r\n",
        "\r\n",
        "H1 : Pnew > Pold\r\n",
        "\r\n",
        "In the regression model we are used two tail test:\r\n",
        "\r\n",
        "H0: Pnew = Pold\r\n",
        "\r\n",
        "H1 : Pnew != Pold\r\n",
        "\r\n",
        "It is not statistically significant that new page is better than old page from the regression model.\r\n",
        "\r\n"
      ]
    },
    {
      "cell_type": "markdown",
      "metadata": {
        "id": "Az26THu2NQS6"
      },
      "source": [
        "f. Now, you are considering other things that might influence whether or not an individual converts. Discuss why it is a good idea to consider other factors to add into your regression model. Are there any disadvantages to adding additional terms into your regression model?\r\n",
        "\r\n",
        "If we use other factors that might influence conversion rate in our webpage, but our model is not statistically significant in favour of alternative hypothesis. In the same model we can improve old page instead of launching new page, and it would be cost efficency. Using other factors in the webpage that might cost too. "
      ]
    },
    {
      "cell_type": "markdown",
      "metadata": {
        "id": "ALZVlYrpyYBp"
      },
      "source": [
        "g. Now along with testing if the conversion rate changes for different pages, also add an effect based on which country a user lives in. You will need to read in the countries.csv dataset and merge together your datasets on the appropriate rows.\r\n",
        "\r\n",
        "Does it appear that country had an impact on conversion? Don't forget to create dummy variables for these country columns - Hint: You will need two columns for the three dummy variables. Provide the statistical output as well as a written response to answer this question."
      ]
    },
    {
      "cell_type": "code",
      "metadata": {
        "colab": {
          "base_uri": "https://localhost:8080/",
          "height": 206
        },
        "id": "VIEiT3lyodDj",
        "outputId": "bb3e3b36-47c8-4117-87f0-6170a01f3c36"
      },
      "source": [
        "#reding and print few lines of country data.\r\n",
        "df = df1 = pd.read_csv('/content/drive/My Drive/Colab Notebooks/udacity_projects/countries.csv')\r\n",
        "df.head(5)"
      ],
      "execution_count": 42,
      "outputs": [
        {
          "output_type": "execute_result",
          "data": {
            "text/html": [
              "<div>\n",
              "<style scoped>\n",
              "    .dataframe tbody tr th:only-of-type {\n",
              "        vertical-align: middle;\n",
              "    }\n",
              "\n",
              "    .dataframe tbody tr th {\n",
              "        vertical-align: top;\n",
              "    }\n",
              "\n",
              "    .dataframe thead th {\n",
              "        text-align: right;\n",
              "    }\n",
              "</style>\n",
              "<table border=\"1\" class=\"dataframe\">\n",
              "  <thead>\n",
              "    <tr style=\"text-align: right;\">\n",
              "      <th></th>\n",
              "      <th>user_id</th>\n",
              "      <th>country</th>\n",
              "    </tr>\n",
              "  </thead>\n",
              "  <tbody>\n",
              "    <tr>\n",
              "      <th>0</th>\n",
              "      <td>834778</td>\n",
              "      <td>UK</td>\n",
              "    </tr>\n",
              "    <tr>\n",
              "      <th>1</th>\n",
              "      <td>928468</td>\n",
              "      <td>US</td>\n",
              "    </tr>\n",
              "    <tr>\n",
              "      <th>2</th>\n",
              "      <td>822059</td>\n",
              "      <td>UK</td>\n",
              "    </tr>\n",
              "    <tr>\n",
              "      <th>3</th>\n",
              "      <td>711597</td>\n",
              "      <td>UK</td>\n",
              "    </tr>\n",
              "    <tr>\n",
              "      <th>4</th>\n",
              "      <td>710616</td>\n",
              "      <td>UK</td>\n",
              "    </tr>\n",
              "  </tbody>\n",
              "</table>\n",
              "</div>"
            ],
            "text/plain": [
              "   user_id country\n",
              "0   834778      UK\n",
              "1   928468      US\n",
              "2   822059      UK\n",
              "3   711597      UK\n",
              "4   710616      UK"
            ]
          },
          "metadata": {
            "tags": []
          },
          "execution_count": 42
        }
      ]
    },
    {
      "cell_type": "code",
      "metadata": {
        "id": "2eQmdFEzWT_6"
      },
      "source": [
        "df2 = df.set_index('user_id').join(df2.set_index('user_id'), how='inner')"
      ],
      "execution_count": 43,
      "outputs": []
    },
    {
      "cell_type": "code",
      "metadata": {
        "colab": {
          "base_uri": "https://localhost:8080/",
          "height": 112
        },
        "id": "DV63kbvQWlZo",
        "outputId": "3d16bf19-282c-412e-e2f7-f29544488125"
      },
      "source": [
        "df2.head(1)"
      ],
      "execution_count": 44,
      "outputs": [
        {
          "output_type": "execute_result",
          "data": {
            "text/html": [
              "<div>\n",
              "<style scoped>\n",
              "    .dataframe tbody tr th:only-of-type {\n",
              "        vertical-align: middle;\n",
              "    }\n",
              "\n",
              "    .dataframe tbody tr th {\n",
              "        vertical-align: top;\n",
              "    }\n",
              "\n",
              "    .dataframe thead th {\n",
              "        text-align: right;\n",
              "    }\n",
              "</style>\n",
              "<table border=\"1\" class=\"dataframe\">\n",
              "  <thead>\n",
              "    <tr style=\"text-align: right;\">\n",
              "      <th></th>\n",
              "      <th>country</th>\n",
              "      <th>timestamp</th>\n",
              "      <th>group</th>\n",
              "      <th>landing_page</th>\n",
              "      <th>converted</th>\n",
              "      <th>intercept</th>\n",
              "      <th>ab_page</th>\n",
              "    </tr>\n",
              "    <tr>\n",
              "      <th>user_id</th>\n",
              "      <th></th>\n",
              "      <th></th>\n",
              "      <th></th>\n",
              "      <th></th>\n",
              "      <th></th>\n",
              "      <th></th>\n",
              "      <th></th>\n",
              "    </tr>\n",
              "  </thead>\n",
              "  <tbody>\n",
              "    <tr>\n",
              "      <th>834778</th>\n",
              "      <td>UK</td>\n",
              "      <td>2017-01-14 23:08:43.304998</td>\n",
              "      <td>control</td>\n",
              "      <td>old_page</td>\n",
              "      <td>0</td>\n",
              "      <td>1</td>\n",
              "      <td>0</td>\n",
              "    </tr>\n",
              "  </tbody>\n",
              "</table>\n",
              "</div>"
            ],
            "text/plain": [
              "        country                   timestamp  ... intercept ab_page\n",
              "user_id                                      ...                  \n",
              "834778       UK  2017-01-14 23:08:43.304998  ...         1       0\n",
              "\n",
              "[1 rows x 7 columns]"
            ]
          },
          "metadata": {
            "tags": []
          },
          "execution_count": 44
        }
      ]
    },
    {
      "cell_type": "code",
      "metadata": {
        "colab": {
          "base_uri": "https://localhost:8080/",
          "height": 112
        },
        "id": "IcesEaiVzA0H",
        "outputId": "30aa1c2f-549c-4a93-f563-01b84a618c2d"
      },
      "source": [
        "df2[['UK', 'US', 'CA']] = pd.get_dummies(df2['country'])\r\n",
        "df2.head(1)"
      ],
      "execution_count": 45,
      "outputs": [
        {
          "output_type": "execute_result",
          "data": {
            "text/html": [
              "<div>\n",
              "<style scoped>\n",
              "    .dataframe tbody tr th:only-of-type {\n",
              "        vertical-align: middle;\n",
              "    }\n",
              "\n",
              "    .dataframe tbody tr th {\n",
              "        vertical-align: top;\n",
              "    }\n",
              "\n",
              "    .dataframe thead th {\n",
              "        text-align: right;\n",
              "    }\n",
              "</style>\n",
              "<table border=\"1\" class=\"dataframe\">\n",
              "  <thead>\n",
              "    <tr style=\"text-align: right;\">\n",
              "      <th></th>\n",
              "      <th>country</th>\n",
              "      <th>timestamp</th>\n",
              "      <th>group</th>\n",
              "      <th>landing_page</th>\n",
              "      <th>converted</th>\n",
              "      <th>intercept</th>\n",
              "      <th>ab_page</th>\n",
              "      <th>UK</th>\n",
              "      <th>US</th>\n",
              "      <th>CA</th>\n",
              "    </tr>\n",
              "    <tr>\n",
              "      <th>user_id</th>\n",
              "      <th></th>\n",
              "      <th></th>\n",
              "      <th></th>\n",
              "      <th></th>\n",
              "      <th></th>\n",
              "      <th></th>\n",
              "      <th></th>\n",
              "      <th></th>\n",
              "      <th></th>\n",
              "      <th></th>\n",
              "    </tr>\n",
              "  </thead>\n",
              "  <tbody>\n",
              "    <tr>\n",
              "      <th>834778</th>\n",
              "      <td>UK</td>\n",
              "      <td>2017-01-14 23:08:43.304998</td>\n",
              "      <td>control</td>\n",
              "      <td>old_page</td>\n",
              "      <td>0</td>\n",
              "      <td>1</td>\n",
              "      <td>0</td>\n",
              "      <td>0</td>\n",
              "      <td>1</td>\n",
              "      <td>0</td>\n",
              "    </tr>\n",
              "  </tbody>\n",
              "</table>\n",
              "</div>"
            ],
            "text/plain": [
              "        country                   timestamp    group  ... UK  US  CA\n",
              "user_id                                               ...           \n",
              "834778       UK  2017-01-14 23:08:43.304998  control  ...  0   1   0\n",
              "\n",
              "[1 rows x 10 columns]"
            ]
          },
          "metadata": {
            "tags": []
          },
          "execution_count": 45
        }
      ]
    },
    {
      "cell_type": "code",
      "metadata": {
        "colab": {
          "base_uri": "https://localhost:8080/",
          "height": 112
        },
        "id": "m-w_XochLySt",
        "outputId": "66e927c0-035c-48b0-f4d3-94513b88d426"
      },
      "source": [
        "df2 = df2.drop('CA', axis=1)\r\n",
        "df2.head(1)"
      ],
      "execution_count": 46,
      "outputs": [
        {
          "output_type": "execute_result",
          "data": {
            "text/html": [
              "<div>\n",
              "<style scoped>\n",
              "    .dataframe tbody tr th:only-of-type {\n",
              "        vertical-align: middle;\n",
              "    }\n",
              "\n",
              "    .dataframe tbody tr th {\n",
              "        vertical-align: top;\n",
              "    }\n",
              "\n",
              "    .dataframe thead th {\n",
              "        text-align: right;\n",
              "    }\n",
              "</style>\n",
              "<table border=\"1\" class=\"dataframe\">\n",
              "  <thead>\n",
              "    <tr style=\"text-align: right;\">\n",
              "      <th></th>\n",
              "      <th>country</th>\n",
              "      <th>timestamp</th>\n",
              "      <th>group</th>\n",
              "      <th>landing_page</th>\n",
              "      <th>converted</th>\n",
              "      <th>intercept</th>\n",
              "      <th>ab_page</th>\n",
              "      <th>UK</th>\n",
              "      <th>US</th>\n",
              "    </tr>\n",
              "    <tr>\n",
              "      <th>user_id</th>\n",
              "      <th></th>\n",
              "      <th></th>\n",
              "      <th></th>\n",
              "      <th></th>\n",
              "      <th></th>\n",
              "      <th></th>\n",
              "      <th></th>\n",
              "      <th></th>\n",
              "      <th></th>\n",
              "    </tr>\n",
              "  </thead>\n",
              "  <tbody>\n",
              "    <tr>\n",
              "      <th>834778</th>\n",
              "      <td>UK</td>\n",
              "      <td>2017-01-14 23:08:43.304998</td>\n",
              "      <td>control</td>\n",
              "      <td>old_page</td>\n",
              "      <td>0</td>\n",
              "      <td>1</td>\n",
              "      <td>0</td>\n",
              "      <td>0</td>\n",
              "      <td>1</td>\n",
              "    </tr>\n",
              "  </tbody>\n",
              "</table>\n",
              "</div>"
            ],
            "text/plain": [
              "        country                   timestamp    group  ... ab_page  UK  US\n",
              "user_id                                               ...                \n",
              "834778       UK  2017-01-14 23:08:43.304998  control  ...       0   0   1\n",
              "\n",
              "[1 rows x 9 columns]"
            ]
          },
          "metadata": {
            "tags": []
          },
          "execution_count": 46
        }
      ]
    },
    {
      "cell_type": "code",
      "metadata": {
        "colab": {
          "base_uri": "https://localhost:8080/"
        },
        "id": "O8dnZ93OLz51",
        "outputId": "3380fa50-ab29-41a9-b1f5-6d46a7615de2"
      },
      "source": [
        "df2.dtypes"
      ],
      "execution_count": 47,
      "outputs": [
        {
          "output_type": "execute_result",
          "data": {
            "text/plain": [
              "country         object\n",
              "timestamp       object\n",
              "group           object\n",
              "landing_page    object\n",
              "converted        int64\n",
              "intercept        int64\n",
              "ab_page          uint8\n",
              "UK               uint8\n",
              "US               uint8\n",
              "dtype: object"
            ]
          },
          "metadata": {
            "tags": []
          },
          "execution_count": 47
        }
      ]
    },
    {
      "cell_type": "code",
      "metadata": {
        "colab": {
          "base_uri": "https://localhost:8080/"
        },
        "id": "PUsG_jj9OhN1",
        "outputId": "ff831851-8913-4e03-cee5-cab0fdab8b49"
      },
      "source": [
        "df2.groupby('country').mean()['converted']"
      ],
      "execution_count": 48,
      "outputs": [
        {
          "output_type": "execute_result",
          "data": {
            "text/plain": [
              "country\n",
              "CA    0.115318\n",
              "UK    0.120594\n",
              "US    0.119547\n",
              "Name: converted, dtype: float64"
            ]
          },
          "metadata": {
            "tags": []
          },
          "execution_count": 48
        }
      ]
    },
    {
      "cell_type": "code",
      "metadata": {
        "colab": {
          "base_uri": "https://localhost:8080/"
        },
        "id": "o3oQyKzZVduj",
        "outputId": "19673d76-2a05-45c8-8e03-9501500d41c7"
      },
      "source": [
        "df2.groupby(['group', 'country']).mean()['converted']"
      ],
      "execution_count": 49,
      "outputs": [
        {
          "output_type": "execute_result",
          "data": {
            "text/plain": [
              "group      country\n",
              "control    CA         0.118783\n",
              "           UK         0.120022\n",
              "           US         0.120630\n",
              "treatment  CA         0.111902\n",
              "           UK         0.121171\n",
              "           US         0.118467\n",
              "Name: converted, dtype: float64"
            ]
          },
          "metadata": {
            "tags": []
          },
          "execution_count": 49
        }
      ]
    },
    {
      "cell_type": "code",
      "metadata": {
        "colab": {
          "base_uri": "https://localhost:8080/"
        },
        "id": "a_n-n5B1aqNm",
        "outputId": "1ecc9130-46cb-4f55-e5bb-b6dc6aa4e560"
      },
      "source": [
        "df2.groupby(['landing_page', 'country']).mean()['converted']"
      ],
      "execution_count": 50,
      "outputs": [
        {
          "output_type": "execute_result",
          "data": {
            "text/plain": [
              "landing_page  country\n",
              "new_page      CA         0.111902\n",
              "              UK         0.121171\n",
              "              US         0.118467\n",
              "old_page      CA         0.118783\n",
              "              UK         0.120022\n",
              "              US         0.120630\n",
              "Name: converted, dtype: float64"
            ]
          },
          "metadata": {
            "tags": []
          },
          "execution_count": 50
        }
      ]
    },
    {
      "cell_type": "markdown",
      "metadata": {
        "id": "PJwiEQYmbgMe"
      },
      "source": [
        "Does it appear that country had an impact on conversion? \r\n",
        "\r\n",
        "There is no impact rate of conversion in country. Users who lives in different countries, they are using same percentage of control group and treatment group. "
      ]
    },
    {
      "cell_type": "code",
      "metadata": {
        "id": "eKG1cuOoa566"
      },
      "source": [
        ""
      ],
      "execution_count": null,
      "outputs": []
    },
    {
      "cell_type": "code",
      "metadata": {
        "colab": {
          "base_uri": "https://localhost:8080/",
          "height": 329
        },
        "id": "3DXUDbVgVuS8",
        "outputId": "78fa2f77-5157-4989-f60a-34060e192c36"
      },
      "source": [
        "log_mod = sm.Logit(df2['converted'], df2[['intercept', 'UK', 'US']])\r\n",
        "results = log_mod.fit()\r\n",
        "results.summary()"
      ],
      "execution_count": 51,
      "outputs": [
        {
          "output_type": "stream",
          "text": [
            "Optimization terminated successfully.\n",
            "         Current function value: 0.366117\n",
            "         Iterations 6\n"
          ],
          "name": "stdout"
        },
        {
          "output_type": "execute_result",
          "data": {
            "text/html": [
              "<table class=\"simpletable\">\n",
              "<caption>Logit Regression Results</caption>\n",
              "<tr>\n",
              "  <th>Dep. Variable:</th>       <td>converted</td>    <th>  No. Observations:  </th>   <td>290583</td>   \n",
              "</tr>\n",
              "<tr>\n",
              "  <th>Model:</th>                 <td>Logit</td>      <th>  Df Residuals:      </th>   <td>290580</td>   \n",
              "</tr>\n",
              "<tr>\n",
              "  <th>Method:</th>                 <td>MLE</td>       <th>  Df Model:          </th>   <td>     2</td>   \n",
              "</tr>\n",
              "<tr>\n",
              "  <th>Date:</th>            <td>Thu, 04 Feb 2021</td> <th>  Pseudo R-squ.:     </th>  <td>1.520e-05</td> \n",
              "</tr>\n",
              "<tr>\n",
              "  <th>Time:</th>                <td>14:33:46</td>     <th>  Log-Likelihood:    </th> <td>-1.0639e+05</td>\n",
              "</tr>\n",
              "<tr>\n",
              "  <th>converged:</th>             <td>True</td>       <th>  LL-Null:           </th> <td>-1.0639e+05</td>\n",
              "</tr>\n",
              "<tr>\n",
              "  <th>Covariance Type:</th>     <td>nonrobust</td>    <th>  LLR p-value:       </th>   <td>0.1984</td>   \n",
              "</tr>\n",
              "</table>\n",
              "<table class=\"simpletable\">\n",
              "<tr>\n",
              "      <td></td>         <th>coef</th>     <th>std err</th>      <th>z</th>      <th>P>|z|</th>  <th>[0.025</th>    <th>0.975]</th>  \n",
              "</tr>\n",
              "<tr>\n",
              "  <th>intercept</th> <td>   -1.9967</td> <td>    0.007</td> <td> -292.314</td> <td> 0.000</td> <td>   -2.010</td> <td>   -1.983</td>\n",
              "</tr>\n",
              "<tr>\n",
              "  <th>UK</th>        <td>   -0.0408</td> <td>    0.027</td> <td>   -1.518</td> <td> 0.129</td> <td>   -0.093</td> <td>    0.012</td>\n",
              "</tr>\n",
              "<tr>\n",
              "  <th>US</th>        <td>    0.0099</td> <td>    0.013</td> <td>    0.745</td> <td> 0.456</td> <td>   -0.016</td> <td>    0.036</td>\n",
              "</tr>\n",
              "</table>"
            ],
            "text/plain": [
              "<class 'statsmodels.iolib.summary.Summary'>\n",
              "\"\"\"\n",
              "                           Logit Regression Results                           \n",
              "==============================================================================\n",
              "Dep. Variable:              converted   No. Observations:               290583\n",
              "Model:                          Logit   Df Residuals:                   290580\n",
              "Method:                           MLE   Df Model:                            2\n",
              "Date:                Thu, 04 Feb 2021   Pseudo R-squ.:               1.520e-05\n",
              "Time:                        14:33:46   Log-Likelihood:            -1.0639e+05\n",
              "converged:                       True   LL-Null:                   -1.0639e+05\n",
              "Covariance Type:            nonrobust   LLR p-value:                    0.1984\n",
              "==============================================================================\n",
              "                 coef    std err          z      P>|z|      [0.025      0.975]\n",
              "------------------------------------------------------------------------------\n",
              "intercept     -1.9967      0.007   -292.314      0.000      -2.010      -1.983\n",
              "UK            -0.0408      0.027     -1.518      0.129      -0.093       0.012\n",
              "US             0.0099      0.013      0.745      0.456      -0.016       0.036\n",
              "==============================================================================\n",
              "\"\"\""
            ]
          },
          "metadata": {
            "tags": []
          },
          "execution_count": 51
        }
      ]
    },
    {
      "cell_type": "code",
      "metadata": {
        "colab": {
          "base_uri": "https://localhost:8080/",
          "height": 329
        },
        "id": "i0dmBYIJd1DV",
        "outputId": "1df30ccb-059e-4bf5-8eeb-521d0088016b"
      },
      "source": [
        "log_mod2 = sm.Logit(df2['ab_page'], df2[['intercept', 'UK', 'US']])\r\n",
        "results2 = log_mod.fit()\r\n",
        "results2.summary()"
      ],
      "execution_count": 57,
      "outputs": [
        {
          "output_type": "stream",
          "text": [
            "Optimization terminated successfully.\n",
            "         Current function value: 0.366117\n",
            "         Iterations 6\n"
          ],
          "name": "stdout"
        },
        {
          "output_type": "execute_result",
          "data": {
            "text/html": [
              "<table class=\"simpletable\">\n",
              "<caption>Logit Regression Results</caption>\n",
              "<tr>\n",
              "  <th>Dep. Variable:</th>       <td>converted</td>    <th>  No. Observations:  </th>   <td>290583</td>   \n",
              "</tr>\n",
              "<tr>\n",
              "  <th>Model:</th>                 <td>Logit</td>      <th>  Df Residuals:      </th>   <td>290580</td>   \n",
              "</tr>\n",
              "<tr>\n",
              "  <th>Method:</th>                 <td>MLE</td>       <th>  Df Model:          </th>   <td>     2</td>   \n",
              "</tr>\n",
              "<tr>\n",
              "  <th>Date:</th>            <td>Thu, 04 Feb 2021</td> <th>  Pseudo R-squ.:     </th>  <td>1.520e-05</td> \n",
              "</tr>\n",
              "<tr>\n",
              "  <th>Time:</th>                <td>14:43:50</td>     <th>  Log-Likelihood:    </th> <td>-1.0639e+05</td>\n",
              "</tr>\n",
              "<tr>\n",
              "  <th>converged:</th>             <td>True</td>       <th>  LL-Null:           </th> <td>-1.0639e+05</td>\n",
              "</tr>\n",
              "<tr>\n",
              "  <th>Covariance Type:</th>     <td>nonrobust</td>    <th>  LLR p-value:       </th>   <td>0.1984</td>   \n",
              "</tr>\n",
              "</table>\n",
              "<table class=\"simpletable\">\n",
              "<tr>\n",
              "      <td></td>         <th>coef</th>     <th>std err</th>      <th>z</th>      <th>P>|z|</th>  <th>[0.025</th>    <th>0.975]</th>  \n",
              "</tr>\n",
              "<tr>\n",
              "  <th>intercept</th> <td>   -1.9967</td> <td>    0.007</td> <td> -292.314</td> <td> 0.000</td> <td>   -2.010</td> <td>   -1.983</td>\n",
              "</tr>\n",
              "<tr>\n",
              "  <th>UK</th>        <td>   -0.0408</td> <td>    0.027</td> <td>   -1.518</td> <td> 0.129</td> <td>   -0.093</td> <td>    0.012</td>\n",
              "</tr>\n",
              "<tr>\n",
              "  <th>US</th>        <td>    0.0099</td> <td>    0.013</td> <td>    0.745</td> <td> 0.456</td> <td>   -0.016</td> <td>    0.036</td>\n",
              "</tr>\n",
              "</table>"
            ],
            "text/plain": [
              "<class 'statsmodels.iolib.summary.Summary'>\n",
              "\"\"\"\n",
              "                           Logit Regression Results                           \n",
              "==============================================================================\n",
              "Dep. Variable:              converted   No. Observations:               290583\n",
              "Model:                          Logit   Df Residuals:                   290580\n",
              "Method:                           MLE   Df Model:                            2\n",
              "Date:                Thu, 04 Feb 2021   Pseudo R-squ.:               1.520e-05\n",
              "Time:                        14:43:50   Log-Likelihood:            -1.0639e+05\n",
              "converged:                       True   LL-Null:                   -1.0639e+05\n",
              "Covariance Type:            nonrobust   LLR p-value:                    0.1984\n",
              "==============================================================================\n",
              "                 coef    std err          z      P>|z|      [0.025      0.975]\n",
              "------------------------------------------------------------------------------\n",
              "intercept     -1.9967      0.007   -292.314      0.000      -2.010      -1.983\n",
              "UK            -0.0408      0.027     -1.518      0.129      -0.093       0.012\n",
              "US             0.0099      0.013      0.745      0.456      -0.016       0.036\n",
              "==============================================================================\n",
              "\"\"\""
            ]
          },
          "metadata": {
            "tags": []
          },
          "execution_count": 57
        }
      ]
    },
    {
      "cell_type": "code",
      "metadata": {
        "colab": {
          "base_uri": "https://localhost:8080/",
          "height": 593
        },
        "id": "sc5GIx6NkOIY",
        "outputId": "23284050-4ca0-470d-e784-4216f446c34b"
      },
      "source": [
        "plt.scatter(x = 'country', y = 'converted', data = df)"
      ],
      "execution_count": 68,
      "outputs": [
        {
          "output_type": "error",
          "ename": "ValueError",
          "evalue": "ignored",
          "traceback": [
            "\u001b[0;31m---------------------------------------------------------------------------\u001b[0m",
            "\u001b[0;31mValueError\u001b[0m                                Traceback (most recent call last)",
            "\u001b[0;32m<ipython-input-68-61892e12d468>\u001b[0m in \u001b[0;36m<module>\u001b[0;34m()\u001b[0m\n\u001b[0;32m----> 1\u001b[0;31m \u001b[0mplt\u001b[0m\u001b[0;34m.\u001b[0m\u001b[0mscatter\u001b[0m\u001b[0;34m(\u001b[0m\u001b[0mx\u001b[0m \u001b[0;34m=\u001b[0m \u001b[0;34m'country'\u001b[0m\u001b[0;34m,\u001b[0m \u001b[0my\u001b[0m \u001b[0;34m=\u001b[0m \u001b[0;34m'converted'\u001b[0m\u001b[0;34m,\u001b[0m \u001b[0mdata\u001b[0m \u001b[0;34m=\u001b[0m \u001b[0mdf\u001b[0m\u001b[0;34m)\u001b[0m\u001b[0;34m\u001b[0m\u001b[0;34m\u001b[0m\u001b[0m\n\u001b[0m",
            "\u001b[0;32m/usr/local/lib/python3.6/dist-packages/matplotlib/pyplot.py\u001b[0m in \u001b[0;36mscatter\u001b[0;34m(x, y, s, c, marker, cmap, norm, vmin, vmax, alpha, linewidths, verts, edgecolors, plotnonfinite, data, **kwargs)\u001b[0m\n\u001b[1;32m   2814\u001b[0m         \u001b[0mverts\u001b[0m\u001b[0;34m=\u001b[0m\u001b[0mverts\u001b[0m\u001b[0;34m,\u001b[0m \u001b[0medgecolors\u001b[0m\u001b[0;34m=\u001b[0m\u001b[0medgecolors\u001b[0m\u001b[0;34m,\u001b[0m\u001b[0;34m\u001b[0m\u001b[0;34m\u001b[0m\u001b[0m\n\u001b[1;32m   2815\u001b[0m         plotnonfinite=plotnonfinite, **({\"data\": data} if data is not\n\u001b[0;32m-> 2816\u001b[0;31m         None else {}), **kwargs)\n\u001b[0m\u001b[1;32m   2817\u001b[0m     \u001b[0msci\u001b[0m\u001b[0;34m(\u001b[0m\u001b[0m__ret\u001b[0m\u001b[0;34m)\u001b[0m\u001b[0;34m\u001b[0m\u001b[0;34m\u001b[0m\u001b[0m\n\u001b[1;32m   2818\u001b[0m     \u001b[0;32mreturn\u001b[0m \u001b[0m__ret\u001b[0m\u001b[0;34m\u001b[0m\u001b[0;34m\u001b[0m\u001b[0m\n",
            "\u001b[0;32m/usr/local/lib/python3.6/dist-packages/matplotlib/__init__.py\u001b[0m in \u001b[0;36minner\u001b[0;34m(ax, data, *args, **kwargs)\u001b[0m\n\u001b[1;32m   1589\u001b[0m                 args_and_kwargs.get(label_namer), auto_label)\n\u001b[1;32m   1590\u001b[0m \u001b[0;34m\u001b[0m\u001b[0m\n\u001b[0;32m-> 1591\u001b[0;31m         \u001b[0;32mreturn\u001b[0m \u001b[0mfunc\u001b[0m\u001b[0;34m(\u001b[0m\u001b[0;34m*\u001b[0m\u001b[0mnew_args\u001b[0m\u001b[0;34m,\u001b[0m \u001b[0;34m**\u001b[0m\u001b[0mnew_kwargs\u001b[0m\u001b[0;34m)\u001b[0m\u001b[0;34m\u001b[0m\u001b[0;34m\u001b[0m\u001b[0m\n\u001b[0m\u001b[1;32m   1592\u001b[0m \u001b[0;34m\u001b[0m\u001b[0m\n\u001b[1;32m   1593\u001b[0m     \u001b[0minner\u001b[0m\u001b[0;34m.\u001b[0m\u001b[0m__doc__\u001b[0m \u001b[0;34m=\u001b[0m \u001b[0m_add_data_doc\u001b[0m\u001b[0;34m(\u001b[0m\u001b[0minner\u001b[0m\u001b[0;34m.\u001b[0m\u001b[0m__doc__\u001b[0m\u001b[0;34m,\u001b[0m \u001b[0mreplace_names\u001b[0m\u001b[0;34m)\u001b[0m\u001b[0;34m\u001b[0m\u001b[0;34m\u001b[0m\u001b[0m\n",
            "\u001b[0;32m/usr/local/lib/python3.6/dist-packages/matplotlib/cbook/deprecation.py\u001b[0m in \u001b[0;36mwrapper\u001b[0;34m(*args, **kwargs)\u001b[0m\n\u001b[1;32m    356\u001b[0m                 \u001b[0;34mf\"%(removal)s.  If any parameter follows {name!r}, they \"\u001b[0m\u001b[0;34m\u001b[0m\u001b[0;34m\u001b[0m\u001b[0m\n\u001b[1;32m    357\u001b[0m                 f\"should be pass as keyword, not positionally.\")\n\u001b[0;32m--> 358\u001b[0;31m         \u001b[0;32mreturn\u001b[0m \u001b[0mfunc\u001b[0m\u001b[0;34m(\u001b[0m\u001b[0;34m*\u001b[0m\u001b[0margs\u001b[0m\u001b[0;34m,\u001b[0m \u001b[0;34m**\u001b[0m\u001b[0mkwargs\u001b[0m\u001b[0;34m)\u001b[0m\u001b[0;34m\u001b[0m\u001b[0;34m\u001b[0m\u001b[0m\n\u001b[0m\u001b[1;32m    359\u001b[0m \u001b[0;34m\u001b[0m\u001b[0m\n\u001b[1;32m    360\u001b[0m     \u001b[0;32mreturn\u001b[0m \u001b[0mwrapper\u001b[0m\u001b[0;34m\u001b[0m\u001b[0;34m\u001b[0m\u001b[0m\n",
            "\u001b[0;32m/usr/local/lib/python3.6/dist-packages/matplotlib/axes/_axes.py\u001b[0m in \u001b[0;36mscatter\u001b[0;34m(self, x, y, s, c, marker, cmap, norm, vmin, vmax, alpha, linewidths, verts, edgecolors, plotnonfinite, **kwargs)\u001b[0m\n\u001b[1;32m   4389\u001b[0m         \u001b[0my\u001b[0m \u001b[0;34m=\u001b[0m \u001b[0mnp\u001b[0m\u001b[0;34m.\u001b[0m\u001b[0mma\u001b[0m\u001b[0;34m.\u001b[0m\u001b[0mravel\u001b[0m\u001b[0;34m(\u001b[0m\u001b[0my\u001b[0m\u001b[0;34m)\u001b[0m\u001b[0;34m\u001b[0m\u001b[0;34m\u001b[0m\u001b[0m\n\u001b[1;32m   4390\u001b[0m         \u001b[0;32mif\u001b[0m \u001b[0mx\u001b[0m\u001b[0;34m.\u001b[0m\u001b[0msize\u001b[0m \u001b[0;34m!=\u001b[0m \u001b[0my\u001b[0m\u001b[0;34m.\u001b[0m\u001b[0msize\u001b[0m\u001b[0;34m:\u001b[0m\u001b[0;34m\u001b[0m\u001b[0;34m\u001b[0m\u001b[0m\n\u001b[0;32m-> 4391\u001b[0;31m             \u001b[0;32mraise\u001b[0m \u001b[0mValueError\u001b[0m\u001b[0;34m(\u001b[0m\u001b[0;34m\"x and y must be the same size\"\u001b[0m\u001b[0;34m)\u001b[0m\u001b[0;34m\u001b[0m\u001b[0;34m\u001b[0m\u001b[0m\n\u001b[0m\u001b[1;32m   4392\u001b[0m \u001b[0;34m\u001b[0m\u001b[0m\n\u001b[1;32m   4393\u001b[0m         \u001b[0;32mif\u001b[0m \u001b[0ms\u001b[0m \u001b[0;32mis\u001b[0m \u001b[0;32mNone\u001b[0m\u001b[0;34m:\u001b[0m\u001b[0;34m\u001b[0m\u001b[0;34m\u001b[0m\u001b[0m\n",
            "\u001b[0;31mValueError\u001b[0m: x and y must be the same size"
          ]
        },
        {
          "output_type": "display_data",
          "data": {
            "image/png": "[encoded data removed]",
            "text/plain": [
              "<Figure size 432x288 with 1 Axes>"
            ]
          },
          "metadata": {
            "tags": [],
            "needs_background": "light"
          }
        }
      ]
    },
    {
      "cell_type": "code",
      "metadata": {
        "id": "FFtmPKHMXdrs"
      },
      "source": [
        ""
      ],
      "execution_count": null,
      "outputs": []
    }
  ]
}