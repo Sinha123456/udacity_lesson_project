{
  "nbformat": 4,
  "nbformat_minor": 0,
  "metadata": {
    "colab": {
      "name": "A/BTesting.ipynb",
      "provenance": [],
      "collapsed_sections": [],
      "authorship_tag": "ABX9TyOGnXmPbRfm4ivqA9P8B6j5",
      "include_colab_link": true
    },
    "kernelspec": {
      "name": "python3",
      "display_name": "Python 3"
    }
  },
  "cells": [
    {
      "cell_type": "markdown",
      "metadata": {
        "id": "view-in-github",
        "colab_type": "text"
      },
      "source": [
        "<a href=\"https://colab.research.google.com/github/Sinha123456/udacity_lesson_project/blob/main/A_BTesting.ipynb\" target=\"_parent\"><img src=\"https://colab.research.google.com/assets/colab-badge.svg\" alt=\"Open In Colab\"/></a>"
      ]
    },
    {
      "cell_type": "code",
      "metadata": {
        "colab": {
          "base_uri": "https://localhost:8080/"
        },
        "id": "ic8f233DGBhg",
        "outputId": "db8d4617-1cab-49c8-819b-957ab2af2f15"
      },
      "source": [
        "from google.colab import drive\r\n",
        "drive.mount('/content/drive')\r\n"
      ],
      "execution_count": 1,
      "outputs": [
        {
          "output_type": "stream",
          "text": [
            "Mounted at /content/drive\n"
          ],
          "name": "stdout"
        }
      ]
    },
    {
      "cell_type": "markdown",
      "metadata": {
        "id": "sq5qMw-5IHlx"
      },
      "source": [
        "# **Analyze A/B Test Results**\r\n"
      ]
    },
    {
      "cell_type": "markdown",
      "metadata": {
        "id": "yA5paa0vHysX"
      },
      "source": [
        "## **Introduction**\r\n",
        "\r\n",
        "A/B tests are very commonly performed by data analysts and data scientists. It is important that you get some practice working with the difficulties of these\r\n",
        "\r\n",
        "For this project, you will be working to understand the results of an A/B test run by an e-commerce website. The company has developed a new web page in order to try and increase the number of users who \"convert,\" meaning the number of users who decide to pay for the company's product. Our goal is to work through this notebook to help the company understand if they should implement this new page, keep the old page, or perhaps run the experiment longer to make their decision."
      ]
    },
    {
      "cell_type": "code",
      "metadata": {
        "id": "ngFnWz-KIcRo"
      },
      "source": [
        "import pandas as pd\r\n",
        "import numpy as np\r\n",
        "import random\r\n",
        "import matplotlib.pyplot as plt\r\n",
        "%matplotlib inline\r\n",
        "random.seed(42)"
      ],
      "execution_count": 144,
      "outputs": []
    },
    {
      "cell_type": "code",
      "metadata": {
        "colab": {
          "base_uri": "https://localhost:8080/",
          "height": 206
        },
        "id": "vhQnRt-eIjy1",
        "outputId": "48d43a01-c139-4e1c-aea4-632f6eb6433d"
      },
      "source": [
        "#Loading the data and printing the few lines of first data\r\n",
        "df1 = pd.read_csv('/content/drive/My Drive/Colab Notebooks/udacity_projects/ab_data.csv')\r\n",
        "df1.head(5)\r\n",
        "         "
      ],
      "execution_count": 145,
      "outputs": [
        {
          "output_type": "execute_result",
          "data": {
            "text/html": [
              "<div>\n",
              "<style scoped>\n",
              "    .dataframe tbody tr th:only-of-type {\n",
              "        vertical-align: middle;\n",
              "    }\n",
              "\n",
              "    .dataframe tbody tr th {\n",
              "        vertical-align: top;\n",
              "    }\n",
              "\n",
              "    .dataframe thead th {\n",
              "        text-align: right;\n",
              "    }\n",
              "</style>\n",
              "<table border=\"1\" class=\"dataframe\">\n",
              "  <thead>\n",
              "    <tr style=\"text-align: right;\">\n",
              "      <th></th>\n",
              "      <th>user_id</th>\n",
              "      <th>timestamp</th>\n",
              "      <th>group</th>\n",
              "      <th>landing_page</th>\n",
              "      <th>converted</th>\n",
              "    </tr>\n",
              "  </thead>\n",
              "  <tbody>\n",
              "    <tr>\n",
              "      <th>0</th>\n",
              "      <td>851104</td>\n",
              "      <td>2017-01-21 22:11:48.556739</td>\n",
              "      <td>control</td>\n",
              "      <td>old_page</td>\n",
              "      <td>0</td>\n",
              "    </tr>\n",
              "    <tr>\n",
              "      <th>1</th>\n",
              "      <td>804228</td>\n",
              "      <td>2017-01-12 08:01:45.159739</td>\n",
              "      <td>control</td>\n",
              "      <td>old_page</td>\n",
              "      <td>0</td>\n",
              "    </tr>\n",
              "    <tr>\n",
              "      <th>2</th>\n",
              "      <td>661590</td>\n",
              "      <td>2017-01-11 16:55:06.154213</td>\n",
              "      <td>treatment</td>\n",
              "      <td>new_page</td>\n",
              "      <td>0</td>\n",
              "    </tr>\n",
              "    <tr>\n",
              "      <th>3</th>\n",
              "      <td>853541</td>\n",
              "      <td>2017-01-08 18:28:03.143765</td>\n",
              "      <td>treatment</td>\n",
              "      <td>new_page</td>\n",
              "      <td>0</td>\n",
              "    </tr>\n",
              "    <tr>\n",
              "      <th>4</th>\n",
              "      <td>864975</td>\n",
              "      <td>2017-01-21 01:52:26.210827</td>\n",
              "      <td>control</td>\n",
              "      <td>old_page</td>\n",
              "      <td>1</td>\n",
              "    </tr>\n",
              "  </tbody>\n",
              "</table>\n",
              "</div>"
            ],
            "text/plain": [
              "   user_id                   timestamp      group landing_page  converted\n",
              "0   851104  2017-01-21 22:11:48.556739    control     old_page          0\n",
              "1   804228  2017-01-12 08:01:45.159739    control     old_page          0\n",
              "2   661590  2017-01-11 16:55:06.154213  treatment     new_page          0\n",
              "3   853541  2017-01-08 18:28:03.143765  treatment     new_page          0\n",
              "4   864975  2017-01-21 01:52:26.210827    control     old_page          1"
            ]
          },
          "metadata": {
            "tags": []
          },
          "execution_count": 145
        }
      ]
    },
    {
      "cell_type": "code",
      "metadata": {
        "colab": {
          "base_uri": "https://localhost:8080/"
        },
        "id": "lHsg7CuHJdgk",
        "outputId": "ad4c42b7-9957-412e-f8cb-cdc5c763c804"
      },
      "source": [
        "df1.isnull().sum() # There is no null values"
      ],
      "execution_count": 46,
      "outputs": [
        {
          "output_type": "execute_result",
          "data": {
            "text/plain": [
              "user_id         0\n",
              "timestamp       0\n",
              "group           0\n",
              "landing_page    0\n",
              "converted       0\n",
              "dtype: int64"
            ]
          },
          "metadata": {
            "tags": []
          },
          "execution_count": 46
        }
      ]
    },
    {
      "cell_type": "code",
      "metadata": {
        "colab": {
          "base_uri": "https://localhost:8080/"
        },
        "id": "FGVak-EOK4zh",
        "outputId": "0f794668-ff30-4c3a-c17c-98f4eeba15de"
      },
      "source": [
        "df1.duplicated().sum() #There is no duplicate values"
      ],
      "execution_count": 47,
      "outputs": [
        {
          "output_type": "execute_result",
          "data": {
            "text/plain": [
              "0"
            ]
          },
          "metadata": {
            "tags": []
          },
          "execution_count": 47
        }
      ]
    },
    {
      "cell_type": "code",
      "metadata": {
        "colab": {
          "base_uri": "https://localhost:8080/"
        },
        "id": "S960gYJYLA_x",
        "outputId": "c950496e-5d7c-40fd-c98f-36c1de9c0b4b"
      },
      "source": [
        "df1.nunique() #The number of unique users in the dataset."
      ],
      "execution_count": 48,
      "outputs": [
        {
          "output_type": "execute_result",
          "data": {
            "text/plain": [
              "user_id         290584\n",
              "timestamp       294478\n",
              "group                2\n",
              "landing_page         2\n",
              "converted            2\n",
              "dtype: int64"
            ]
          },
          "metadata": {
            "tags": []
          },
          "execution_count": 48
        }
      ]
    },
    {
      "cell_type": "code",
      "metadata": {
        "colab": {
          "base_uri": "https://localhost:8080/"
        },
        "id": "X_tB2NvFLMdn",
        "outputId": "3beb7664-c056-44ce-a5e5-ace0ba5e0518"
      },
      "source": [
        "df1.shape \r\n",
        "#294478 rows and 5 columns"
      ],
      "execution_count": 49,
      "outputs": [
        {
          "output_type": "execute_result",
          "data": {
            "text/plain": [
              "(294478, 5)"
            ]
          },
          "metadata": {
            "tags": []
          },
          "execution_count": 49
        }
      ]
    },
    {
      "cell_type": "code",
      "metadata": {
        "colab": {
          "base_uri": "https://localhost:8080/"
        },
        "id": "dGcZVeipL6Ge",
        "outputId": "9ffbf0ae-cecb-41ab-88e2-5534d1a58c1c"
      },
      "source": [
        "df1.info()"
      ],
      "execution_count": 50,
      "outputs": [
        {
          "output_type": "stream",
          "text": [
            "<class 'pandas.core.frame.DataFrame'>\n",
            "RangeIndex: 294478 entries, 0 to 294477\n",
            "Data columns (total 5 columns):\n",
            " #   Column        Non-Null Count   Dtype \n",
            "---  ------        --------------   ----- \n",
            " 0   user_id       294478 non-null  int64 \n",
            " 1   timestamp     294478 non-null  object\n",
            " 2   group         294478 non-null  object\n",
            " 3   landing_page  294478 non-null  object\n",
            " 4   converted     294478 non-null  int64 \n",
            "dtypes: int64(2), object(3)\n",
            "memory usage: 11.2+ MB\n"
          ],
          "name": "stdout"
        }
      ]
    },
    {
      "cell_type": "code",
      "metadata": {
        "colab": {
          "base_uri": "https://localhost:8080/",
          "height": 300
        },
        "id": "2gpGVjJ5LRdy",
        "outputId": "7738373e-e30e-4dd6-8dca-0b5342ae45a3"
      },
      "source": [
        "df1.describe()"
      ],
      "execution_count": 51,
      "outputs": [
        {
          "output_type": "execute_result",
          "data": {
            "text/html": [
              "<div>\n",
              "<style scoped>\n",
              "    .dataframe tbody tr th:only-of-type {\n",
              "        vertical-align: middle;\n",
              "    }\n",
              "\n",
              "    .dataframe tbody tr th {\n",
              "        vertical-align: top;\n",
              "    }\n",
              "\n",
              "    .dataframe thead th {\n",
              "        text-align: right;\n",
              "    }\n",
              "</style>\n",
              "<table border=\"1\" class=\"dataframe\">\n",
              "  <thead>\n",
              "    <tr style=\"text-align: right;\">\n",
              "      <th></th>\n",
              "      <th>user_id</th>\n",
              "      <th>converted</th>\n",
              "    </tr>\n",
              "  </thead>\n",
              "  <tbody>\n",
              "    <tr>\n",
              "      <th>count</th>\n",
              "      <td>294478.000000</td>\n",
              "      <td>294478.000000</td>\n",
              "    </tr>\n",
              "    <tr>\n",
              "      <th>mean</th>\n",
              "      <td>787974.124733</td>\n",
              "      <td>0.119659</td>\n",
              "    </tr>\n",
              "    <tr>\n",
              "      <th>std</th>\n",
              "      <td>91210.823776</td>\n",
              "      <td>0.324563</td>\n",
              "    </tr>\n",
              "    <tr>\n",
              "      <th>min</th>\n",
              "      <td>630000.000000</td>\n",
              "      <td>0.000000</td>\n",
              "    </tr>\n",
              "    <tr>\n",
              "      <th>25%</th>\n",
              "      <td>709032.250000</td>\n",
              "      <td>0.000000</td>\n",
              "    </tr>\n",
              "    <tr>\n",
              "      <th>50%</th>\n",
              "      <td>787933.500000</td>\n",
              "      <td>0.000000</td>\n",
              "    </tr>\n",
              "    <tr>\n",
              "      <th>75%</th>\n",
              "      <td>866911.750000</td>\n",
              "      <td>0.000000</td>\n",
              "    </tr>\n",
              "    <tr>\n",
              "      <th>max</th>\n",
              "      <td>945999.000000</td>\n",
              "      <td>1.000000</td>\n",
              "    </tr>\n",
              "  </tbody>\n",
              "</table>\n",
              "</div>"
            ],
            "text/plain": [
              "             user_id      converted\n",
              "count  294478.000000  294478.000000\n",
              "mean   787974.124733       0.119659\n",
              "std     91210.823776       0.324563\n",
              "min    630000.000000       0.000000\n",
              "25%    709032.250000       0.000000\n",
              "50%    787933.500000       0.000000\n",
              "75%    866911.750000       0.000000\n",
              "max    945999.000000       1.000000"
            ]
          },
          "metadata": {
            "tags": []
          },
          "execution_count": 51
        }
      ]
    },
    {
      "cell_type": "code",
      "metadata": {
        "colab": {
          "base_uri": "https://localhost:8080/"
        },
        "id": "7ClBgb8DMDOu",
        "outputId": "920a9008-5692-4516-d203-f1ac578e1f28"
      },
      "source": [
        "df1['user_id'].duplicated().sum()"
      ],
      "execution_count": 52,
      "outputs": [
        {
          "output_type": "execute_result",
          "data": {
            "text/plain": [
              "3894"
            ]
          },
          "metadata": {
            "tags": []
          },
          "execution_count": 52
        }
      ]
    },
    {
      "cell_type": "markdown",
      "metadata": {
        "id": "nzLOwZZflv_r"
      },
      "source": [
        "Do any of the rows have missing values?\r\n",
        "\r\n",
        "No"
      ]
    },
    {
      "cell_type": "markdown",
      "metadata": {
        "id": "TR30pQkKOCWW"
      },
      "source": [
        "## **Part I - Probability**"
      ]
    },
    {
      "cell_type": "markdown",
      "metadata": {
        "id": "bRRYgSaVOmqz"
      },
      "source": [
        "### The proportion of users converted."
      ]
    },
    {
      "cell_type": "code",
      "metadata": {
        "colab": {
          "base_uri": "https://localhost:8080/"
        },
        "id": "s2XhQq2wOuVS",
        "outputId": "b09c8982-cf9d-4ad7-f41f-52c1b0538c3d"
      },
      "source": [
        "prop_convert_users = df1.query('converted == 1').count()[0]/df1.converted.shape[0]\r\n",
        "prop_convert_users #12% of users converted"
      ],
      "execution_count": 146,
      "outputs": [
        {
          "output_type": "execute_result",
          "data": {
            "text/plain": [
              "0.11965919355605512"
            ]
          },
          "metadata": {
            "tags": []
          },
          "execution_count": 146
        }
      ]
    },
    {
      "cell_type": "markdown",
      "metadata": {
        "id": "GOUf1JGlQ1L0"
      },
      "source": [
        "The number of times the new_page and treatment don't match."
      ]
    },
    {
      "cell_type": "code",
      "metadata": {
        "colab": {
          "base_uri": "https://localhost:8080/"
        },
        "id": "wefbwQ4vpT8W",
        "outputId": "a5c32b13-4c49-4ce6-b3bd-7d840e18c9de"
      },
      "source": [
        "df1[((df1['group'] == 'treatment') == (df1['landing_page'] == 'new_page')) == False].shape[0]"
      ],
      "execution_count": 147,
      "outputs": [
        {
          "output_type": "execute_result",
          "data": {
            "text/plain": [
              "3893"
            ]
          },
          "metadata": {
            "tags": []
          },
          "execution_count": 147
        }
      ]
    },
    {
      "cell_type": "code",
      "metadata": {
        "id": "yvsUfKdzg7B3"
      },
      "source": [
        "remove = list(df1[((df1['group']=='treatment') == (df1['landing_page']=='new_page'))==False].index)\r\n",
        "df2 = df1.drop(remove)"
      ],
      "execution_count": 148,
      "outputs": []
    },
    {
      "cell_type": "markdown",
      "metadata": {
        "id": "ZE0osDvCrJAr"
      },
      "source": [
        " How many unique user_ids are in df2?"
      ]
    },
    {
      "cell_type": "code",
      "metadata": {
        "colab": {
          "base_uri": "https://localhost:8080/"
        },
        "id": "fCHY9LkSrNvi",
        "outputId": "69aecdda-df0c-402d-9915-a0852262acc7"
      },
      "source": [
        "df2.user_id.nunique()"
      ],
      "execution_count": 149,
      "outputs": [
        {
          "output_type": "execute_result",
          "data": {
            "text/plain": [
              "290584"
            ]
          },
          "metadata": {
            "tags": []
          },
          "execution_count": 149
        }
      ]
    },
    {
      "cell_type": "markdown",
      "metadata": {
        "id": "_4WGjPwlsRN0"
      },
      "source": [
        "There is one user_id repeated in df2. What is it?\r\n",
        "\r\n",
        "It's 773192"
      ]
    },
    {
      "cell_type": "markdown",
      "metadata": {
        "id": "XTJ3zMtVoXcg"
      },
      "source": [
        "What is the row information for the repeat user_id? "
      ]
    },
    {
      "cell_type": "code",
      "metadata": {
        "colab": {
          "base_uri": "https://localhost:8080/",
          "height": 80
        },
        "id": "kFBn9J82sTvM",
        "outputId": "f6533288-d429-4d71-db01-df06b643c367"
      },
      "source": [
        "df2[df2.duplicated('user_id')]"
      ],
      "execution_count": 150,
      "outputs": [
        {
          "output_type": "execute_result",
          "data": {
            "text/html": [
              "<div>\n",
              "<style scoped>\n",
              "    .dataframe tbody tr th:only-of-type {\n",
              "        vertical-align: middle;\n",
              "    }\n",
              "\n",
              "    .dataframe tbody tr th {\n",
              "        vertical-align: top;\n",
              "    }\n",
              "\n",
              "    .dataframe thead th {\n",
              "        text-align: right;\n",
              "    }\n",
              "</style>\n",
              "<table border=\"1\" class=\"dataframe\">\n",
              "  <thead>\n",
              "    <tr style=\"text-align: right;\">\n",
              "      <th></th>\n",
              "      <th>user_id</th>\n",
              "      <th>timestamp</th>\n",
              "      <th>group</th>\n",
              "      <th>landing_page</th>\n",
              "      <th>converted</th>\n",
              "    </tr>\n",
              "  </thead>\n",
              "  <tbody>\n",
              "    <tr>\n",
              "      <th>2893</th>\n",
              "      <td>773192</td>\n",
              "      <td>2017-01-14 02:55:59.590927</td>\n",
              "      <td>treatment</td>\n",
              "      <td>new_page</td>\n",
              "      <td>0</td>\n",
              "    </tr>\n",
              "  </tbody>\n",
              "</table>\n",
              "</div>"
            ],
            "text/plain": [
              "      user_id                   timestamp      group landing_page  converted\n",
              "2893   773192  2017-01-14 02:55:59.590927  treatment     new_page          0"
            ]
          },
          "metadata": {
            "tags": []
          },
          "execution_count": 150
        }
      ]
    },
    {
      "cell_type": "markdown",
      "metadata": {
        "id": "ZFJoRFxOoi19"
      },
      "source": [
        "Remove one of the rows with a duplicate user_id, but keep your dataframe as df2."
      ]
    },
    {
      "cell_type": "code",
      "metadata": {
        "id": "O1iT_x5BsqbE"
      },
      "source": [
        "remove = df2.query('user_id==773192').index.values\r\n",
        "df2 = df2.drop(remove)"
      ],
      "execution_count": 151,
      "outputs": []
    },
    {
      "cell_type": "code",
      "metadata": {
        "colab": {
          "base_uri": "https://localhost:8080/",
          "height": 49
        },
        "id": "vfEVtX3UtJsr",
        "outputId": "5eb3cf0d-56a7-4e6b-ab2c-30e6907d2800"
      },
      "source": [
        "#check the duplicate of user_id is dropped or not.\r\n",
        "df2[df2.duplicated('user_id')]"
      ],
      "execution_count": 152,
      "outputs": [
        {
          "output_type": "execute_result",
          "data": {
            "text/html": [
              "<div>\n",
              "<style scoped>\n",
              "    .dataframe tbody tr th:only-of-type {\n",
              "        vertical-align: middle;\n",
              "    }\n",
              "\n",
              "    .dataframe tbody tr th {\n",
              "        vertical-align: top;\n",
              "    }\n",
              "\n",
              "    .dataframe thead th {\n",
              "        text-align: right;\n",
              "    }\n",
              "</style>\n",
              "<table border=\"1\" class=\"dataframe\">\n",
              "  <thead>\n",
              "    <tr style=\"text-align: right;\">\n",
              "      <th></th>\n",
              "      <th>user_id</th>\n",
              "      <th>timestamp</th>\n",
              "      <th>group</th>\n",
              "      <th>landing_page</th>\n",
              "      <th>converted</th>\n",
              "    </tr>\n",
              "  </thead>\n",
              "  <tbody>\n",
              "  </tbody>\n",
              "</table>\n",
              "</div>"
            ],
            "text/plain": [
              "Empty DataFrame\n",
              "Columns: [user_id, timestamp, group, landing_page, converted]\n",
              "Index: []"
            ]
          },
          "metadata": {
            "tags": []
          },
          "execution_count": 152
        }
      ]
    },
    {
      "cell_type": "markdown",
      "metadata": {
        "id": "ureDBqsx3Vi1"
      },
      "source": [
        "What is the probability of an individual converting regardless of the page they receive?\r\n"
      ]
    },
    {
      "cell_type": "code",
      "metadata": {
        "colab": {
          "base_uri": "https://localhost:8080/"
        },
        "id": "wOF2DYMx5sHQ",
        "outputId": "3552de13-4593-48cc-dede-e1005944e46c"
      },
      "source": [
        "new_convert = df2.query('landing_page==\"new_page\" and converted == 1').count()[0]/df2['converted'].count()\r\n",
        "old_convert = df2.query('landing_page==\"old_page\" and converted == 1').count()[0]/df2['converted'].count()\r\n",
        "individually_convert = new_convert+old_convert\r\n",
        "individually_convert\r\n"
      ],
      "execution_count": 153,
      "outputs": [
        {
          "output_type": "execute_result",
          "data": {
            "text/plain": [
              "0.11959749882133504"
            ]
          },
          "metadata": {
            "tags": []
          },
          "execution_count": 153
        }
      ]
    },
    {
      "cell_type": "markdown",
      "metadata": {
        "id": "tAWa8Vbo_Fee"
      },
      "source": [
        "Given that an individual was in the control group, what is the probability they converted?"
      ]
    },
    {
      "cell_type": "code",
      "metadata": {
        "colab": {
          "base_uri": "https://localhost:8080/"
        },
        "id": "qmvvQC31_HQY",
        "outputId": "a063cf7d-6c47-49ea-c6a5-a9f0e41c8fd7"
      },
      "source": [
        "df2.query('group==\"control\" and converted == 1').count()[0]/df2.query('group==\"control\"').count()[0]\r\n"
      ],
      "execution_count": 154,
      "outputs": [
        {
          "output_type": "execute_result",
          "data": {
            "text/plain": [
              "0.1203863045004612"
            ]
          },
          "metadata": {
            "tags": []
          },
          "execution_count": 154
        }
      ]
    },
    {
      "cell_type": "markdown",
      "metadata": {
        "id": "yldVTVoWDkVm"
      },
      "source": [
        "Given that an individual was in the treatment group, what is the probability they converted?"
      ]
    },
    {
      "cell_type": "code",
      "metadata": {
        "colab": {
          "base_uri": "https://localhost:8080/"
        },
        "id": "7njs2KLSupRa",
        "outputId": "0f6d95bf-932c-43fc-f82a-80c6686bca34"
      },
      "source": [
        "df2.query('group==\"treatment\" and converted == 1').count()[0]/df2.query('group==\"treatment\"').count()[0]\r\n"
      ],
      "execution_count": 155,
      "outputs": [
        {
          "output_type": "execute_result",
          "data": {
            "text/plain": [
              "0.11880888313869065"
            ]
          },
          "metadata": {
            "tags": []
          },
          "execution_count": 155
        }
      ]
    },
    {
      "cell_type": "markdown",
      "metadata": {
        "id": "mSW8bMqnEdUR"
      },
      "source": [
        "What is the probability that an individual received the new page?"
      ]
    },
    {
      "cell_type": "code",
      "metadata": {
        "colab": {
          "base_uri": "https://localhost:8080/"
        },
        "id": "gBmkUPioGrpw",
        "outputId": "4cc9503e-b14b-4a3d-a0d3-da3c033c9b4e"
      },
      "source": [
        "control = df2.query('group==\"control\" and landing_page == \"new_page\"').count()[0]/df2['landing_page'].count()\r\n",
        "treatment = df2.query('group==\"treatment\" and landing_page == \"new_page\"').count()[0]/df2['landing_page'].count()\r\n",
        "individual_new_page = control+treatment\r\n",
        "individual_new_page"
      ],
      "execution_count": 156,
      "outputs": [
        {
          "output_type": "execute_result",
          "data": {
            "text/plain": [
              "0.5000602237570677"
            ]
          },
          "metadata": {
            "tags": []
          },
          "execution_count": 156
        }
      ]
    },
    {
      "cell_type": "markdown",
      "metadata": {
        "id": "n5g1j7OKLQTY"
      },
      "source": [
        "Consider your results from parts (a) through (d) above, and explain below whether you think there is sufficient evidence to conclude that the new treatment page leads to more conversions.\r\n",
        "\r\n",
        "The probability of converting in control group is 0.1% higher than treatment group, we have evidence that there is a little increment of conversion, we might do little better to increase more conversion. Little change make a big effect sometimes. There is 12% pf users who converted treament they like new_page more than old_page. Probability of receiving new_page is 50%. We have all of these evidence that shows our new_page can have more conversions."
      ]
    },
    {
      "cell_type": "markdown",
      "metadata": {
        "id": "3ep9jU-mzcIQ"
      },
      "source": [
        "# Part II - A/B Test\r\n",
        "\r\n",
        "Notice that because of the time stamp associated with each event, you could technically run a hypothesis test continuously as each observation was observed.\r\n",
        "\r\n",
        "However, then the hard question is do you stop as soon as one page is considered significantly better than another or does it need to happen consistently for a certain amount of time? How long do you run to render a decision that neither page is better than another?\r\n",
        "\r\n",
        "These questions are the difficult parts associated with A/B tests in general.\r\n",
        "\r\n",
        "1. For now, consider you need to make the decision just based on all the data provided. If you want to assume that the old page is better unless the new page proves to be definitely better at a Type I error rate of 5%, what should your null and alternative hypotheses be? You can state your hypothesis in terms of words or in terms of 𝑝𝑜𝑙𝑑\r\n",
        "and 𝑝𝑛𝑒𝑤, which are the converted rates for the old and new pages.\r\n",
        "\r\n",
        "H0: Pnew <= Pold\r\n",
        "\r\n",
        "H1 : Pnew > Pold\r\n",
        "\r\n",
        "From the above calculations shows that there is a small increment in new page. In type 1 error, we reject null hypothesis in favour of alternative. We want to prove that new page is better than old page in favour of 5% of type 1 error rate."
      ]
    },
    {
      "cell_type": "markdown",
      "metadata": {
        "id": "OK9zedgJ4OYY"
      },
      "source": [
        "2. Assume under the null hypothesis, 𝑝𝑛𝑒𝑤 and 𝑝𝑜𝑙𝑑 both have \"true\" success rates equal to the converted success rate regardless of page - that is 𝑝𝑛𝑒𝑤 and 𝑝𝑜𝑙𝑑\r\n",
        "\r\n",
        "are equal. Furthermore, assume they are equal to the converted rate in ab_data.csv regardless of the page.\r\n",
        "\r\n",
        "Use a sample size for each page equal to the ones in ab_data.csv.\r\n",
        "\r\n",
        "Perform the sampling distribution for the difference in converted between the two pages over 10,000 iterations of calculating an estimate from the null. "
      ]
    },
    {
      "cell_type": "markdown",
      "metadata": {
        "id": "KRV6RZzD75X0"
      },
      "source": [
        "a. What is the conversion rate for 𝑝𝑛𝑒𝑤 under the null? "
      ]
    },
    {
      "cell_type": "markdown",
      "metadata": {
        "id": "iWRAn8-TBFeG"
      },
      "source": [
        "b. What is the conversion rate for 𝑝𝑜𝑙𝑑 under the null? "
      ]
    },
    {
      "cell_type": "code",
      "metadata": {
        "colab": {
          "base_uri": "https://localhost:8080/"
        },
        "id": "Kdopf8aXEGuL",
        "outputId": "bc469de5-eb16-4b4f-cf86-711016c791e0"
      },
      "source": [
        "p_new = p_old = df1['converted'].mean()\r\n",
        "p_new, p_old"
      ],
      "execution_count": 157,
      "outputs": [
        {
          "output_type": "execute_result",
          "data": {
            "text/plain": [
              "(0.11965919355605512, 0.11965919355605512)"
            ]
          },
          "metadata": {
            "tags": []
          },
          "execution_count": 157
        }
      ]
    },
    {
      "cell_type": "markdown",
      "metadata": {
        "id": "qde9msh7BORE"
      },
      "source": [
        "c. What is 𝑛𝑛𝑒𝑤, the number of individuals in the treatment group?"
      ]
    },
    {
      "cell_type": "code",
      "metadata": {
        "colab": {
          "base_uri": "https://localhost:8080/"
        },
        "id": "AiIs7FiqNCUt",
        "outputId": "fc8331f1-ce7b-4441-dbb1-25d6a902b290"
      },
      "source": [
        "nnew = df2.query('group == \"treatment\"')['user_id'].shape[0]\r\n",
        "nnew"
      ],
      "execution_count": 158,
      "outputs": [
        {
          "output_type": "execute_result",
          "data": {
            "text/plain": [
              "145309"
            ]
          },
          "metadata": {
            "tags": []
          },
          "execution_count": 158
        }
      ]
    },
    {
      "cell_type": "markdown",
      "metadata": {
        "id": "uMK2y-6XHobK"
      },
      "source": [
        " What is 𝑛𝑜𝑙𝑑, the number of individuals in the control group?"
      ]
    },
    {
      "cell_type": "code",
      "metadata": {
        "colab": {
          "base_uri": "https://localhost:8080/"
        },
        "id": "CTMmiZJIHqgg",
        "outputId": "c27d19bc-d54e-42ab-a309-77cbb5aec285"
      },
      "source": [
        "nold = df2.query('group == \"control\"')['user_id'].shape[0]\r\n",
        "nold"
      ],
      "execution_count": 159,
      "outputs": [
        {
          "output_type": "execute_result",
          "data": {
            "text/plain": [
              "145274"
            ]
          },
          "metadata": {
            "tags": []
          },
          "execution_count": 159
        }
      ]
    },
    {
      "cell_type": "markdown",
      "metadata": {
        "id": "1QUNLCDTISMV"
      },
      "source": [
        "p_new - p_old under the null."
      ]
    },
    {
      "cell_type": "code",
      "metadata": {
        "colab": {
          "base_uri": "https://localhost:8080/"
        },
        "id": "BBapb_3pIUaG",
        "outputId": "d217fed0-c647-477e-e2fd-4ab0e5f1f91d"
      },
      "source": [
        "p_new-p_old"
      ],
      "execution_count": 160,
      "outputs": [
        {
          "output_type": "execute_result",
          "data": {
            "text/plain": [
              "0.0"
            ]
          },
          "metadata": {
            "tags": []
          },
          "execution_count": 160
        }
      ]
    },
    {
      "cell_type": "markdown",
      "metadata": {
        "id": "GeWbnLGZOG5O"
      },
      "source": [
        "e. Simulate 𝑛𝑛𝑒𝑤 transactions with a conversion rate of 𝑝𝑛𝑒𝑤 under the null. Store these 𝑛𝑛𝑒𝑤 1's and 0's in new_page_converted."
      ]
    },
    {
      "cell_type": "code",
      "metadata": {
        "colab": {
          "base_uri": "https://localhost:8080/"
        },
        "id": "Pjt_5UnuPUhP",
        "outputId": "14f11cf5-b2fe-487f-f8b5-0219f28ea6e9"
      },
      "source": [
        "#We need to check whether the simulated data creates a normal distribution or not. \r\n",
        "#In addition, we want to check what the data should look like under the null hypothesis.\r\n",
        "new_page_converted = np.random.choice([0,1], size=nnew, p = [1-p_new, p_new])\r\n",
        "new_page_converted"
      ],
      "execution_count": 161,
      "outputs": [
        {
          "output_type": "execute_result",
          "data": {
            "text/plain": [
              "array([0, 1, 0, ..., 0, 0, 0])"
            ]
          },
          "metadata": {
            "tags": []
          },
          "execution_count": 161
        }
      ]
    },
    {
      "cell_type": "markdown",
      "metadata": {
        "id": "erWx4LLUWpY-"
      },
      "source": [
        "f. Simulate 𝑛𝑜𝑙𝑑 transactions with a conversion rate of 𝑝𝑜𝑙𝑑 under the null. Store these 𝑛𝑜𝑙𝑑 1's and 0's in old_page_converted."
      ]
    },
    {
      "cell_type": "code",
      "metadata": {
        "colab": {
          "base_uri": "https://localhost:8080/"
        },
        "id": "qAxXcuFiWr0N",
        "outputId": "274e6557-fac4-47bf-95bf-31ea872076b3"
      },
      "source": [
        "old_page_converted = np.random.choice([0,1], size= nold, p=[1-p_old, p_old])\r\n",
        "old_page_converted"
      ],
      "execution_count": 162,
      "outputs": [
        {
          "output_type": "execute_result",
          "data": {
            "text/plain": [
              "array([0, 0, 0, ..., 0, 0, 0])"
            ]
          },
          "metadata": {
            "tags": []
          },
          "execution_count": 162
        }
      ]
    },
    {
      "cell_type": "markdown",
      "metadata": {
        "id": "AAU6etiFX-Xx"
      },
      "source": [
        "g. Find 𝑝𝑛𝑒𝑤 - 𝑝𝑜𝑙𝑑 for your simulated values from part (e) and (f)."
      ]
    },
    {
      "cell_type": "code",
      "metadata": {
        "colab": {
          "base_uri": "https://localhost:8080/"
        },
        "id": "DKGDYmONYADW",
        "outputId": "19d47cda-ba3f-453c-8da9-1e4485e5af39"
      },
      "source": [
        "obs_diff = new_page_converted.mean() - old_page_converted.mean()\r\n",
        "obs_diff"
      ],
      "execution_count": 163,
      "outputs": [
        {
          "output_type": "execute_result",
          "data": {
            "text/plain": [
              "0.0005150251957173196"
            ]
          },
          "metadata": {
            "tags": []
          },
          "execution_count": 163
        }
      ]
    },
    {
      "cell_type": "markdown",
      "metadata": {
        "id": "kRYUgQGEbWy-"
      },
      "source": [
        "h. Create 10,000 𝑝𝑛𝑒𝑤 - 𝑝𝑜𝑙𝑑\r\n",
        "\r\n",
        "values using the same simulation process you used in parts (a) through (g) above. Store all 10,000 values in a NumPy array called p_diffs.\r\n",
        "\r\n",
        "​"
      ]
    },
    {
      "cell_type": "code",
      "metadata": {
        "colab": {
          "base_uri": "https://localhost:8080/"
        },
        "id": "5JCLM7-2c5mo",
        "outputId": "dc759fd5-5eef-4115-99f7-e4720b974ed4"
      },
      "source": [
        "p_diffs = []\r\n",
        "for _ in range(10000):\r\n",
        "  new_converted = np.random.choice([0,1], size = nnew, p = [1-p_new, p_new])\r\n",
        "  old_converted = np.random.choice([0,1], size= nold, p = [1-p_old, p_old])\r\n",
        "  diff = new_converted.mean() - old_converted.mean()\r\n",
        "  p_diffs.append(diff)\r\n",
        "p_diffs = np.array(p_diffs)\r\n",
        "(p_diffs>obs_diff).mean()"
      ],
      "execution_count": 164,
      "outputs": [
        {
          "output_type": "execute_result",
          "data": {
            "text/plain": [
              "0.3311"
            ]
          },
          "metadata": {
            "tags": []
          },
          "execution_count": 164
        }
      ]
    },
    {
      "cell_type": "markdown",
      "metadata": {
        "id": "QFfQ47cJbzrN"
      },
      "source": [
        "i. Plot a histogram of the p_diffs. Does this plot look like what you expected? Use the matching problem in the classroom to assure you fully understand what was computed here.\r\n",
        "\r\n",
        "​"
      ]
    },
    {
      "cell_type": "code",
      "metadata": {
        "colab": {
          "base_uri": "https://localhost:8080/",
          "height": 313
        },
        "id": "kLBS_J0xcpS-",
        "outputId": "80cdda7f-d2c2-4d05-fd8a-c6b4a7151e70"
      },
      "source": [
        "plt.hist(p_diffs)\r\n",
        "plt.title('sampling distribution for the difference in means of new and old page conversion')\r\n",
        "plt.axvline(x = p_diffs.mean(), color = 'r')\r\n",
        "plt.xlabel('Average number of conversion in both pages')\r\n",
        "plt.ylabel('count')"
      ],
      "execution_count": 165,
      "outputs": [
        {
          "output_type": "execute_result",
          "data": {
            "text/plain": [
              "Text(0, 0.5, 'count')"
            ]
          },
          "metadata": {
            "tags": []
          },
          "execution_count": 165
        },
        {
          "output_type": "display_data",
          "data": {
            "image/png": "[encoded data removed]",
            "text/plain": [
              "<Figure size 432x288 with 1 Axes>"
            ]
          },
          "metadata": {
            "tags": [],
            "needs_background": "light"
          }
        }
      ]
    },
    {
      "cell_type": "markdown",
      "metadata": {
        "id": "iD2WM5KJgjqv"
      },
      "source": [
        "Histogram of sampling distrbution seems to me normally distributed and our p value is to be right of the plot, pvalue is less than 5% so we reject null hypothesis in favor of alternative hypothesis."
      ]
    },
    {
      "cell_type": "markdown",
      "metadata": {
        "id": "cdiktL1Oh4Dc"
      },
      "source": [
        "j. What proportion of the p_diffs are greater than the actual difference observed in ab_data.csv?\r\n",
        "\r\n",
        "​"
      ]
    },
    {
      "cell_type": "code",
      "metadata": {
        "colab": {
          "base_uri": "https://localhost:8080/"
        },
        "id": "hmv7U0gKn6xY",
        "outputId": "98fe5383-b142-491a-b155-d57ae5a21600"
      },
      "source": [
        "p_diffs = np.array(p_diffs) #converting p_diffs in array\r\n",
        "p_diffs"
      ],
      "execution_count": 166,
      "outputs": [
        {
          "output_type": "execute_result",
          "data": {
            "text/plain": [
              "array([ 1.13431703e-03,  3.35917090e-04, -2.55870408e-04, ...,\n",
              "        1.45787676e-03,  3.29831144e-05, -7.00545071e-05])"
            ]
          },
          "metadata": {
            "tags": []
          },
          "execution_count": 166
        }
      ]
    },
    {
      "cell_type": "code",
      "metadata": {
        "colab": {
          "base_uri": "https://localhost:8080/"
        },
        "id": "U8GWbiveoN9e",
        "outputId": "ca3e2a08-ef65-457a-dd3f-73226372693a"
      },
      "source": [
        "#finding obseerved difference between tretment and control group conversion\r\n",
        "observed_diff = df2.query('group == \"treatment\"')['converted'].mean()- df2.query('group == \"control\"')['converted'].mean()\r\n",
        "observed_diff"
      ],
      "execution_count": 167,
      "outputs": [
        {
          "output_type": "execute_result",
          "data": {
            "text/plain": [
              "-0.0015774213617705535"
            ]
          },
          "metadata": {
            "tags": []
          },
          "execution_count": 167
        }
      ]
    },
    {
      "cell_type": "code",
      "metadata": {
        "colab": {
          "base_uri": "https://localhost:8080/"
        },
        "id": "vq_51g_jpaiB",
        "outputId": "f83b81ab-b1fe-4eaf-d099-66397590cb24"
      },
      "source": [
        "#See the sampling distribution of group conversion is greater than the actual observation.\r\n",
        "(p_diffs>observed_diff)"
      ],
      "execution_count": 168,
      "outputs": [
        {
          "output_type": "execute_result",
          "data": {
            "text/plain": [
              "array([ True,  True,  True, ...,  True,  True,  True])"
            ]
          },
          "metadata": {
            "tags": []
          },
          "execution_count": 168
        }
      ]
    },
    {
      "cell_type": "code",
      "metadata": {
        "colab": {
          "base_uri": "https://localhost:8080/"
        },
        "id": "_AlYKekcp16v",
        "outputId": "200dd8ce-143b-41cb-b832-bac5c70e8f28"
      },
      "source": [
        "#proportion of the p_diffs are greater than the actual difference observed in ab_data.csv\r\n",
        "(p_diffs>observed_diff).mean()"
      ],
      "execution_count": 169,
      "outputs": [
        {
          "output_type": "execute_result",
          "data": {
            "text/plain": [
              "0.9043"
            ]
          },
          "metadata": {
            "tags": []
          },
          "execution_count": 169
        }
      ]
    },
    {
      "cell_type": "markdown",
      "metadata": {
        "id": "tTiDP9o3rUg4"
      },
      "source": [
        "k. Please explain using the vocabulary you've learned in this course what you just computed in part j. What is this value called in scientific studies? What does this value mean in terms of whether or not there is a difference between the new and old pages?\r\n",
        "\r\n",
        "Firstly, we setup our null and alternative hypothesis\r\n",
        "\r\n",
        "H0: Pnew <= Pold\r\n",
        "\r\n",
        "H1 : Pnew > Pold\r\n",
        "In the first part we found the pvalue under the null hypothesis where all conversion of users were equal in treatment and control group. pvalue from the smapling distribution was 0.4121 means our p value is greater than 95% of confidence interval, Therefore, we do not have evidence that we can reject null hypothesis in favour of alternate. \r\n",
        "Pvalue is the probability of observing your static if the null hypothesis is true."
      ]
    },
    {
      "cell_type": "markdown",
      "metadata": {
        "id": "KDHFg1W1ysXV"
      },
      "source": [
        "l. We could also use a built-in to achieve similar results. Though using the built-in might be easier to code, the above portions are a walkthrough of the ideas that are critical to correctly thinking about statistical significance. Fill in the below to calculate the number of conversions for each page, as well as the number of individuals who received each page. Let n_old and n_new refer the the number of rows associated with the old page and new pages, respectively."
      ]
    },
    {
      "cell_type": "code",
      "metadata": {
        "colab": {
          "base_uri": "https://localhost:8080/"
        },
        "id": "VLpd9PvyzPSq",
        "outputId": "082af80d-f68c-4e60-b3a9-285fb8ca66a1"
      },
      "source": [
        "import statsmodels.api as sm\r\n",
        "\r\n",
        "convert_old = df2.query('landing_page== \"old_page\" and converted == 1').count()[0]\r\n",
        "convert_new = df2.query('landing_page== \"new_page\" and converted == 1').count()[0]\r\n",
        "n_old = df2.query('landing_page== \"old_page\"').count()[0]\r\n",
        "n_new = df2.query('landing_page== \"new_page\"').count()[0]\r\n",
        "print(\"converted_old:\", convert_old)\r\n",
        "print(\"converted_new:\", convert_new)\r\n",
        "print(\"n_old:\", n_old)\r\n",
        "print(\"n_new:\", n_new)"
      ],
      "execution_count": 170,
      "outputs": [
        {
          "output_type": "stream",
          "text": [
            "converted_old: 17489\n",
            "converted_new: 17264\n",
            "n_old: 145274\n",
            "n_new: 145309\n"
          ],
          "name": "stdout"
        }
      ]
    },
    {
      "cell_type": "markdown",
      "metadata": {
        "id": "jCMRqUnk56EP"
      },
      "source": [
        "m. Now use stats.proportions_ztest to compute your test statistic and p-value. Here is a helpful link on using the built in."
      ]
    },
    {
      "cell_type": "code",
      "metadata": {
        "colab": {
          "base_uri": "https://localhost:8080/"
        },
        "id": "HGJJInpxRjy7",
        "outputId": "7c7c9ed7-ac8a-416b-913b-4b5fb67acc29"
      },
      "source": [
        "#H0: pold = pnew\r\n",
        "#H1: pold != pnew\r\n",
        "#from statsmodels.stats.proportion import stats.proportions_ztest\r\n",
        "no_of_success = ([17489,17264])\r\n",
        "total_sample = ([145274, 145309])\r\n",
        "z_score, p_value = sm.stats.proportions_ztest(no_of_success, total_sample, alternative='smaller')\r\n",
        "print('z_score {}'.format(z_score))\r\n",
        "print('p_value {}'.format(p_value))"
      ],
      "execution_count": 171,
      "outputs": [
        {
          "output_type": "stream",
          "text": [
            "z_score 1.3102408579271012\n",
            "p_value 0.9049428161159749\n"
          ],
          "name": "stdout"
        }
      ]
    },
    {
      "cell_type": "code",
      "metadata": {
        "id": "GwT_s_eoToHB",
        "colab": {
          "base_uri": "https://localhost:8080/"
        },
        "outputId": "d8602174-5de9-4f22-caf8-71b3d1331360"
      },
      "source": [
        "#critcal_value = (1-0.05)= 0.95\r\n",
        "#from the z table of right tail \r\n",
        "1.65"
      ],
      "execution_count": 99,
      "outputs": [
        {
          "output_type": "execute_result",
          "data": {
            "text/plain": [
              "1.65"
            ]
          },
          "metadata": {
            "tags": []
          },
          "execution_count": 99
        }
      ]
    },
    {
      "cell_type": "markdown",
      "metadata": {
        "id": "7Em-XKQncAG3"
      },
      "source": [
        "n. What do the z-score and p-value you computed in the previous question mean for the conversion rates of the old and new pages? Do they agree with the findings in parts j. and k.?\r\n",
        "\r\n",
        "In the previous question  pvlaue is exactly the as same as computed through statsmodel left tail test. In the begining question we set up that old page is better than new page in the null hypothesis in favour of 5% of type 1 error rate. From the all calculations with population and  with sample we found that pvalue is greater than 5% of type 1 error error rate. P vlaue is 0.9 which is grater than 0.05, It's not statistical significant and strong evidence for null hypothesis. We fail to reject null hypothesis.\r\n"
      ]
    },
    {
      "cell_type": "markdown",
      "metadata": {
        "id": "Qkif_X_ZVKeH"
      },
      "source": [
        "## Part III - A regression approach\r\n",
        "\r\n",
        "1.In this final part, you will see that the result you achieved in the A/B test in Part II above can also be achieved by performing regression.\r\n",
        "\r\n",
        "a. Since each row is either a conversion or no conversion, what type of regression should you be performing in this case?\r\n",
        "\r\n",
        "Logistic regression should be better for that dataset. Logistic regression is a regression approach used to predict only two possible outcomes, here we have to predict whether user convert to treatmetn group or not."
      ]
    },
    {
      "cell_type": "markdown",
      "metadata": {
        "id": "cmnkvvzPbfRQ"
      },
      "source": [
        "b. The goal is to use statsmodels to fit the regression model you specified in part a. to see if there is a significant difference in conversion based on which page a customer receives. However, you first need to create in df2 a column for the intercept, and create a dummy variable column for which page each user received. Add an intercept column, as well as an ab_page column, which is 1 when an individual receives the treatment and 0 if control."
      ]
    },
    {
      "cell_type": "code",
      "metadata": {
        "id": "Cng5aa3VlzrE"
      },
      "source": [
        "df2['intercept'] = 1\r\n",
        "df2['ab_page'] = pd.get_dummies(df2['group'])['treatment']\r\n"
      ],
      "execution_count": 172,
      "outputs": []
    },
    {
      "cell_type": "code",
      "metadata": {
        "colab": {
          "base_uri": "https://localhost:8080/",
          "height": 175
        },
        "id": "OE_0mhquciVa",
        "outputId": "3b935430-9bb3-4fce-d160-23bd97b2a201"
      },
      "source": [
        "df2.head(4)"
      ],
      "execution_count": 173,
      "outputs": [
        {
          "output_type": "execute_result",
          "data": {
            "text/html": [
              "<div>\n",
              "<style scoped>\n",
              "    .dataframe tbody tr th:only-of-type {\n",
              "        vertical-align: middle;\n",
              "    }\n",
              "\n",
              "    .dataframe tbody tr th {\n",
              "        vertical-align: top;\n",
              "    }\n",
              "\n",
              "    .dataframe thead th {\n",
              "        text-align: right;\n",
              "    }\n",
              "</style>\n",
              "<table border=\"1\" class=\"dataframe\">\n",
              "  <thead>\n",
              "    <tr style=\"text-align: right;\">\n",
              "      <th></th>\n",
              "      <th>user_id</th>\n",
              "      <th>timestamp</th>\n",
              "      <th>group</th>\n",
              "      <th>landing_page</th>\n",
              "      <th>converted</th>\n",
              "      <th>intercept</th>\n",
              "      <th>ab_page</th>\n",
              "    </tr>\n",
              "  </thead>\n",
              "  <tbody>\n",
              "    <tr>\n",
              "      <th>0</th>\n",
              "      <td>851104</td>\n",
              "      <td>2017-01-21 22:11:48.556739</td>\n",
              "      <td>control</td>\n",
              "      <td>old_page</td>\n",
              "      <td>0</td>\n",
              "      <td>1</td>\n",
              "      <td>0</td>\n",
              "    </tr>\n",
              "    <tr>\n",
              "      <th>1</th>\n",
              "      <td>804228</td>\n",
              "      <td>2017-01-12 08:01:45.159739</td>\n",
              "      <td>control</td>\n",
              "      <td>old_page</td>\n",
              "      <td>0</td>\n",
              "      <td>1</td>\n",
              "      <td>0</td>\n",
              "    </tr>\n",
              "    <tr>\n",
              "      <th>2</th>\n",
              "      <td>661590</td>\n",
              "      <td>2017-01-11 16:55:06.154213</td>\n",
              "      <td>treatment</td>\n",
              "      <td>new_page</td>\n",
              "      <td>0</td>\n",
              "      <td>1</td>\n",
              "      <td>1</td>\n",
              "    </tr>\n",
              "    <tr>\n",
              "      <th>3</th>\n",
              "      <td>853541</td>\n",
              "      <td>2017-01-08 18:28:03.143765</td>\n",
              "      <td>treatment</td>\n",
              "      <td>new_page</td>\n",
              "      <td>0</td>\n",
              "      <td>1</td>\n",
              "      <td>1</td>\n",
              "    </tr>\n",
              "  </tbody>\n",
              "</table>\n",
              "</div>"
            ],
            "text/plain": [
              "   user_id                   timestamp  ... intercept ab_page\n",
              "0   851104  2017-01-21 22:11:48.556739  ...         1       0\n",
              "1   804228  2017-01-12 08:01:45.159739  ...         1       0\n",
              "2   661590  2017-01-11 16:55:06.154213  ...         1       1\n",
              "3   853541  2017-01-08 18:28:03.143765  ...         1       1\n",
              "\n",
              "[4 rows x 7 columns]"
            ]
          },
          "metadata": {
            "tags": []
          },
          "execution_count": 173
        }
      ]
    },
    {
      "cell_type": "markdown",
      "metadata": {
        "id": "dcNknzb-lPIB"
      },
      "source": [
        "c. Use statsmodels to instantiate your regression model on the two columns you created in part b., then fit the model using the two columns you created in part b. to predict whether or not an individual converts. "
      ]
    },
    {
      "cell_type": "code",
      "metadata": {
        "colab": {
          "base_uri": "https://localhost:8080/",
          "height": 307
        },
        "id": "zGMH4g41lT-1",
        "outputId": "d82a7116-6c11-4f02-bfad-b1b375e71bf1"
      },
      "source": [
        "logit = sm.Logit(df2['converted'], df2[['intercept', 'ab_page']])\r\n",
        "results = logit.fit()\r\n",
        "results.summary()"
      ],
      "execution_count": 174,
      "outputs": [
        {
          "output_type": "stream",
          "text": [
            "Optimization terminated successfully.\n",
            "         Current function value: 0.366119\n",
            "         Iterations 6\n"
          ],
          "name": "stdout"
        },
        {
          "output_type": "execute_result",
          "data": {
            "text/html": [
              "<table class=\"simpletable\">\n",
              "<caption>Logit Regression Results</caption>\n",
              "<tr>\n",
              "  <th>Dep. Variable:</th>       <td>converted</td>    <th>  No. Observations:  </th>   <td>290583</td>   \n",
              "</tr>\n",
              "<tr>\n",
              "  <th>Model:</th>                 <td>Logit</td>      <th>  Df Residuals:      </th>   <td>290581</td>   \n",
              "</tr>\n",
              "<tr>\n",
              "  <th>Method:</th>                 <td>MLE</td>       <th>  Df Model:          </th>   <td>     1</td>   \n",
              "</tr>\n",
              "<tr>\n",
              "  <th>Date:</th>            <td>Thu, 04 Feb 2021</td> <th>  Pseudo R-squ.:     </th>  <td>8.068e-06</td> \n",
              "</tr>\n",
              "<tr>\n",
              "  <th>Time:</th>                <td>04:05:00</td>     <th>  Log-Likelihood:    </th> <td>-1.0639e+05</td>\n",
              "</tr>\n",
              "<tr>\n",
              "  <th>converged:</th>             <td>True</td>       <th>  LL-Null:           </th> <td>-1.0639e+05</td>\n",
              "</tr>\n",
              "<tr>\n",
              "  <th>Covariance Type:</th>     <td>nonrobust</td>    <th>  LLR p-value:       </th>   <td>0.1901</td>   \n",
              "</tr>\n",
              "</table>\n",
              "<table class=\"simpletable\">\n",
              "<tr>\n",
              "      <td></td>         <th>coef</th>     <th>std err</th>      <th>z</th>      <th>P>|z|</th>  <th>[0.025</th>    <th>0.975]</th>  \n",
              "</tr>\n",
              "<tr>\n",
              "  <th>intercept</th> <td>   -1.9888</td> <td>    0.008</td> <td> -246.669</td> <td> 0.000</td> <td>   -2.005</td> <td>   -1.973</td>\n",
              "</tr>\n",
              "<tr>\n",
              "  <th>ab_page</th>   <td>   -0.0150</td> <td>    0.011</td> <td>   -1.310</td> <td> 0.190</td> <td>   -0.037</td> <td>    0.007</td>\n",
              "</tr>\n",
              "</table>"
            ],
            "text/plain": [
              "<class 'statsmodels.iolib.summary.Summary'>\n",
              "\"\"\"\n",
              "                           Logit Regression Results                           \n",
              "==============================================================================\n",
              "Dep. Variable:              converted   No. Observations:               290583\n",
              "Model:                          Logit   Df Residuals:                   290581\n",
              "Method:                           MLE   Df Model:                            1\n",
              "Date:                Thu, 04 Feb 2021   Pseudo R-squ.:               8.068e-06\n",
              "Time:                        04:05:00   Log-Likelihood:            -1.0639e+05\n",
              "converged:                       True   LL-Null:                   -1.0639e+05\n",
              "Covariance Type:            nonrobust   LLR p-value:                    0.1901\n",
              "==============================================================================\n",
              "                 coef    std err          z      P>|z|      [0.025      0.975]\n",
              "------------------------------------------------------------------------------\n",
              "intercept     -1.9888      0.008   -246.669      0.000      -2.005      -1.973\n",
              "ab_page       -0.0150      0.011     -1.310      0.190      -0.037       0.007\n",
              "==============================================================================\n",
              "\"\"\""
            ]
          },
          "metadata": {
            "tags": []
          },
          "execution_count": 174
        }
      ]
    },
    {
      "cell_type": "code",
      "metadata": {
        "colab": {
          "base_uri": "https://localhost:8080/"
        },
        "id": "nxU9s76inrKw",
        "outputId": "3530def7-e74f-4d21-f71b-201494330317"
      },
      "source": [
        "print(results.params)"
      ],
      "execution_count": 175,
      "outputs": [
        {
          "output_type": "stream",
          "text": [
            "intercept   -1.988777\n",
            "ab_page     -0.014981\n",
            "dtype: float64\n"
          ],
          "name": "stdout"
        }
      ]
    },
    {
      "cell_type": "code",
      "metadata": {
        "colab": {
          "base_uri": "https://localhost:8080/"
        },
        "id": "SVU1NyUmn5_Q",
        "outputId": "f3bb8d05-ced3-4d39-8283-d62af7fcd177"
      },
      "source": [
        "np.exp(results.params)"
      ],
      "execution_count": 176,
      "outputs": [
        {
          "output_type": "execute_result",
          "data": {
            "text/plain": [
              "intercept    0.136863\n",
              "ab_page      0.985130\n",
              "dtype: float64"
            ]
          },
          "metadata": {
            "tags": []
          },
          "execution_count": 176
        }
      ]
    },
    {
      "cell_type": "code",
      "metadata": {
        "colab": {
          "base_uri": "https://localhost:8080/"
        },
        "id": "ClHdtMC9oKmx",
        "outputId": "e2832db9-15ee-4f64-e885-7f17990f0986"
      },
      "source": [
        "1/_"
      ],
      "execution_count": 177,
      "outputs": [
        {
          "output_type": "execute_result",
          "data": {
            "text/plain": [
              "intercept    7.306593\n",
              "ab_page      1.015094\n",
              "dtype: float64"
            ]
          },
          "metadata": {
            "tags": []
          },
          "execution_count": 177
        }
      ]
    },
    {
      "cell_type": "markdown",
      "metadata": {
        "id": "UuPME7Wwt523"
      },
      "source": [
        "d. Provide the summary of your model below, and use it as necessary to answer the following questions.\r\n"
      ]
    },
    {
      "cell_type": "markdown",
      "metadata": {
        "id": "wzKsQn9o1pXA"
      },
      "source": [
        "e. What is the p-value associated with ab_page? Why does it differ from the value you found in Part II?\r\n",
        "The p-value is 0.190 associated with ap_page which is higher than error rate.\r\n",
        "The p-value is part II is 0.90 from z-test and and from the observed difference of conversion rate. In z-test we used one tail test, and the value was 0.90 which is higher than error rate. In the part II null and alternative hypothesis are:\r\n",
        "\r\n",
        "H0: Pnew <= Pold\r\n",
        "\r\n",
        "H1 : Pnew > Pold\r\n",
        "\r\n",
        "In the regression model we are used two tail test:\r\n",
        "\r\n",
        "H0: Pnew = Pold\r\n",
        "\r\n",
        "H1 : Pnew != Pold\r\n",
        "\r\n",
        "It is not statistically significant that new page is better than old page from the regression model.\r\n",
        "\r\n"
      ]
    },
    {
      "cell_type": "markdown",
      "metadata": {
        "id": "Az26THu2NQS6"
      },
      "source": [
        "f. Now, you are considering other things that might influence whether or not an individual converts. Discuss why it is a good idea to consider other factors to add into your regression model. Are there any disadvantages to adding additional terms into your regression model?\r\n",
        "\r\n",
        "If we use other factors that might influence conversion rate in our webpage, but our model is not statistically significant in favour of alternative hypothesis. In the same model we can improve old page instead of launching new page, and it would be cost efficency. Using other factors in the webpage that might cost too. "
      ]
    },
    {
      "cell_type": "markdown",
      "metadata": {
        "id": "ALZVlYrpyYBp"
      },
      "source": [
        "g. Now along with testing if the conversion rate changes for different pages, also add an effect based on which country a user lives in. You will need to read in the countries.csv dataset and merge together your datasets on the appropriate rows."
      ]
    },
    {
      "cell_type": "code",
      "metadata": {
        "colab": {
          "base_uri": "https://localhost:8080/",
          "height": 206
        },
        "id": "VIEiT3lyodDj",
        "outputId": "ce6e3e0b-05aa-44be-e767-d32434babfe4"
      },
      "source": [
        "#reding and print few lines of country data.\r\n",
        "df = df1 = pd.read_csv('/content/drive/My Drive/Colab Notebooks/udacity_projects/countries.csv')\r\n",
        "df.head(5)"
      ],
      "execution_count": 178,
      "outputs": [
        {
          "output_type": "execute_result",
          "data": {
            "text/html": [
              "<div>\n",
              "<style scoped>\n",
              "    .dataframe tbody tr th:only-of-type {\n",
              "        vertical-align: middle;\n",
              "    }\n",
              "\n",
              "    .dataframe tbody tr th {\n",
              "        vertical-align: top;\n",
              "    }\n",
              "\n",
              "    .dataframe thead th {\n",
              "        text-align: right;\n",
              "    }\n",
              "</style>\n",
              "<table border=\"1\" class=\"dataframe\">\n",
              "  <thead>\n",
              "    <tr style=\"text-align: right;\">\n",
              "      <th></th>\n",
              "      <th>user_id</th>\n",
              "      <th>country</th>\n",
              "    </tr>\n",
              "  </thead>\n",
              "  <tbody>\n",
              "    <tr>\n",
              "      <th>0</th>\n",
              "      <td>834778</td>\n",
              "      <td>UK</td>\n",
              "    </tr>\n",
              "    <tr>\n",
              "      <th>1</th>\n",
              "      <td>928468</td>\n",
              "      <td>US</td>\n",
              "    </tr>\n",
              "    <tr>\n",
              "      <th>2</th>\n",
              "      <td>822059</td>\n",
              "      <td>UK</td>\n",
              "    </tr>\n",
              "    <tr>\n",
              "      <th>3</th>\n",
              "      <td>711597</td>\n",
              "      <td>UK</td>\n",
              "    </tr>\n",
              "    <tr>\n",
              "      <th>4</th>\n",
              "      <td>710616</td>\n",
              "      <td>UK</td>\n",
              "    </tr>\n",
              "  </tbody>\n",
              "</table>\n",
              "</div>"
            ],
            "text/plain": [
              "   user_id country\n",
              "0   834778      UK\n",
              "1   928468      US\n",
              "2   822059      UK\n",
              "3   711597      UK\n",
              "4   710616      UK"
            ]
          },
          "metadata": {
            "tags": []
          },
          "execution_count": 178
        }
      ]
    },
    {
      "cell_type": "code",
      "metadata": {
        "colab": {
          "base_uri": "https://localhost:8080/",
          "height": 424
        },
        "id": "TCgK5KoNx0YK",
        "outputId": "49e0dcb6-4048-4b79-a604-cc35d3f95a78"
      },
      "source": [
        "#dummy variables of couuntry data, dropping first one that is CA.\r\n",
        "country = pd.get_dummies(df['country'], drop_first= True)\r\n",
        "country"
      ],
      "execution_count": 179,
      "outputs": [
        {
          "output_type": "execute_result",
          "data": {
            "text/html": [
              "<div>\n",
              "<style scoped>\n",
              "    .dataframe tbody tr th:only-of-type {\n",
              "        vertical-align: middle;\n",
              "    }\n",
              "\n",
              "    .dataframe tbody tr th {\n",
              "        vertical-align: top;\n",
              "    }\n",
              "\n",
              "    .dataframe thead th {\n",
              "        text-align: right;\n",
              "    }\n",
              "</style>\n",
              "<table border=\"1\" class=\"dataframe\">\n",
              "  <thead>\n",
              "    <tr style=\"text-align: right;\">\n",
              "      <th></th>\n",
              "      <th>UK</th>\n",
              "      <th>US</th>\n",
              "    </tr>\n",
              "  </thead>\n",
              "  <tbody>\n",
              "    <tr>\n",
              "      <th>0</th>\n",
              "      <td>1</td>\n",
              "      <td>0</td>\n",
              "    </tr>\n",
              "    <tr>\n",
              "      <th>1</th>\n",
              "      <td>0</td>\n",
              "      <td>1</td>\n",
              "    </tr>\n",
              "    <tr>\n",
              "      <th>2</th>\n",
              "      <td>1</td>\n",
              "      <td>0</td>\n",
              "    </tr>\n",
              "    <tr>\n",
              "      <th>3</th>\n",
              "      <td>1</td>\n",
              "      <td>0</td>\n",
              "    </tr>\n",
              "    <tr>\n",
              "      <th>4</th>\n",
              "      <td>1</td>\n",
              "      <td>0</td>\n",
              "    </tr>\n",
              "    <tr>\n",
              "      <th>...</th>\n",
              "      <td>...</td>\n",
              "      <td>...</td>\n",
              "    </tr>\n",
              "    <tr>\n",
              "      <th>290579</th>\n",
              "      <td>0</td>\n",
              "      <td>1</td>\n",
              "    </tr>\n",
              "    <tr>\n",
              "      <th>290580</th>\n",
              "      <td>1</td>\n",
              "      <td>0</td>\n",
              "    </tr>\n",
              "    <tr>\n",
              "      <th>290581</th>\n",
              "      <td>1</td>\n",
              "      <td>0</td>\n",
              "    </tr>\n",
              "    <tr>\n",
              "      <th>290582</th>\n",
              "      <td>0</td>\n",
              "      <td>0</td>\n",
              "    </tr>\n",
              "    <tr>\n",
              "      <th>290583</th>\n",
              "      <td>1</td>\n",
              "      <td>0</td>\n",
              "    </tr>\n",
              "  </tbody>\n",
              "</table>\n",
              "<p>290584 rows × 2 columns</p>\n",
              "</div>"
            ],
            "text/plain": [
              "        UK  US\n",
              "0        1   0\n",
              "1        0   1\n",
              "2        1   0\n",
              "3        1   0\n",
              "4        1   0\n",
              "...     ..  ..\n",
              "290579   0   1\n",
              "290580   1   0\n",
              "290581   1   0\n",
              "290582   0   0\n",
              "290583   1   0\n",
              "\n",
              "[290584 rows x 2 columns]"
            ]
          },
          "metadata": {
            "tags": []
          },
          "execution_count": 179
        }
      ]
    },
    {
      "cell_type": "code",
      "metadata": {
        "colab": {
          "base_uri": "https://localhost:8080/",
          "height": 112
        },
        "id": "i8CikLGLLKrU",
        "outputId": "5f9256b7-a8b7-4d04-8942-da649f0bb8de"
      },
      "source": [
        "df = df.join(country, how = 'right')\r\n",
        "df.head(2)"
      ],
      "execution_count": 180,
      "outputs": [
        {
          "output_type": "execute_result",
          "data": {
            "text/html": [
              "<div>\n",
              "<style scoped>\n",
              "    .dataframe tbody tr th:only-of-type {\n",
              "        vertical-align: middle;\n",
              "    }\n",
              "\n",
              "    .dataframe tbody tr th {\n",
              "        vertical-align: top;\n",
              "    }\n",
              "\n",
              "    .dataframe thead th {\n",
              "        text-align: right;\n",
              "    }\n",
              "</style>\n",
              "<table border=\"1\" class=\"dataframe\">\n",
              "  <thead>\n",
              "    <tr style=\"text-align: right;\">\n",
              "      <th></th>\n",
              "      <th>user_id</th>\n",
              "      <th>country</th>\n",
              "      <th>UK</th>\n",
              "      <th>US</th>\n",
              "    </tr>\n",
              "  </thead>\n",
              "  <tbody>\n",
              "    <tr>\n",
              "      <th>0</th>\n",
              "      <td>834778</td>\n",
              "      <td>UK</td>\n",
              "      <td>1</td>\n",
              "      <td>0</td>\n",
              "    </tr>\n",
              "    <tr>\n",
              "      <th>1</th>\n",
              "      <td>928468</td>\n",
              "      <td>US</td>\n",
              "      <td>0</td>\n",
              "      <td>1</td>\n",
              "    </tr>\n",
              "  </tbody>\n",
              "</table>\n",
              "</div>"
            ],
            "text/plain": [
              "   user_id country  UK  US\n",
              "0   834778      UK   1   0\n",
              "1   928468      US   0   1"
            ]
          },
          "metadata": {
            "tags": []
          },
          "execution_count": 180
        }
      ]
    },
    {
      "cell_type": "code",
      "metadata": {
        "colab": {
          "base_uri": "https://localhost:8080/"
        },
        "id": "zOKoBGC0JmUV",
        "outputId": "b38b68d6-16cd-4012-adab-af7749fdb891"
      },
      "source": [
        "df.shape, df2.shape"
      ],
      "execution_count": 138,
      "outputs": [
        {
          "output_type": "execute_result",
          "data": {
            "text/plain": [
              "((290584, 4), (290584, 9))"
            ]
          },
          "metadata": {
            "tags": []
          },
          "execution_count": 138
        }
      ]
    },
    {
      "cell_type": "code",
      "metadata": {
        "colab": {
          "base_uri": "https://localhost:8080/"
        },
        "id": "RyFx1dpWJv-L",
        "outputId": "c420bfc1-842c-4133-c1c9-ba7c200837a2"
      },
      "source": [
        "df.isnull().sum()"
      ],
      "execution_count": 139,
      "outputs": [
        {
          "output_type": "execute_result",
          "data": {
            "text/plain": [
              "user_id    0\n",
              "country    0\n",
              "UK         0\n",
              "US         0\n",
              "dtype: int64"
            ]
          },
          "metadata": {
            "tags": []
          },
          "execution_count": 139
        }
      ]
    },
    {
      "cell_type": "code",
      "metadata": {
        "colab": {
          "base_uri": "https://localhost:8080/"
        },
        "id": "tH9pyNTHJ1sS",
        "outputId": "18f8fe39-df22-4cd4-d37e-f84098dd84b8"
      },
      "source": [
        "df.nunique()"
      ],
      "execution_count": 140,
      "outputs": [
        {
          "output_type": "execute_result",
          "data": {
            "text/plain": [
              "user_id    290584\n",
              "country         3\n",
              "UK              2\n",
              "US              2\n",
              "dtype: int64"
            ]
          },
          "metadata": {
            "tags": []
          },
          "execution_count": 140
        }
      ]
    },
    {
      "cell_type": "code",
      "metadata": {
        "colab": {
          "base_uri": "https://localhost:8080/",
          "height": 112
        },
        "id": "4gNX36K-KOii",
        "outputId": "01729177-5e59-4f22-a241-bb134c4f28fb"
      },
      "source": [
        "#dropping user_id and country so data will be consistent to join df2\r\n",
        "df = df.drop('user_id', axis = 1)\r\n",
        "df.head(2)"
      ],
      "execution_count": 181,
      "outputs": [
        {
          "output_type": "execute_result",
          "data": {
            "text/html": [
              "<div>\n",
              "<style scoped>\n",
              "    .dataframe tbody tr th:only-of-type {\n",
              "        vertical-align: middle;\n",
              "    }\n",
              "\n",
              "    .dataframe tbody tr th {\n",
              "        vertical-align: top;\n",
              "    }\n",
              "\n",
              "    .dataframe thead th {\n",
              "        text-align: right;\n",
              "    }\n",
              "</style>\n",
              "<table border=\"1\" class=\"dataframe\">\n",
              "  <thead>\n",
              "    <tr style=\"text-align: right;\">\n",
              "      <th></th>\n",
              "      <th>country</th>\n",
              "      <th>UK</th>\n",
              "      <th>US</th>\n",
              "    </tr>\n",
              "  </thead>\n",
              "  <tbody>\n",
              "    <tr>\n",
              "      <th>0</th>\n",
              "      <td>UK</td>\n",
              "      <td>1</td>\n",
              "      <td>0</td>\n",
              "    </tr>\n",
              "    <tr>\n",
              "      <th>1</th>\n",
              "      <td>US</td>\n",
              "      <td>0</td>\n",
              "      <td>1</td>\n",
              "    </tr>\n",
              "  </tbody>\n",
              "</table>\n",
              "</div>"
            ],
            "text/plain": [
              "  country  UK  US\n",
              "0      UK   1   0\n",
              "1      US   0   1"
            ]
          },
          "metadata": {
            "tags": []
          },
          "execution_count": 181
        }
      ]
    },
    {
      "cell_type": "code",
      "metadata": {
        "colab": {
          "base_uri": "https://localhost:8080/",
          "height": 424
        },
        "id": "T01ngq7oJE6l",
        "outputId": "af8a4e99-b6ab-49b0-8f41-c705ba0ecdba"
      },
      "source": [
        "df2 = df2.join(df, how= 'right')\r\n",
        "df2\r\n"
      ],
      "execution_count": 182,
      "outputs": [
        {
          "output_type": "execute_result",
          "data": {
            "text/html": [
              "<div>\n",
              "<style scoped>\n",
              "    .dataframe tbody tr th:only-of-type {\n",
              "        vertical-align: middle;\n",
              "    }\n",
              "\n",
              "    .dataframe tbody tr th {\n",
              "        vertical-align: top;\n",
              "    }\n",
              "\n",
              "    .dataframe thead th {\n",
              "        text-align: right;\n",
              "    }\n",
              "</style>\n",
              "<table border=\"1\" class=\"dataframe\">\n",
              "  <thead>\n",
              "    <tr style=\"text-align: right;\">\n",
              "      <th></th>\n",
              "      <th>user_id</th>\n",
              "      <th>timestamp</th>\n",
              "      <th>group</th>\n",
              "      <th>landing_page</th>\n",
              "      <th>converted</th>\n",
              "      <th>intercept</th>\n",
              "      <th>ab_page</th>\n",
              "      <th>country</th>\n",
              "      <th>UK</th>\n",
              "      <th>US</th>\n",
              "    </tr>\n",
              "  </thead>\n",
              "  <tbody>\n",
              "    <tr>\n",
              "      <th>0</th>\n",
              "      <td>851104.0</td>\n",
              "      <td>2017-01-21 22:11:48.556739</td>\n",
              "      <td>control</td>\n",
              "      <td>old_page</td>\n",
              "      <td>0.0</td>\n",
              "      <td>1.0</td>\n",
              "      <td>0.0</td>\n",
              "      <td>UK</td>\n",
              "      <td>1</td>\n",
              "      <td>0</td>\n",
              "    </tr>\n",
              "    <tr>\n",
              "      <th>1</th>\n",
              "      <td>804228.0</td>\n",
              "      <td>2017-01-12 08:01:45.159739</td>\n",
              "      <td>control</td>\n",
              "      <td>old_page</td>\n",
              "      <td>0.0</td>\n",
              "      <td>1.0</td>\n",
              "      <td>0.0</td>\n",
              "      <td>US</td>\n",
              "      <td>0</td>\n",
              "      <td>1</td>\n",
              "    </tr>\n",
              "    <tr>\n",
              "      <th>2</th>\n",
              "      <td>661590.0</td>\n",
              "      <td>2017-01-11 16:55:06.154213</td>\n",
              "      <td>treatment</td>\n",
              "      <td>new_page</td>\n",
              "      <td>0.0</td>\n",
              "      <td>1.0</td>\n",
              "      <td>1.0</td>\n",
              "      <td>UK</td>\n",
              "      <td>1</td>\n",
              "      <td>0</td>\n",
              "    </tr>\n",
              "    <tr>\n",
              "      <th>3</th>\n",
              "      <td>853541.0</td>\n",
              "      <td>2017-01-08 18:28:03.143765</td>\n",
              "      <td>treatment</td>\n",
              "      <td>new_page</td>\n",
              "      <td>0.0</td>\n",
              "      <td>1.0</td>\n",
              "      <td>1.0</td>\n",
              "      <td>UK</td>\n",
              "      <td>1</td>\n",
              "      <td>0</td>\n",
              "    </tr>\n",
              "    <tr>\n",
              "      <th>4</th>\n",
              "      <td>864975.0</td>\n",
              "      <td>2017-01-21 01:52:26.210827</td>\n",
              "      <td>control</td>\n",
              "      <td>old_page</td>\n",
              "      <td>1.0</td>\n",
              "      <td>1.0</td>\n",
              "      <td>0.0</td>\n",
              "      <td>UK</td>\n",
              "      <td>1</td>\n",
              "      <td>0</td>\n",
              "    </tr>\n",
              "    <tr>\n",
              "      <th>...</th>\n",
              "      <td>...</td>\n",
              "      <td>...</td>\n",
              "      <td>...</td>\n",
              "      <td>...</td>\n",
              "      <td>...</td>\n",
              "      <td>...</td>\n",
              "      <td>...</td>\n",
              "      <td>...</td>\n",
              "      <td>...</td>\n",
              "      <td>...</td>\n",
              "    </tr>\n",
              "    <tr>\n",
              "      <th>290579</th>\n",
              "      <td>671639.0</td>\n",
              "      <td>2017-01-19 15:54:20.180328</td>\n",
              "      <td>treatment</td>\n",
              "      <td>new_page</td>\n",
              "      <td>0.0</td>\n",
              "      <td>1.0</td>\n",
              "      <td>1.0</td>\n",
              "      <td>US</td>\n",
              "      <td>0</td>\n",
              "      <td>1</td>\n",
              "    </tr>\n",
              "    <tr>\n",
              "      <th>290580</th>\n",
              "      <td>754095.0</td>\n",
              "      <td>2017-01-09 19:53:05.946732</td>\n",
              "      <td>treatment</td>\n",
              "      <td>new_page</td>\n",
              "      <td>0.0</td>\n",
              "      <td>1.0</td>\n",
              "      <td>1.0</td>\n",
              "      <td>UK</td>\n",
              "      <td>1</td>\n",
              "      <td>0</td>\n",
              "    </tr>\n",
              "    <tr>\n",
              "      <th>290581</th>\n",
              "      <td>742628.0</td>\n",
              "      <td>2017-01-02 18:22:24.635607</td>\n",
              "      <td>control</td>\n",
              "      <td>old_page</td>\n",
              "      <td>0.0</td>\n",
              "      <td>1.0</td>\n",
              "      <td>0.0</td>\n",
              "      <td>UK</td>\n",
              "      <td>1</td>\n",
              "      <td>0</td>\n",
              "    </tr>\n",
              "    <tr>\n",
              "      <th>290582</th>\n",
              "      <td>876990.0</td>\n",
              "      <td>2017-01-05 16:52:40.196611</td>\n",
              "      <td>control</td>\n",
              "      <td>old_page</td>\n",
              "      <td>0.0</td>\n",
              "      <td>1.0</td>\n",
              "      <td>0.0</td>\n",
              "      <td>CA</td>\n",
              "      <td>0</td>\n",
              "      <td>0</td>\n",
              "    </tr>\n",
              "    <tr>\n",
              "      <th>290583</th>\n",
              "      <td>823143.0</td>\n",
              "      <td>2017-01-07 14:30:08.008594</td>\n",
              "      <td>control</td>\n",
              "      <td>old_page</td>\n",
              "      <td>0.0</td>\n",
              "      <td>1.0</td>\n",
              "      <td>0.0</td>\n",
              "      <td>UK</td>\n",
              "      <td>1</td>\n",
              "      <td>0</td>\n",
              "    </tr>\n",
              "  </tbody>\n",
              "</table>\n",
              "<p>290584 rows × 10 columns</p>\n",
              "</div>"
            ],
            "text/plain": [
              "         user_id                   timestamp      group  ... country  UK  US\n",
              "0       851104.0  2017-01-21 22:11:48.556739    control  ...      UK   1   0\n",
              "1       804228.0  2017-01-12 08:01:45.159739    control  ...      US   0   1\n",
              "2       661590.0  2017-01-11 16:55:06.154213  treatment  ...      UK   1   0\n",
              "3       853541.0  2017-01-08 18:28:03.143765  treatment  ...      UK   1   0\n",
              "4       864975.0  2017-01-21 01:52:26.210827    control  ...      UK   1   0\n",
              "...          ...                         ...        ...  ...     ...  ..  ..\n",
              "290579  671639.0  2017-01-19 15:54:20.180328  treatment  ...      US   0   1\n",
              "290580  754095.0  2017-01-09 19:53:05.946732  treatment  ...      UK   1   0\n",
              "290581  742628.0  2017-01-02 18:22:24.635607    control  ...      UK   1   0\n",
              "290582  876990.0  2017-01-05 16:52:40.196611    control  ...      CA   0   0\n",
              "290583  823143.0  2017-01-07 14:30:08.008594    control  ...      UK   1   0\n",
              "\n",
              "[290584 rows x 10 columns]"
            ]
          },
          "metadata": {
            "tags": []
          },
          "execution_count": 182
        }
      ]
    },
    {
      "cell_type": "code",
      "metadata": {
        "id": "IcesEaiVzA0H"
      },
      "source": [
        ""
      ],
      "execution_count": null,
      "outputs": []
    },
    {
      "cell_type": "code",
      "metadata": {
        "colab": {
          "base_uri": "https://localhost:8080/",
          "height": 143
        },
        "id": "m-w_XochLySt",
        "outputId": "4e571bcb-a251-4891-c5f1-2ab78e09b1cd"
      },
      "source": [
        "df2.head(3)"
      ],
      "execution_count": 143,
      "outputs": [
        {
          "output_type": "execute_result",
          "data": {
            "text/html": [
              "<div>\n",
              "<style scoped>\n",
              "    .dataframe tbody tr th:only-of-type {\n",
              "        vertical-align: middle;\n",
              "    }\n",
              "\n",
              "    .dataframe tbody tr th {\n",
              "        vertical-align: top;\n",
              "    }\n",
              "\n",
              "    .dataframe thead th {\n",
              "        text-align: right;\n",
              "    }\n",
              "</style>\n",
              "<table border=\"1\" class=\"dataframe\">\n",
              "  <thead>\n",
              "    <tr style=\"text-align: right;\">\n",
              "      <th></th>\n",
              "      <th>user_id</th>\n",
              "      <th>timestamp</th>\n",
              "      <th>group</th>\n",
              "      <th>landing_page</th>\n",
              "      <th>converted</th>\n",
              "      <th>intercept</th>\n",
              "      <th>ab_page</th>\n",
              "      <th>UK</th>\n",
              "      <th>US</th>\n",
              "    </tr>\n",
              "  </thead>\n",
              "  <tbody>\n",
              "    <tr>\n",
              "      <th>0</th>\n",
              "      <td>851104.0</td>\n",
              "      <td>2017-01-21 22:11:48.556739</td>\n",
              "      <td>control</td>\n",
              "      <td>old_page</td>\n",
              "      <td>0.0</td>\n",
              "      <td>1.0</td>\n",
              "      <td>0.0</td>\n",
              "      <td>1</td>\n",
              "      <td>0</td>\n",
              "    </tr>\n",
              "    <tr>\n",
              "      <th>1</th>\n",
              "      <td>804228.0</td>\n",
              "      <td>2017-01-12 08:01:45.159739</td>\n",
              "      <td>control</td>\n",
              "      <td>old_page</td>\n",
              "      <td>0.0</td>\n",
              "      <td>1.0</td>\n",
              "      <td>0.0</td>\n",
              "      <td>0</td>\n",
              "      <td>1</td>\n",
              "    </tr>\n",
              "    <tr>\n",
              "      <th>2</th>\n",
              "      <td>661590.0</td>\n",
              "      <td>2017-01-11 16:55:06.154213</td>\n",
              "      <td>treatment</td>\n",
              "      <td>new_page</td>\n",
              "      <td>0.0</td>\n",
              "      <td>1.0</td>\n",
              "      <td>1.0</td>\n",
              "      <td>1</td>\n",
              "      <td>0</td>\n",
              "    </tr>\n",
              "  </tbody>\n",
              "</table>\n",
              "</div>"
            ],
            "text/plain": [
              "    user_id                   timestamp      group  ... ab_page  UK  US\n",
              "0  851104.0  2017-01-21 22:11:48.556739    control  ...     0.0   1   0\n",
              "1  804228.0  2017-01-12 08:01:45.159739    control  ...     0.0   0   1\n",
              "2  661590.0  2017-01-11 16:55:06.154213  treatment  ...     1.0   1   0\n",
              "\n",
              "[3 rows x 9 columns]"
            ]
          },
          "metadata": {
            "tags": []
          },
          "execution_count": 143
        }
      ]
    },
    {
      "cell_type": "code",
      "metadata": {
        "colab": {
          "base_uri": "https://localhost:8080/"
        },
        "id": "O8dnZ93OLz51",
        "outputId": "8488d015-81c6-42f0-d382-43ef5c5d66c0"
      },
      "source": [
        "df2.dtypes"
      ],
      "execution_count": 183,
      "outputs": [
        {
          "output_type": "execute_result",
          "data": {
            "text/plain": [
              "user_id         float64\n",
              "timestamp        object\n",
              "group            object\n",
              "landing_page     object\n",
              "converted       float64\n",
              "intercept       float64\n",
              "ab_page         float64\n",
              "country          object\n",
              "UK                uint8\n",
              "US                uint8\n",
              "dtype: object"
            ]
          },
          "metadata": {
            "tags": []
          },
          "execution_count": 183
        }
      ]
    },
    {
      "cell_type": "code",
      "metadata": {
        "id": "PUsG_jj9OhN1"
      },
      "source": [
        ""
      ],
      "execution_count": null,
      "outputs": []
    }
  ]
}