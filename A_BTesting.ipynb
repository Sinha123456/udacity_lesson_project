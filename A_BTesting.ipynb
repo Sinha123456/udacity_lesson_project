{
  "nbformat": 4,
  "nbformat_minor": 0,
  "metadata": {
    "colab": {
      "name": "A/BTesting.ipynb",
      "provenance": [],
      "collapsed_sections": [],
      "authorship_tag": "ABX9TyMEsF0jhDYkvkC0BAnFniTg",
      "include_colab_link": true
    },
    "kernelspec": {
      "name": "python3",
      "display_name": "Python 3"
    }
  },
  "cells": [
    {
      "cell_type": "markdown",
      "metadata": {
        "id": "view-in-github",
        "colab_type": "text"
      },
      "source": [
        "<a href=\"https://colab.research.google.com/github/Sinha123456/udacity_lesson_project/blob/main/A_BTesting.ipynb\" target=\"_parent\"><img src=\"https://colab.research.google.com/assets/colab-badge.svg\" alt=\"Open In Colab\"/></a>"
      ]
    },
    {
      "cell_type": "code",
      "metadata": {
        "colab": {
          "base_uri": "https://localhost:8080/"
        },
        "id": "ic8f233DGBhg",
        "outputId": "998db47d-8ff2-4f53-bed4-fd0b202dc4ae"
      },
      "source": [
        "from google.colab import drive\r\n",
        "drive.mount('/content/drive')\r\n"
      ],
      "execution_count": 2,
      "outputs": [
        {
          "output_type": "stream",
          "text": [
            "Mounted at /content/drive\n"
          ],
          "name": "stdout"
        }
      ]
    },
    {
      "cell_type": "markdown",
      "metadata": {
        "id": "sq5qMw-5IHlx"
      },
      "source": [
        "# **Analyze A/B Test Results**\r\n"
      ]
    },
    {
      "cell_type": "markdown",
      "metadata": {
        "id": "yA5paa0vHysX"
      },
      "source": [
        "## **Introduction**\r\n",
        "\r\n",
        "A/B tests are very commonly performed by data analysts and data scientists. It is important that you get some practice working with the difficulties of these\r\n",
        "\r\n",
        "For this project, you will be working to understand the results of an A/B test run by an e-commerce website. The company has developed a new web page in order to try and increase the number of users who \"convert,\" meaning the number of users who decide to pay for the company's product. Our goal is to work through this notebook to help the company understand if they should implement this new page, keep the old page, or perhaps run the experiment longer to make their decision."
      ]
    },
    {
      "cell_type": "code",
      "metadata": {
        "id": "ngFnWz-KIcRo"
      },
      "source": [
        "import pandas as pd\r\n",
        "import numpy as np\r\n",
        "import random\r\n",
        "import matplotlib.pyplot as plt\r\n",
        "%matplotlib inline\r\n",
        "random.seed(42)"
      ],
      "execution_count": 3,
      "outputs": []
    },
    {
      "cell_type": "code",
      "metadata": {
        "colab": {
          "base_uri": "https://localhost:8080/",
          "height": 206
        },
        "id": "vhQnRt-eIjy1",
        "outputId": "76bde5e6-4013-4920-b90f-439a99c0c243"
      },
      "source": [
        "#Loading the data and printing the few lines of first data\r\n",
        "df1 = pd.read_csv('/content/drive/My Drive/Colab Notebooks/udacity_projects/ab_data.csv')\r\n",
        "df1.head(5)\r\n",
        "         "
      ],
      "execution_count": 4,
      "outputs": [
        {
          "output_type": "execute_result",
          "data": {
            "text/html": [
              "<div>\n",
              "<style scoped>\n",
              "    .dataframe tbody tr th:only-of-type {\n",
              "        vertical-align: middle;\n",
              "    }\n",
              "\n",
              "    .dataframe tbody tr th {\n",
              "        vertical-align: top;\n",
              "    }\n",
              "\n",
              "    .dataframe thead th {\n",
              "        text-align: right;\n",
              "    }\n",
              "</style>\n",
              "<table border=\"1\" class=\"dataframe\">\n",
              "  <thead>\n",
              "    <tr style=\"text-align: right;\">\n",
              "      <th></th>\n",
              "      <th>user_id</th>\n",
              "      <th>timestamp</th>\n",
              "      <th>group</th>\n",
              "      <th>landing_page</th>\n",
              "      <th>converted</th>\n",
              "    </tr>\n",
              "  </thead>\n",
              "  <tbody>\n",
              "    <tr>\n",
              "      <th>0</th>\n",
              "      <td>851104</td>\n",
              "      <td>2017-01-21 22:11:48.556739</td>\n",
              "      <td>control</td>\n",
              "      <td>old_page</td>\n",
              "      <td>0</td>\n",
              "    </tr>\n",
              "    <tr>\n",
              "      <th>1</th>\n",
              "      <td>804228</td>\n",
              "      <td>2017-01-12 08:01:45.159739</td>\n",
              "      <td>control</td>\n",
              "      <td>old_page</td>\n",
              "      <td>0</td>\n",
              "    </tr>\n",
              "    <tr>\n",
              "      <th>2</th>\n",
              "      <td>661590</td>\n",
              "      <td>2017-01-11 16:55:06.154213</td>\n",
              "      <td>treatment</td>\n",
              "      <td>new_page</td>\n",
              "      <td>0</td>\n",
              "    </tr>\n",
              "    <tr>\n",
              "      <th>3</th>\n",
              "      <td>853541</td>\n",
              "      <td>2017-01-08 18:28:03.143765</td>\n",
              "      <td>treatment</td>\n",
              "      <td>new_page</td>\n",
              "      <td>0</td>\n",
              "    </tr>\n",
              "    <tr>\n",
              "      <th>4</th>\n",
              "      <td>864975</td>\n",
              "      <td>2017-01-21 01:52:26.210827</td>\n",
              "      <td>control</td>\n",
              "      <td>old_page</td>\n",
              "      <td>1</td>\n",
              "    </tr>\n",
              "  </tbody>\n",
              "</table>\n",
              "</div>"
            ],
            "text/plain": [
              "   user_id                   timestamp      group landing_page  converted\n",
              "0   851104  2017-01-21 22:11:48.556739    control     old_page          0\n",
              "1   804228  2017-01-12 08:01:45.159739    control     old_page          0\n",
              "2   661590  2017-01-11 16:55:06.154213  treatment     new_page          0\n",
              "3   853541  2017-01-08 18:28:03.143765  treatment     new_page          0\n",
              "4   864975  2017-01-21 01:52:26.210827    control     old_page          1"
            ]
          },
          "metadata": {
            "tags": []
          },
          "execution_count": 4
        }
      ]
    },
    {
      "cell_type": "markdown",
      "metadata": {
        "id": "jCRn4Fb8AhGo"
      },
      "source": [
        "## Exploring the data"
      ]
    },
    {
      "cell_type": "code",
      "metadata": {
        "colab": {
          "base_uri": "https://localhost:8080/"
        },
        "id": "lHsg7CuHJdgk",
        "outputId": "9d5d48e5-fa2e-43d9-e97e-481e5ef3fc84"
      },
      "source": [
        "df1.isnull().sum() # There is no null values"
      ],
      "execution_count": 5,
      "outputs": [
        {
          "output_type": "execute_result",
          "data": {
            "text/plain": [
              "user_id         0\n",
              "timestamp       0\n",
              "group           0\n",
              "landing_page    0\n",
              "converted       0\n",
              "dtype: int64"
            ]
          },
          "metadata": {
            "tags": []
          },
          "execution_count": 5
        }
      ]
    },
    {
      "cell_type": "code",
      "metadata": {
        "colab": {
          "base_uri": "https://localhost:8080/"
        },
        "id": "FGVak-EOK4zh",
        "outputId": "a41ee6b1-9cbe-49c3-c4a9-8cc5b3b2dd02"
      },
      "source": [
        "df1.duplicated().sum() #There is no duplicate values"
      ],
      "execution_count": 6,
      "outputs": [
        {
          "output_type": "execute_result",
          "data": {
            "text/plain": [
              "0"
            ]
          },
          "metadata": {
            "tags": []
          },
          "execution_count": 6
        }
      ]
    },
    {
      "cell_type": "code",
      "metadata": {
        "colab": {
          "base_uri": "https://localhost:8080/"
        },
        "id": "S960gYJYLA_x",
        "outputId": "64b6c17f-da61-4e10-d9d7-e430cd616dd5"
      },
      "source": [
        "df1.nunique() #The number of unique users in the dataset."
      ],
      "execution_count": 7,
      "outputs": [
        {
          "output_type": "execute_result",
          "data": {
            "text/plain": [
              "user_id         290584\n",
              "timestamp       294478\n",
              "group                2\n",
              "landing_page         2\n",
              "converted            2\n",
              "dtype: int64"
            ]
          },
          "metadata": {
            "tags": []
          },
          "execution_count": 7
        }
      ]
    },
    {
      "cell_type": "code",
      "metadata": {
        "colab": {
          "base_uri": "https://localhost:8080/"
        },
        "id": "X_tB2NvFLMdn",
        "outputId": "4bc9efb3-7fac-4482-90b8-0ab86ed27a6f"
      },
      "source": [
        "df1.shape \r\n",
        "#294478 rows and 5 columns"
      ],
      "execution_count": 8,
      "outputs": [
        {
          "output_type": "execute_result",
          "data": {
            "text/plain": [
              "(294478, 5)"
            ]
          },
          "metadata": {
            "tags": []
          },
          "execution_count": 8
        }
      ]
    },
    {
      "cell_type": "code",
      "metadata": {
        "colab": {
          "base_uri": "https://localhost:8080/"
        },
        "id": "dGcZVeipL6Ge",
        "outputId": "cfb26160-a687-4854-9f40-3556f9a22c69"
      },
      "source": [
        "df1.info()"
      ],
      "execution_count": 9,
      "outputs": [
        {
          "output_type": "stream",
          "text": [
            "<class 'pandas.core.frame.DataFrame'>\n",
            "RangeIndex: 294478 entries, 0 to 294477\n",
            "Data columns (total 5 columns):\n",
            " #   Column        Non-Null Count   Dtype \n",
            "---  ------        --------------   ----- \n",
            " 0   user_id       294478 non-null  int64 \n",
            " 1   timestamp     294478 non-null  object\n",
            " 2   group         294478 non-null  object\n",
            " 3   landing_page  294478 non-null  object\n",
            " 4   converted     294478 non-null  int64 \n",
            "dtypes: int64(2), object(3)\n",
            "memory usage: 11.2+ MB\n"
          ],
          "name": "stdout"
        }
      ]
    },
    {
      "cell_type": "code",
      "metadata": {
        "colab": {
          "base_uri": "https://localhost:8080/",
          "height": 300
        },
        "id": "2gpGVjJ5LRdy",
        "outputId": "e34921a2-1fd2-4493-e1cd-c7a0df79bef9"
      },
      "source": [
        "df1.describe()"
      ],
      "execution_count": 10,
      "outputs": [
        {
          "output_type": "execute_result",
          "data": {
            "text/html": [
              "<div>\n",
              "<style scoped>\n",
              "    .dataframe tbody tr th:only-of-type {\n",
              "        vertical-align: middle;\n",
              "    }\n",
              "\n",
              "    .dataframe tbody tr th {\n",
              "        vertical-align: top;\n",
              "    }\n",
              "\n",
              "    .dataframe thead th {\n",
              "        text-align: right;\n",
              "    }\n",
              "</style>\n",
              "<table border=\"1\" class=\"dataframe\">\n",
              "  <thead>\n",
              "    <tr style=\"text-align: right;\">\n",
              "      <th></th>\n",
              "      <th>user_id</th>\n",
              "      <th>converted</th>\n",
              "    </tr>\n",
              "  </thead>\n",
              "  <tbody>\n",
              "    <tr>\n",
              "      <th>count</th>\n",
              "      <td>294478.000000</td>\n",
              "      <td>294478.000000</td>\n",
              "    </tr>\n",
              "    <tr>\n",
              "      <th>mean</th>\n",
              "      <td>787974.124733</td>\n",
              "      <td>0.119659</td>\n",
              "    </tr>\n",
              "    <tr>\n",
              "      <th>std</th>\n",
              "      <td>91210.823776</td>\n",
              "      <td>0.324563</td>\n",
              "    </tr>\n",
              "    <tr>\n",
              "      <th>min</th>\n",
              "      <td>630000.000000</td>\n",
              "      <td>0.000000</td>\n",
              "    </tr>\n",
              "    <tr>\n",
              "      <th>25%</th>\n",
              "      <td>709032.250000</td>\n",
              "      <td>0.000000</td>\n",
              "    </tr>\n",
              "    <tr>\n",
              "      <th>50%</th>\n",
              "      <td>787933.500000</td>\n",
              "      <td>0.000000</td>\n",
              "    </tr>\n",
              "    <tr>\n",
              "      <th>75%</th>\n",
              "      <td>866911.750000</td>\n",
              "      <td>0.000000</td>\n",
              "    </tr>\n",
              "    <tr>\n",
              "      <th>max</th>\n",
              "      <td>945999.000000</td>\n",
              "      <td>1.000000</td>\n",
              "    </tr>\n",
              "  </tbody>\n",
              "</table>\n",
              "</div>"
            ],
            "text/plain": [
              "             user_id      converted\n",
              "count  294478.000000  294478.000000\n",
              "mean   787974.124733       0.119659\n",
              "std     91210.823776       0.324563\n",
              "min    630000.000000       0.000000\n",
              "25%    709032.250000       0.000000\n",
              "50%    787933.500000       0.000000\n",
              "75%    866911.750000       0.000000\n",
              "max    945999.000000       1.000000"
            ]
          },
          "metadata": {
            "tags": []
          },
          "execution_count": 10
        }
      ]
    },
    {
      "cell_type": "code",
      "metadata": {
        "colab": {
          "base_uri": "https://localhost:8080/"
        },
        "id": "7ClBgb8DMDOu",
        "outputId": "8d47115d-d9dd-4249-f8fe-1fe9ec6843fa"
      },
      "source": [
        "df1['user_id'].duplicated().sum()"
      ],
      "execution_count": 11,
      "outputs": [
        {
          "output_type": "execute_result",
          "data": {
            "text/plain": [
              "3894"
            ]
          },
          "metadata": {
            "tags": []
          },
          "execution_count": 11
        }
      ]
    },
    {
      "cell_type": "markdown",
      "metadata": {
        "id": "nzLOwZZflv_r"
      },
      "source": [
        "Do any of the rows have missing values?\r\n",
        "\r\n",
        "No"
      ]
    },
    {
      "cell_type": "markdown",
      "metadata": {
        "id": "TR30pQkKOCWW"
      },
      "source": [
        "## **Part I - Probability**"
      ]
    },
    {
      "cell_type": "markdown",
      "metadata": {
        "id": "bRRYgSaVOmqz"
      },
      "source": [
        "### The proportion of users converted."
      ]
    },
    {
      "cell_type": "code",
      "metadata": {
        "colab": {
          "base_uri": "https://localhost:8080/"
        },
        "id": "s2XhQq2wOuVS",
        "outputId": "24c31f02-13e4-460c-9c57-86854d5a1a57"
      },
      "source": [
        "prop_convert_users = df1.query('converted == 1').count()[0]/df1.converted.shape[0]\r\n",
        "prop_convert_users #12% of users converted"
      ],
      "execution_count": 12,
      "outputs": [
        {
          "output_type": "execute_result",
          "data": {
            "text/plain": [
              "0.11965919355605512"
            ]
          },
          "metadata": {
            "tags": []
          },
          "execution_count": 12
        }
      ]
    },
    {
      "cell_type": "markdown",
      "metadata": {
        "id": "GOUf1JGlQ1L0"
      },
      "source": [
        "The number of times the new_page and treatment don't match."
      ]
    },
    {
      "cell_type": "code",
      "metadata": {
        "colab": {
          "base_uri": "https://localhost:8080/"
        },
        "id": "wefbwQ4vpT8W",
        "outputId": "f4fc6e75-15a3-4704-bdf3-5193b57273dc"
      },
      "source": [
        "df1[((df1['group'] == 'treatment') == (df1['landing_page'] == 'new_page')) == False].shape[0]"
      ],
      "execution_count": 13,
      "outputs": [
        {
          "output_type": "execute_result",
          "data": {
            "text/plain": [
              "3893"
            ]
          },
          "metadata": {
            "tags": []
          },
          "execution_count": 13
        }
      ]
    },
    {
      "cell_type": "code",
      "metadata": {
        "id": "yvsUfKdzg7B3"
      },
      "source": [
        "remove = list(df1[((df1['group']=='treatment') == (df1['landing_page']=='new_page'))==False].index)\r\n",
        "df2 = df1.drop(remove)"
      ],
      "execution_count": 14,
      "outputs": []
    },
    {
      "cell_type": "markdown",
      "metadata": {
        "id": "ZE0osDvCrJAr"
      },
      "source": [
        " How many unique user_ids are in df2?"
      ]
    },
    {
      "cell_type": "code",
      "metadata": {
        "colab": {
          "base_uri": "https://localhost:8080/"
        },
        "id": "fCHY9LkSrNvi",
        "outputId": "b704529e-1e2e-469c-bf39-0d6cd2d9b460"
      },
      "source": [
        "df2.user_id.nunique()"
      ],
      "execution_count": 15,
      "outputs": [
        {
          "output_type": "execute_result",
          "data": {
            "text/plain": [
              "290584"
            ]
          },
          "metadata": {
            "tags": []
          },
          "execution_count": 15
        }
      ]
    },
    {
      "cell_type": "markdown",
      "metadata": {
        "id": "_4WGjPwlsRN0"
      },
      "source": [
        "There is one user_id repeated in df2. What is it?\r\n",
        "\r\n",
        "It's 773192"
      ]
    },
    {
      "cell_type": "markdown",
      "metadata": {
        "id": "XTJ3zMtVoXcg"
      },
      "source": [
        "What is the row information for the repeat user_id? "
      ]
    },
    {
      "cell_type": "code",
      "metadata": {
        "colab": {
          "base_uri": "https://localhost:8080/",
          "height": 80
        },
        "id": "kFBn9J82sTvM",
        "outputId": "94f8a684-3ab9-4108-fafa-45cc9432cb65"
      },
      "source": [
        "df2[df2.duplicated('user_id')]"
      ],
      "execution_count": 16,
      "outputs": [
        {
          "output_type": "execute_result",
          "data": {
            "text/html": [
              "<div>\n",
              "<style scoped>\n",
              "    .dataframe tbody tr th:only-of-type {\n",
              "        vertical-align: middle;\n",
              "    }\n",
              "\n",
              "    .dataframe tbody tr th {\n",
              "        vertical-align: top;\n",
              "    }\n",
              "\n",
              "    .dataframe thead th {\n",
              "        text-align: right;\n",
              "    }\n",
              "</style>\n",
              "<table border=\"1\" class=\"dataframe\">\n",
              "  <thead>\n",
              "    <tr style=\"text-align: right;\">\n",
              "      <th></th>\n",
              "      <th>user_id</th>\n",
              "      <th>timestamp</th>\n",
              "      <th>group</th>\n",
              "      <th>landing_page</th>\n",
              "      <th>converted</th>\n",
              "    </tr>\n",
              "  </thead>\n",
              "  <tbody>\n",
              "    <tr>\n",
              "      <th>2893</th>\n",
              "      <td>773192</td>\n",
              "      <td>2017-01-14 02:55:59.590927</td>\n",
              "      <td>treatment</td>\n",
              "      <td>new_page</td>\n",
              "      <td>0</td>\n",
              "    </tr>\n",
              "  </tbody>\n",
              "</table>\n",
              "</div>"
            ],
            "text/plain": [
              "      user_id                   timestamp      group landing_page  converted\n",
              "2893   773192  2017-01-14 02:55:59.590927  treatment     new_page          0"
            ]
          },
          "metadata": {
            "tags": []
          },
          "execution_count": 16
        }
      ]
    },
    {
      "cell_type": "markdown",
      "metadata": {
        "id": "ZFJoRFxOoi19"
      },
      "source": [
        "Remove one of the rows with a duplicate user_id, but keep your dataframe as df2."
      ]
    },
    {
      "cell_type": "code",
      "metadata": {
        "id": "O1iT_x5BsqbE"
      },
      "source": [
        "remove = df2.query('user_id==773192').index.values\r\n",
        "df2 = df2.drop(remove)"
      ],
      "execution_count": 17,
      "outputs": []
    },
    {
      "cell_type": "code",
      "metadata": {
        "colab": {
          "base_uri": "https://localhost:8080/",
          "height": 49
        },
        "id": "vfEVtX3UtJsr",
        "outputId": "1a5d6f1d-a387-41ed-fd67-f913e512f990"
      },
      "source": [
        "#check the duplicate of user_id is dropped or not.\r\n",
        "df2[df2.duplicated('user_id')]"
      ],
      "execution_count": 18,
      "outputs": [
        {
          "output_type": "execute_result",
          "data": {
            "text/html": [
              "<div>\n",
              "<style scoped>\n",
              "    .dataframe tbody tr th:only-of-type {\n",
              "        vertical-align: middle;\n",
              "    }\n",
              "\n",
              "    .dataframe tbody tr th {\n",
              "        vertical-align: top;\n",
              "    }\n",
              "\n",
              "    .dataframe thead th {\n",
              "        text-align: right;\n",
              "    }\n",
              "</style>\n",
              "<table border=\"1\" class=\"dataframe\">\n",
              "  <thead>\n",
              "    <tr style=\"text-align: right;\">\n",
              "      <th></th>\n",
              "      <th>user_id</th>\n",
              "      <th>timestamp</th>\n",
              "      <th>group</th>\n",
              "      <th>landing_page</th>\n",
              "      <th>converted</th>\n",
              "    </tr>\n",
              "  </thead>\n",
              "  <tbody>\n",
              "  </tbody>\n",
              "</table>\n",
              "</div>"
            ],
            "text/plain": [
              "Empty DataFrame\n",
              "Columns: [user_id, timestamp, group, landing_page, converted]\n",
              "Index: []"
            ]
          },
          "metadata": {
            "tags": []
          },
          "execution_count": 18
        }
      ]
    },
    {
      "cell_type": "markdown",
      "metadata": {
        "id": "ureDBqsx3Vi1"
      },
      "source": [
        "What is the probability of an individual converting regardless of the page they receive?\r\n"
      ]
    },
    {
      "cell_type": "code",
      "metadata": {
        "colab": {
          "base_uri": "https://localhost:8080/"
        },
        "id": "wOF2DYMx5sHQ",
        "outputId": "8e554499-c5e8-4820-bb34-4b97fb242716"
      },
      "source": [
        "new_convert = df2.query('landing_page==\"new_page\" and converted == 1').count()[0]/df2['converted'].count()\r\n",
        "old_convert = df2.query('landing_page==\"old_page\" and converted == 1').count()[0]/df2['converted'].count()\r\n",
        "individually_convert = new_convert+old_convert\r\n",
        "individually_convert\r\n"
      ],
      "execution_count": 19,
      "outputs": [
        {
          "output_type": "execute_result",
          "data": {
            "text/plain": [
              "0.11959749882133504"
            ]
          },
          "metadata": {
            "tags": []
          },
          "execution_count": 19
        }
      ]
    },
    {
      "cell_type": "markdown",
      "metadata": {
        "id": "tAWa8Vbo_Fee"
      },
      "source": [
        "Given that an individual was in the control group, what is the probability they converted?"
      ]
    },
    {
      "cell_type": "code",
      "metadata": {
        "colab": {
          "base_uri": "https://localhost:8080/"
        },
        "id": "qmvvQC31_HQY",
        "outputId": "2e6e2e05-012c-41d4-b698-494d5f06fbfe"
      },
      "source": [
        "df2.query('group==\"control\" and converted == 1').count()[0]/df2.query('group==\"control\"').count()[0]\r\n"
      ],
      "execution_count": 20,
      "outputs": [
        {
          "output_type": "execute_result",
          "data": {
            "text/plain": [
              "0.1203863045004612"
            ]
          },
          "metadata": {
            "tags": []
          },
          "execution_count": 20
        }
      ]
    },
    {
      "cell_type": "markdown",
      "metadata": {
        "id": "yldVTVoWDkVm"
      },
      "source": [
        "Given that an individual was in the treatment group, what is the probability they converted?"
      ]
    },
    {
      "cell_type": "code",
      "metadata": {
        "colab": {
          "base_uri": "https://localhost:8080/"
        },
        "id": "7njs2KLSupRa",
        "outputId": "18ad03cc-dfd3-4810-8966-6a104683591e"
      },
      "source": [
        "df2.query('group==\"treatment\" and converted == 1').count()[0]/df2.query('group==\"treatment\"').count()[0]\r\n"
      ],
      "execution_count": 21,
      "outputs": [
        {
          "output_type": "execute_result",
          "data": {
            "text/plain": [
              "0.11880888313869065"
            ]
          },
          "metadata": {
            "tags": []
          },
          "execution_count": 21
        }
      ]
    },
    {
      "cell_type": "markdown",
      "metadata": {
        "id": "mSW8bMqnEdUR"
      },
      "source": [
        "What is the probability that an individual received the new page?"
      ]
    },
    {
      "cell_type": "code",
      "metadata": {
        "colab": {
          "base_uri": "https://localhost:8080/"
        },
        "id": "gBmkUPioGrpw",
        "outputId": "dade0553-555e-43b8-b508-258102effff2"
      },
      "source": [
        "control = df2.query('group==\"control\" and landing_page == \"new_page\"').count()[0]/df2['landing_page'].count()\r\n",
        "treatment = df2.query('group==\"treatment\" and landing_page == \"new_page\"').count()[0]/df2['landing_page'].count()\r\n",
        "individual_new_page = control+treatment\r\n",
        "individual_new_page"
      ],
      "execution_count": 22,
      "outputs": [
        {
          "output_type": "execute_result",
          "data": {
            "text/plain": [
              "0.5000602237570677"
            ]
          },
          "metadata": {
            "tags": []
          },
          "execution_count": 22
        }
      ]
    },
    {
      "cell_type": "markdown",
      "metadata": {
        "id": "n5g1j7OKLQTY"
      },
      "source": [
        "Consider your results from parts (a) through (d) above, and explain below whether you think there is sufficient evidence to conclude that the new treatment page leads to more conversions.\r\n",
        "\r\n",
        "The probability of converting in control group is 0.1% higher than treatment group, we have evidence that there is a little increment of conversion, we might do little better to increase more conversion. Little change make a big effect sometimes. There is 12% pf users who converted treament they like new_page more than old_page. Probability of receiving new_page is 50%. We have all of these evidence that shows our new_page can have more conversions."
      ]
    },
    {
      "cell_type": "markdown",
      "metadata": {
        "id": "3ep9jU-mzcIQ"
      },
      "source": [
        "# Part II - A/B Test\r\n",
        "\r\n",
        "Notice that because of the time stamp associated with each event, you could technically run a hypothesis test continuously as each observation was observed.\r\n",
        "\r\n",
        "However, then the hard question is do you stop as soon as one page is considered significantly better than another or does it need to happen consistently for a certain amount of time? How long do you run to render a decision that neither page is better than another?\r\n",
        "\r\n",
        "These questions are the difficult parts associated with A/B tests in general.\r\n",
        "\r\n",
        "1. For now, consider you need to make the decision just based on all the data provided. If you want to assume that the old page is better unless the new page proves to be definitely better at a Type I error rate of 5%, what should your null and alternative hypotheses be? You can state your hypothesis in terms of words or in terms of 𝑝𝑜𝑙𝑑\r\n",
        "and 𝑝𝑛𝑒𝑤, which are the converted rates for the old and new pages.\r\n",
        "\r\n",
        "H0: Pnew <= Pold\r\n",
        "\r\n",
        "H1 : Pnew > Pold\r\n",
        "\r\n",
        "From the above calculations shows that there is a small increment in new page. In type 1 error, we reject null hypothesis in favour of alternative. We want to prove that new page is better than old page in favour of 5% of type 1 error rate."
      ]
    },
    {
      "cell_type": "markdown",
      "metadata": {
        "id": "OK9zedgJ4OYY"
      },
      "source": [
        "2. Assume under the null hypothesis, 𝑝𝑛𝑒𝑤 and 𝑝𝑜𝑙𝑑 both have \"true\" success rates equal to the converted success rate regardless of page - that is 𝑝𝑛𝑒𝑤 and 𝑝𝑜𝑙𝑑\r\n",
        "\r\n",
        "are equal. Furthermore, assume they are equal to the converted rate in ab_data.csv regardless of the page.\r\n",
        "\r\n",
        "Use a sample size for each page equal to the ones in ab_data.csv.\r\n",
        "\r\n",
        "Perform the sampling distribution for the difference in converted between the two pages over 10,000 iterations of calculating an estimate from the null. "
      ]
    },
    {
      "cell_type": "markdown",
      "metadata": {
        "id": "KRV6RZzD75X0"
      },
      "source": [
        "a. What is the conversion rate for 𝑝𝑛𝑒𝑤 under the null? "
      ]
    },
    {
      "cell_type": "markdown",
      "metadata": {
        "id": "iWRAn8-TBFeG"
      },
      "source": [
        "b. What is the conversion rate for 𝑝𝑜𝑙𝑑 under the null? "
      ]
    },
    {
      "cell_type": "code",
      "metadata": {
        "colab": {
          "base_uri": "https://localhost:8080/"
        },
        "id": "Kdopf8aXEGuL",
        "outputId": "1012b3a4-1309-4317-d651-87fb64accc8f"
      },
      "source": [
        "p_new = p_old = df1['converted'].mean()\r\n",
        "p_new, p_old"
      ],
      "execution_count": 23,
      "outputs": [
        {
          "output_type": "execute_result",
          "data": {
            "text/plain": [
              "(0.11965919355605512, 0.11965919355605512)"
            ]
          },
          "metadata": {
            "tags": []
          },
          "execution_count": 23
        }
      ]
    },
    {
      "cell_type": "markdown",
      "metadata": {
        "id": "qde9msh7BORE"
      },
      "source": [
        "c. What is 𝑛𝑛𝑒𝑤, the number of individuals in the treatment group?"
      ]
    },
    {
      "cell_type": "code",
      "metadata": {
        "colab": {
          "base_uri": "https://localhost:8080/"
        },
        "id": "AiIs7FiqNCUt",
        "outputId": "d6c8f192-ebe7-4017-d428-6f02e2fc7870"
      },
      "source": [
        "nnew = df2.query('group == \"treatment\"')['user_id'].shape[0]\r\n",
        "nnew"
      ],
      "execution_count": 24,
      "outputs": [
        {
          "output_type": "execute_result",
          "data": {
            "text/plain": [
              "145309"
            ]
          },
          "metadata": {
            "tags": []
          },
          "execution_count": 24
        }
      ]
    },
    {
      "cell_type": "markdown",
      "metadata": {
        "id": "uMK2y-6XHobK"
      },
      "source": [
        " What is 𝑛𝑜𝑙𝑑, the number of individuals in the control group?"
      ]
    },
    {
      "cell_type": "code",
      "metadata": {
        "colab": {
          "base_uri": "https://localhost:8080/"
        },
        "id": "CTMmiZJIHqgg",
        "outputId": "16dc4933-2fb4-46a1-e51a-f5b55f79605e"
      },
      "source": [
        "nold = df2.query('group == \"control\"')['user_id'].shape[0]\r\n",
        "nold"
      ],
      "execution_count": 25,
      "outputs": [
        {
          "output_type": "execute_result",
          "data": {
            "text/plain": [
              "145274"
            ]
          },
          "metadata": {
            "tags": []
          },
          "execution_count": 25
        }
      ]
    },
    {
      "cell_type": "markdown",
      "metadata": {
        "id": "1QUNLCDTISMV"
      },
      "source": [
        "p_new - p_old under the null."
      ]
    },
    {
      "cell_type": "code",
      "metadata": {
        "colab": {
          "base_uri": "https://localhost:8080/"
        },
        "id": "BBapb_3pIUaG",
        "outputId": "db218699-bf23-4b65-b140-ddbe58cbbec4"
      },
      "source": [
        "p_new-p_old"
      ],
      "execution_count": 26,
      "outputs": [
        {
          "output_type": "execute_result",
          "data": {
            "text/plain": [
              "0.0"
            ]
          },
          "metadata": {
            "tags": []
          },
          "execution_count": 26
        }
      ]
    },
    {
      "cell_type": "markdown",
      "metadata": {
        "id": "GeWbnLGZOG5O"
      },
      "source": [
        "e. Simulate 𝑛𝑛𝑒𝑤 transactions with a conversion rate of 𝑝𝑛𝑒𝑤 under the null. Store these 𝑛𝑛𝑒𝑤 1's and 0's in new_page_converted."
      ]
    },
    {
      "cell_type": "code",
      "metadata": {
        "colab": {
          "base_uri": "https://localhost:8080/"
        },
        "id": "Pjt_5UnuPUhP",
        "outputId": "ef59ab67-d3a1-469c-bdcf-379cee224146"
      },
      "source": [
        "#We need to check whether the simulated data creates a normal distribution or not. \r\n",
        "#In addition, we want to check what the data should look like under the null hypothesis.\r\n",
        "new_page_converted = np.random.choice([0,1], size=nnew, p = [1-p_new, p_new])\r\n",
        "new_page_converted"
      ],
      "execution_count": 27,
      "outputs": [
        {
          "output_type": "execute_result",
          "data": {
            "text/plain": [
              "array([0, 1, 0, ..., 0, 0, 0])"
            ]
          },
          "metadata": {
            "tags": []
          },
          "execution_count": 27
        }
      ]
    },
    {
      "cell_type": "markdown",
      "metadata": {
        "id": "erWx4LLUWpY-"
      },
      "source": [
        "f. Simulate 𝑛𝑜𝑙𝑑 transactions with a conversion rate of 𝑝𝑜𝑙𝑑 under the null. Store these 𝑛𝑜𝑙𝑑 1's and 0's in old_page_converted."
      ]
    },
    {
      "cell_type": "code",
      "metadata": {
        "colab": {
          "base_uri": "https://localhost:8080/"
        },
        "id": "qAxXcuFiWr0N",
        "outputId": "b67011e9-783d-4de8-c3e2-ed3b87dbcf5f"
      },
      "source": [
        "old_page_converted = np.random.choice([0,1], size= nold, p=[1-p_old, p_old])\r\n",
        "old_page_converted"
      ],
      "execution_count": 28,
      "outputs": [
        {
          "output_type": "execute_result",
          "data": {
            "text/plain": [
              "array([0, 0, 0, ..., 0, 0, 1])"
            ]
          },
          "metadata": {
            "tags": []
          },
          "execution_count": 28
        }
      ]
    },
    {
      "cell_type": "markdown",
      "metadata": {
        "id": "AAU6etiFX-Xx"
      },
      "source": [
        "g. Find 𝑝𝑛𝑒𝑤 - 𝑝𝑜𝑙𝑑 for your simulated values from part (e) and (f)."
      ]
    },
    {
      "cell_type": "code",
      "metadata": {
        "colab": {
          "base_uri": "https://localhost:8080/"
        },
        "id": "DKGDYmONYADW",
        "outputId": "9c12198a-7810-49ca-acb8-3eda168338bc"
      },
      "source": [
        "obs_diff = new_page_converted.mean() - old_page_converted.mean()\r\n",
        "obs_diff"
      ],
      "execution_count": 29,
      "outputs": [
        {
          "output_type": "execute_result",
          "data": {
            "text/plain": [
              "-0.0029267485619131894"
            ]
          },
          "metadata": {
            "tags": []
          },
          "execution_count": 29
        }
      ]
    },
    {
      "cell_type": "markdown",
      "metadata": {
        "id": "kRYUgQGEbWy-"
      },
      "source": [
        "h. Create 10,000 𝑝𝑛𝑒𝑤 - 𝑝𝑜𝑙𝑑\r\n",
        "\r\n",
        "values using the same simulation process you used in parts (a) through (g) above. Store all 10,000 values in a NumPy array called p_diffs.\r\n",
        "\r\n",
        "​"
      ]
    },
    {
      "cell_type": "code",
      "metadata": {
        "colab": {
          "base_uri": "https://localhost:8080/"
        },
        "id": "5JCLM7-2c5mo",
        "outputId": "2e94944f-7fbe-4443-fbd4-41a16a153677"
      },
      "source": [
        "p_diffs = []\r\n",
        "for _ in range(10000):\r\n",
        "  new_converted = np.random.choice([0,1], size = nnew, p = [1-p_new, p_new])\r\n",
        "  old_converted = np.random.choice([0,1], size= nold, p = [1-p_old, p_old])\r\n",
        "  diff = new_converted.mean() - old_converted.mean()\r\n",
        "  p_diffs.append(diff)\r\n",
        "p_diffs = np.array(p_diffs)\r\n",
        "(p_diffs>obs_diff).mean()"
      ],
      "execution_count": 30,
      "outputs": [
        {
          "output_type": "execute_result",
          "data": {
            "text/plain": [
              "0.9906"
            ]
          },
          "metadata": {
            "tags": []
          },
          "execution_count": 30
        }
      ]
    },
    {
      "cell_type": "markdown",
      "metadata": {
        "id": "QFfQ47cJbzrN"
      },
      "source": [
        "i. Plot a histogram of the p_diffs. Does this plot look like what you expected? Use the matching problem in the classroom to assure you fully understand what was computed here.\r\n",
        "\r\n",
        "​"
      ]
    },
    {
      "cell_type": "code",
      "metadata": {
        "colab": {
          "base_uri": "https://localhost:8080/",
          "height": 313
        },
        "id": "kLBS_J0xcpS-",
        "outputId": "c0bdf1b6-b5ae-4a6d-9aef-af95faa8520c"
      },
      "source": [
        "plt.hist(p_diffs)\r\n",
        "plt.title('sampling distribution for the difference in means of new and old page conversion')\r\n",
        "plt.axvline(x = p_diffs.mean(), color = 'r')\r\n",
        "plt.xlabel('Average number of conversion in both pages')\r\n",
        "plt.ylabel('count')"
      ],
      "execution_count": 31,
      "outputs": [
        {
          "output_type": "execute_result",
          "data": {
            "text/plain": [
              "Text(0, 0.5, 'count')"
            ]
          },
          "metadata": {
            "tags": []
          },
          "execution_count": 31
        },
        {
          "output_type": "display_data",
          "data": {
            "image/png": "[encoded data removed]",
            "text/plain": [
              "<Figure size 432x288 with 1 Axes>"
            ]
          },
          "metadata": {
            "tags": [],
            "needs_background": "light"
          }
        }
      ]
    },
    {
      "cell_type": "markdown",
      "metadata": {
        "id": "iD2WM5KJgjqv"
      },
      "source": [
        "Histogram of sampling distrbution seems to me normally distributed and our p value is to be right of the plot, pvalue is less than 5% so we reject null hypothesis in favor of alternative hypothesis."
      ]
    },
    {
      "cell_type": "markdown",
      "metadata": {
        "id": "cdiktL1Oh4Dc"
      },
      "source": [
        "j. What proportion of the p_diffs are greater than the actual difference observed in ab_data.csv?\r\n",
        "\r\n",
        "​"
      ]
    },
    {
      "cell_type": "code",
      "metadata": {
        "colab": {
          "base_uri": "https://localhost:8080/"
        },
        "id": "hmv7U0gKn6xY",
        "outputId": "9ece45c3-68b7-4e5c-888c-0b7f36c0d8b7"
      },
      "source": [
        "p_diffs = np.array(p_diffs) #converting p_diffs in array\r\n",
        "p_diffs"
      ],
      "execution_count": 32,
      "outputs": [
        {
          "output_type": "execute_result",
          "data": {
            "text/plain": [
              "array([ 0.0022082 ,  0.00206337, -0.00056557, ...,  0.00065918,\n",
              "        0.00200843, -0.00106817])"
            ]
          },
          "metadata": {
            "tags": []
          },
          "execution_count": 32
        }
      ]
    },
    {
      "cell_type": "code",
      "metadata": {
        "colab": {
          "base_uri": "https://localhost:8080/"
        },
        "id": "U8GWbiveoN9e",
        "outputId": "5608c34e-83b0-4233-fdb5-f31568f93a38"
      },
      "source": [
        "#finding obseerved difference between tretment and control group conversion\r\n",
        "observed_diff = df2.query('group == \"treatment\"')['converted'].mean()- df2.query('group == \"control\"')['converted'].mean()\r\n",
        "observed_diff"
      ],
      "execution_count": 33,
      "outputs": [
        {
          "output_type": "execute_result",
          "data": {
            "text/plain": [
              "-0.0015774213617705535"
            ]
          },
          "metadata": {
            "tags": []
          },
          "execution_count": 33
        }
      ]
    },
    {
      "cell_type": "code",
      "metadata": {
        "colab": {
          "base_uri": "https://localhost:8080/"
        },
        "id": "vq_51g_jpaiB",
        "outputId": "695d219a-27aa-4499-9748-cbb4d55c2aaf"
      },
      "source": [
        "#See the sampling distribution of group conversion is greater than the actual observation.\r\n",
        "(p_diffs>observed_diff)"
      ],
      "execution_count": 34,
      "outputs": [
        {
          "output_type": "execute_result",
          "data": {
            "text/plain": [
              "array([ True,  True,  True, ...,  True,  True,  True])"
            ]
          },
          "metadata": {
            "tags": []
          },
          "execution_count": 34
        }
      ]
    },
    {
      "cell_type": "code",
      "metadata": {
        "colab": {
          "base_uri": "https://localhost:8080/"
        },
        "id": "_AlYKekcp16v",
        "outputId": "9372ace0-64f9-478b-a2e5-f7e46b87c7ba"
      },
      "source": [
        "#proportion of the p_diffs are greater than the actual difference observed in ab_data.csv\r\n",
        "(p_diffs>observed_diff).mean()"
      ],
      "execution_count": 35,
      "outputs": [
        {
          "output_type": "execute_result",
          "data": {
            "text/plain": [
              "0.9045"
            ]
          },
          "metadata": {
            "tags": []
          },
          "execution_count": 35
        }
      ]
    },
    {
      "cell_type": "markdown",
      "metadata": {
        "id": "tTiDP9o3rUg4"
      },
      "source": [
        "k. Please explain using the vocabulary you've learned in this course what you just computed in part j. What is this value called in scientific studies? What does this value mean in terms of whether or not there is a difference between the new and old pages?\r\n",
        "\r\n",
        "Firstly, we setup our null and alternative hypothesis\r\n",
        "\r\n",
        "H0: Pnew <= Pold\r\n",
        "\r\n",
        "H1 : Pnew > Pold\r\n",
        "In the first part we found the pvalue under the null hypothesis where all conversion of users were equal in treatment and control group. pvalue from the smapling distribution was 0.4121 means our p value is greater than 95% of confidence interval, Therefore, we do not have evidence that we can reject null hypothesis in favour of alternate. \r\n",
        "Pvalue is the probability of observing your static if the null hypothesis is true."
      ]
    },
    {
      "cell_type": "markdown",
      "metadata": {
        "id": "KDHFg1W1ysXV"
      },
      "source": [
        "l. We could also use a built-in to achieve similar results. Though using the built-in might be easier to code, the above portions are a walkthrough of the ideas that are critical to correctly thinking about statistical significance. Fill in the below to calculate the number of conversions for each page, as well as the number of individuals who received each page. Let n_old and n_new refer the the number of rows associated with the old page and new pages, respectively."
      ]
    },
    {
      "cell_type": "code",
      "metadata": {
        "colab": {
          "base_uri": "https://localhost:8080/"
        },
        "id": "VLpd9PvyzPSq",
        "outputId": "3d57a144-5f6f-4a21-ac2a-35bb5507dd11"
      },
      "source": [
        "import statsmodels.api as sm\r\n",
        "\r\n",
        "convert_old = df2.query('landing_page== \"old_page\" and converted == 1').count()[0]\r\n",
        "convert_new = df2.query('landing_page== \"new_page\" and converted == 1').count()[0]\r\n",
        "n_old = df2.query('landing_page== \"old_page\"').count()[0]\r\n",
        "n_new = df2.query('landing_page== \"new_page\"').count()[0]\r\n",
        "print(\"converted_old:\", convert_old)\r\n",
        "print(\"converted_new:\", convert_new)\r\n",
        "print(\"n_old:\", n_old)\r\n",
        "print(\"n_new:\", n_new)"
      ],
      "execution_count": 36,
      "outputs": [
        {
          "output_type": "stream",
          "text": [
            "/usr/local/lib/python3.6/dist-packages/statsmodels/tools/_testing.py:19: FutureWarning: pandas.util.testing is deprecated. Use the functions in the public API at pandas.testing instead.\n",
            "  import pandas.util.testing as tm\n"
          ],
          "name": "stderr"
        },
        {
          "output_type": "stream",
          "text": [
            "converted_old: 17489\n",
            "converted_new: 17264\n",
            "n_old: 145274\n",
            "n_new: 145309\n"
          ],
          "name": "stdout"
        }
      ]
    },
    {
      "cell_type": "markdown",
      "metadata": {
        "id": "jCMRqUnk56EP"
      },
      "source": [
        "m. Now use stats.proportions_ztest to compute your test statistic and p-value. "
      ]
    },
    {
      "cell_type": "code",
      "metadata": {
        "colab": {
          "base_uri": "https://localhost:8080/"
        },
        "id": "HGJJInpxRjy7",
        "outputId": "562df30b-9d4d-4cfb-e716-b6988f88d87e"
      },
      "source": [
        "#H0: pold = pnew\r\n",
        "#H1: pold != pnew\r\n",
        "#from statsmodels.stats.proportion import stats.proportions_ztest\r\n",
        "no_of_success = ([17489,17264])\r\n",
        "total_sample = ([145274, 145309])\r\n",
        "z_score, p_value = sm.stats.proportions_ztest(no_of_success, total_sample, alternative='smaller')\r\n",
        "print('z_score {}'.format(z_score))\r\n",
        "print('p_value {}'.format(p_value))"
      ],
      "execution_count": 37,
      "outputs": [
        {
          "output_type": "stream",
          "text": [
            "z_score 1.3102408579271012\n",
            "p_value 0.9049428161159749\n"
          ],
          "name": "stdout"
        }
      ]
    },
    {
      "cell_type": "code",
      "metadata": {
        "id": "GwT_s_eoToHB",
        "colab": {
          "base_uri": "https://localhost:8080/"
        },
        "outputId": "d8602174-5de9-4f22-caf8-71b3d1331360"
      },
      "source": [
        "#critcal_value = (1-0.05)= 0.95\r\n",
        "#from the z table of right tail \r\n",
        "1.65"
      ],
      "execution_count": 99,
      "outputs": [
        {
          "output_type": "execute_result",
          "data": {
            "text/plain": [
              "1.65"
            ]
          },
          "metadata": {
            "tags": []
          },
          "execution_count": 99
        }
      ]
    },
    {
      "cell_type": "markdown",
      "metadata": {
        "id": "7Em-XKQncAG3"
      },
      "source": [
        "n. What do the z-score and p-value you computed in the previous question mean for the conversion rates of the old and new pages? Do they agree with the findings in parts j. and k.?\r\n",
        "\r\n",
        "In the previous question  pvlaue is exactly the as same as computed through statsmodel left tail test. In the begining question we set up that old page is better than new page in the null hypothesis in favour of 5% of type 1 error rate. From the all calculations with population and  with sample we found that pvalue is greater than 5% of type 1 error error rate. P vlaue is 0.9 which is grater than 0.05, It's not statistical significant and strong evidence for null hypothesis. We fail to reject null hypothesis.\r\n"
      ]
    },
    {
      "cell_type": "markdown",
      "metadata": {
        "id": "Qkif_X_ZVKeH"
      },
      "source": [
        "## Part III - A regression approach\r\n",
        "\r\n",
        "1.In this final part, you will see that the result you achieved in the A/B test in Part II above can also be achieved by performing regression.\r\n",
        "\r\n",
        "a. Since each row is either a conversion or no conversion, what type of regression should you be performing in this case?\r\n",
        "\r\n",
        "Logistic regression should be better for that dataset. Logistic regression is a regression approach used to predict only two possible outcomes, here we have to predict whether user convert to treatmetn group or not."
      ]
    },
    {
      "cell_type": "markdown",
      "metadata": {
        "id": "cmnkvvzPbfRQ"
      },
      "source": [
        "b. The goal is to use statsmodels to fit the regression model you specified in part a. to see if there is a significant difference in conversion based on which page a customer receives. However, you first need to create in df2 a column for the intercept, and create a dummy variable column for which page each user received. Add an intercept column, as well as an ab_page column, which is 1 when an individual receives the treatment and 0 if control."
      ]
    },
    {
      "cell_type": "code",
      "metadata": {
        "id": "Cng5aa3VlzrE"
      },
      "source": [
        "df2['intercept'] = 1\r\n",
        "df2['ab_page'] = pd.get_dummies(df2['group'])['treatment']\r\n"
      ],
      "execution_count": 38,
      "outputs": []
    },
    {
      "cell_type": "code",
      "metadata": {
        "colab": {
          "base_uri": "https://localhost:8080/",
          "height": 112
        },
        "id": "OE_0mhquciVa",
        "outputId": "5ad1c288-9fa8-4639-ebb0-636097a763f2"
      },
      "source": [
        "df2.head(2)"
      ],
      "execution_count": 39,
      "outputs": [
        {
          "output_type": "execute_result",
          "data": {
            "text/html": [
              "<div>\n",
              "<style scoped>\n",
              "    .dataframe tbody tr th:only-of-type {\n",
              "        vertical-align: middle;\n",
              "    }\n",
              "\n",
              "    .dataframe tbody tr th {\n",
              "        vertical-align: top;\n",
              "    }\n",
              "\n",
              "    .dataframe thead th {\n",
              "        text-align: right;\n",
              "    }\n",
              "</style>\n",
              "<table border=\"1\" class=\"dataframe\">\n",
              "  <thead>\n",
              "    <tr style=\"text-align: right;\">\n",
              "      <th></th>\n",
              "      <th>user_id</th>\n",
              "      <th>timestamp</th>\n",
              "      <th>group</th>\n",
              "      <th>landing_page</th>\n",
              "      <th>converted</th>\n",
              "      <th>intercept</th>\n",
              "      <th>ab_page</th>\n",
              "    </tr>\n",
              "  </thead>\n",
              "  <tbody>\n",
              "    <tr>\n",
              "      <th>0</th>\n",
              "      <td>851104</td>\n",
              "      <td>2017-01-21 22:11:48.556739</td>\n",
              "      <td>control</td>\n",
              "      <td>old_page</td>\n",
              "      <td>0</td>\n",
              "      <td>1</td>\n",
              "      <td>0</td>\n",
              "    </tr>\n",
              "    <tr>\n",
              "      <th>1</th>\n",
              "      <td>804228</td>\n",
              "      <td>2017-01-12 08:01:45.159739</td>\n",
              "      <td>control</td>\n",
              "      <td>old_page</td>\n",
              "      <td>0</td>\n",
              "      <td>1</td>\n",
              "      <td>0</td>\n",
              "    </tr>\n",
              "  </tbody>\n",
              "</table>\n",
              "</div>"
            ],
            "text/plain": [
              "   user_id                   timestamp    group  ... converted  intercept  ab_page\n",
              "0   851104  2017-01-21 22:11:48.556739  control  ...         0          1        0\n",
              "1   804228  2017-01-12 08:01:45.159739  control  ...         0          1        0\n",
              "\n",
              "[2 rows x 7 columns]"
            ]
          },
          "metadata": {
            "tags": []
          },
          "execution_count": 39
        }
      ]
    },
    {
      "cell_type": "markdown",
      "metadata": {
        "id": "dcNknzb-lPIB"
      },
      "source": [
        "c. Use statsmodels to instantiate your regression model on the two columns you created in part b., then fit the model using the two columns you created in part b. to predict whether or not an individual converts. "
      ]
    },
    {
      "cell_type": "code",
      "metadata": {
        "colab": {
          "base_uri": "https://localhost:8080/",
          "height": 307
        },
        "id": "zGMH4g41lT-1",
        "outputId": "b779a95e-9c69-4cf2-9b80-ab044f4e6f73"
      },
      "source": [
        "logit = sm.Logit(df2['converted'], df2[['intercept', 'ab_page']])\r\n",
        "results = logit.fit()\r\n",
        "results.summary()"
      ],
      "execution_count": 40,
      "outputs": [
        {
          "output_type": "stream",
          "text": [
            "Optimization terminated successfully.\n",
            "         Current function value: 0.366119\n",
            "         Iterations 6\n"
          ],
          "name": "stdout"
        },
        {
          "output_type": "execute_result",
          "data": {
            "text/html": [
              "<table class=\"simpletable\">\n",
              "<caption>Logit Regression Results</caption>\n",
              "<tr>\n",
              "  <th>Dep. Variable:</th>       <td>converted</td>    <th>  No. Observations:  </th>   <td>290583</td>   \n",
              "</tr>\n",
              "<tr>\n",
              "  <th>Model:</th>                 <td>Logit</td>      <th>  Df Residuals:      </th>   <td>290581</td>   \n",
              "</tr>\n",
              "<tr>\n",
              "  <th>Method:</th>                 <td>MLE</td>       <th>  Df Model:          </th>   <td>     1</td>   \n",
              "</tr>\n",
              "<tr>\n",
              "  <th>Date:</th>            <td>Thu, 04 Feb 2021</td> <th>  Pseudo R-squ.:     </th>  <td>8.068e-06</td> \n",
              "</tr>\n",
              "<tr>\n",
              "  <th>Time:</th>                <td>19:04:11</td>     <th>  Log-Likelihood:    </th> <td>-1.0639e+05</td>\n",
              "</tr>\n",
              "<tr>\n",
              "  <th>converged:</th>             <td>True</td>       <th>  LL-Null:           </th> <td>-1.0639e+05</td>\n",
              "</tr>\n",
              "<tr>\n",
              "  <th>Covariance Type:</th>     <td>nonrobust</td>    <th>  LLR p-value:       </th>   <td>0.1901</td>   \n",
              "</tr>\n",
              "</table>\n",
              "<table class=\"simpletable\">\n",
              "<tr>\n",
              "      <td></td>         <th>coef</th>     <th>std err</th>      <th>z</th>      <th>P>|z|</th>  <th>[0.025</th>    <th>0.975]</th>  \n",
              "</tr>\n",
              "<tr>\n",
              "  <th>intercept</th> <td>   -1.9888</td> <td>    0.008</td> <td> -246.669</td> <td> 0.000</td> <td>   -2.005</td> <td>   -1.973</td>\n",
              "</tr>\n",
              "<tr>\n",
              "  <th>ab_page</th>   <td>   -0.0150</td> <td>    0.011</td> <td>   -1.310</td> <td> 0.190</td> <td>   -0.037</td> <td>    0.007</td>\n",
              "</tr>\n",
              "</table>"
            ],
            "text/plain": [
              "<class 'statsmodels.iolib.summary.Summary'>\n",
              "\"\"\"\n",
              "                           Logit Regression Results                           \n",
              "==============================================================================\n",
              "Dep. Variable:              converted   No. Observations:               290583\n",
              "Model:                          Logit   Df Residuals:                   290581\n",
              "Method:                           MLE   Df Model:                            1\n",
              "Date:                Thu, 04 Feb 2021   Pseudo R-squ.:               8.068e-06\n",
              "Time:                        19:04:11   Log-Likelihood:            -1.0639e+05\n",
              "converged:                       True   LL-Null:                   -1.0639e+05\n",
              "Covariance Type:            nonrobust   LLR p-value:                    0.1901\n",
              "==============================================================================\n",
              "                 coef    std err          z      P>|z|      [0.025      0.975]\n",
              "------------------------------------------------------------------------------\n",
              "intercept     -1.9888      0.008   -246.669      0.000      -2.005      -1.973\n",
              "ab_page       -0.0150      0.011     -1.310      0.190      -0.037       0.007\n",
              "==============================================================================\n",
              "\"\"\""
            ]
          },
          "metadata": {
            "tags": []
          },
          "execution_count": 40
        }
      ]
    },
    {
      "cell_type": "code",
      "metadata": {
        "colab": {
          "base_uri": "https://localhost:8080/"
        },
        "id": "nxU9s76inrKw",
        "outputId": "c78379e3-7f72-461e-8f8d-1106fdbd1df8"
      },
      "source": [
        "#log odds\r\n",
        "print(results.params)"
      ],
      "execution_count": 41,
      "outputs": [
        {
          "output_type": "stream",
          "text": [
            "intercept   -1.988777\n",
            "ab_page     -0.014981\n",
            "dtype: float64\n"
          ],
          "name": "stdout"
        }
      ]
    },
    {
      "cell_type": "code",
      "metadata": {
        "colab": {
          "base_uri": "https://localhost:8080/"
        },
        "id": "SVU1NyUmn5_Q",
        "outputId": "452cf4b8-aa76-48b2-fd83-5a822eaace98"
      },
      "source": [
        "np.exp(results.params)"
      ],
      "execution_count": 42,
      "outputs": [
        {
          "output_type": "execute_result",
          "data": {
            "text/plain": [
              "intercept    0.136863\n",
              "ab_page      0.985130\n",
              "dtype: float64"
            ]
          },
          "metadata": {
            "tags": []
          },
          "execution_count": 42
        }
      ]
    },
    {
      "cell_type": "code",
      "metadata": {
        "colab": {
          "base_uri": "https://localhost:8080/"
        },
        "id": "ClHdtMC9oKmx",
        "outputId": "a7d292b8-e6d6-492b-ab93-9029bcf7491a"
      },
      "source": [
        "1/_"
      ],
      "execution_count": 43,
      "outputs": [
        {
          "output_type": "execute_result",
          "data": {
            "text/plain": [
              "intercept    7.306593\n",
              "ab_page      1.015094\n",
              "dtype: float64"
            ]
          },
          "metadata": {
            "tags": []
          },
          "execution_count": 43
        }
      ]
    },
    {
      "cell_type": "markdown",
      "metadata": {
        "id": "UuPME7Wwt523"
      },
      "source": [
        "d. Provide the summary of your model below, and use it as necessary to answer the following questions.\r\n",
        "p-value of ab_page is greater than the type 1 error rate that means our model is not statistically significant. When there is a unit change in the independent variable the corresponding change is the estimate of particular independent variable. Increasing of one unit conversion in ab_page (1-0.985 = .015*100) it's less likely by conversion of 1.5%\r\n",
        "\r\n",
        "exp(−1.98877)=.14 or (1−.14)×100%= -86.6% of less likely ap_page.\r\n",
        "\r\n",
        "when user is subjected to the group. So the odds of choosing treatment for those who were in control group and did not prefer treatment group by .14∗1.5= 0.21, so there 0.21% such user who prefer treatment for every such user who prefers control group. critical values = SE/coef\r\n",
        "for baseline variable T = 0.008/-1.9888= -0.004, statistically significant\r\n",
        "for ab_page = -0.0150/0.011 = - 1.36, not statistically significant."
      ]
    },
    {
      "cell_type": "markdown",
      "metadata": {
        "id": "wzKsQn9o1pXA"
      },
      "source": [
        "e. What is the p-value associated with ab_page? Why does it differ from the value you found in Part II?\r\n",
        "The p-value is 0.190 associated with ap_page which is higher than error rate.\r\n",
        "The p-value is part II is 0.90 from z-test and and from the observed difference of conversion rate. In z-test we used one tail test, and the value was 0.90 which is higher than error rate. In the part II null and alternative hypothesis are:\r\n",
        "\r\n",
        "H0: Pnew <= Pold\r\n",
        "\r\n",
        "H1 : Pnew > Pold\r\n",
        "\r\n",
        "In the regression model we are used two tail test:\r\n",
        "\r\n",
        "H0: Pnew = Pold\r\n",
        "\r\n",
        "H1 : Pnew != Pold\r\n",
        "\r\n",
        "It is not statistically significant that new page is better than old page from the regression model.\r\n",
        "\r\n"
      ]
    },
    {
      "cell_type": "markdown",
      "metadata": {
        "id": "Az26THu2NQS6"
      },
      "source": [
        "f. Now, you are considering other things that might influence whether or not an individual converts. Discuss why it is a good idea to consider other factors to add into your regression model. Are there any disadvantages to adding additional terms into your regression model?\r\n",
        "\r\n",
        "If we use other factors that might influence conversion rate in our webpage, but our model is not statistically significant in favour of alternative hypothesis. In the same model we can improve old page instead of launching new page, and it would be cost efficency. Using other factors in the webpage that might cost too. "
      ]
    },
    {
      "cell_type": "markdown",
      "metadata": {
        "id": "ALZVlYrpyYBp"
      },
      "source": [
        "g. Now along with testing if the conversion rate changes for different pages, also add an effect based on which country a user lives in. You will need to read in the countries.csv dataset and merge together your datasets on the appropriate rows.\r\n",
        "\r\n",
        "Does it appear that country had an impact on conversion? Don't forget to create dummy variables for these country columns - Hint: You will need two columns for the three dummy variables. Provide the statistical output as well as a written response to answer this question.\r\n",
        "\r\n",
        "There is no impact rate of conversion in country. Users who lives in different countries, they are using same percentage of control group and treatment group. "
      ]
    },
    {
      "cell_type": "code",
      "metadata": {
        "colab": {
          "base_uri": "https://localhost:8080/",
          "height": 206
        },
        "id": "VIEiT3lyodDj",
        "outputId": "310732b6-9455-45c0-c6c6-9935872a664d"
      },
      "source": [
        "#reding and print few lines of country data.\r\n",
        "df = df1 = pd.read_csv('/content/drive/My Drive/Colab Notebooks/udacity_projects/countries.csv')\r\n",
        "df.head(5)"
      ],
      "execution_count": 44,
      "outputs": [
        {
          "output_type": "execute_result",
          "data": {
            "text/html": [
              "<div>\n",
              "<style scoped>\n",
              "    .dataframe tbody tr th:only-of-type {\n",
              "        vertical-align: middle;\n",
              "    }\n",
              "\n",
              "    .dataframe tbody tr th {\n",
              "        vertical-align: top;\n",
              "    }\n",
              "\n",
              "    .dataframe thead th {\n",
              "        text-align: right;\n",
              "    }\n",
              "</style>\n",
              "<table border=\"1\" class=\"dataframe\">\n",
              "  <thead>\n",
              "    <tr style=\"text-align: right;\">\n",
              "      <th></th>\n",
              "      <th>user_id</th>\n",
              "      <th>country</th>\n",
              "    </tr>\n",
              "  </thead>\n",
              "  <tbody>\n",
              "    <tr>\n",
              "      <th>0</th>\n",
              "      <td>834778</td>\n",
              "      <td>UK</td>\n",
              "    </tr>\n",
              "    <tr>\n",
              "      <th>1</th>\n",
              "      <td>928468</td>\n",
              "      <td>US</td>\n",
              "    </tr>\n",
              "    <tr>\n",
              "      <th>2</th>\n",
              "      <td>822059</td>\n",
              "      <td>UK</td>\n",
              "    </tr>\n",
              "    <tr>\n",
              "      <th>3</th>\n",
              "      <td>711597</td>\n",
              "      <td>UK</td>\n",
              "    </tr>\n",
              "    <tr>\n",
              "      <th>4</th>\n",
              "      <td>710616</td>\n",
              "      <td>UK</td>\n",
              "    </tr>\n",
              "  </tbody>\n",
              "</table>\n",
              "</div>"
            ],
            "text/plain": [
              "   user_id country\n",
              "0   834778      UK\n",
              "1   928468      US\n",
              "2   822059      UK\n",
              "3   711597      UK\n",
              "4   710616      UK"
            ]
          },
          "metadata": {
            "tags": []
          },
          "execution_count": 44
        }
      ]
    },
    {
      "cell_type": "code",
      "metadata": {
        "id": "2eQmdFEzWT_6"
      },
      "source": [
        "df2 = df.set_index('user_id').join(df2.set_index('user_id'), how='inner')"
      ],
      "execution_count": 45,
      "outputs": []
    },
    {
      "cell_type": "code",
      "metadata": {
        "colab": {
          "base_uri": "https://localhost:8080/",
          "height": 112
        },
        "id": "DV63kbvQWlZo",
        "outputId": "848fde21-37ef-41b8-d6be-df28cabf4a28"
      },
      "source": [
        "df2.head(1)"
      ],
      "execution_count": 46,
      "outputs": [
        {
          "output_type": "execute_result",
          "data": {
            "text/html": [
              "<div>\n",
              "<style scoped>\n",
              "    .dataframe tbody tr th:only-of-type {\n",
              "        vertical-align: middle;\n",
              "    }\n",
              "\n",
              "    .dataframe tbody tr th {\n",
              "        vertical-align: top;\n",
              "    }\n",
              "\n",
              "    .dataframe thead th {\n",
              "        text-align: right;\n",
              "    }\n",
              "</style>\n",
              "<table border=\"1\" class=\"dataframe\">\n",
              "  <thead>\n",
              "    <tr style=\"text-align: right;\">\n",
              "      <th></th>\n",
              "      <th>country</th>\n",
              "      <th>timestamp</th>\n",
              "      <th>group</th>\n",
              "      <th>landing_page</th>\n",
              "      <th>converted</th>\n",
              "      <th>intercept</th>\n",
              "      <th>ab_page</th>\n",
              "    </tr>\n",
              "    <tr>\n",
              "      <th>user_id</th>\n",
              "      <th></th>\n",
              "      <th></th>\n",
              "      <th></th>\n",
              "      <th></th>\n",
              "      <th></th>\n",
              "      <th></th>\n",
              "      <th></th>\n",
              "    </tr>\n",
              "  </thead>\n",
              "  <tbody>\n",
              "    <tr>\n",
              "      <th>834778</th>\n",
              "      <td>UK</td>\n",
              "      <td>2017-01-14 23:08:43.304998</td>\n",
              "      <td>control</td>\n",
              "      <td>old_page</td>\n",
              "      <td>0</td>\n",
              "      <td>1</td>\n",
              "      <td>0</td>\n",
              "    </tr>\n",
              "  </tbody>\n",
              "</table>\n",
              "</div>"
            ],
            "text/plain": [
              "        country                   timestamp  ... intercept ab_page\n",
              "user_id                                      ...                  \n",
              "834778       UK  2017-01-14 23:08:43.304998  ...         1       0\n",
              "\n",
              "[1 rows x 7 columns]"
            ]
          },
          "metadata": {
            "tags": []
          },
          "execution_count": 46
        }
      ]
    },
    {
      "cell_type": "code",
      "metadata": {
        "colab": {
          "base_uri": "https://localhost:8080/",
          "height": 112
        },
        "id": "IcesEaiVzA0H",
        "outputId": "e9c3fcdf-3603-44a7-bd20-a5d8b6699c65"
      },
      "source": [
        "df2[['UK', 'US', 'CA']] = pd.get_dummies(df2['country'])\r\n",
        "df2.head(1)"
      ],
      "execution_count": 47,
      "outputs": [
        {
          "output_type": "execute_result",
          "data": {
            "text/html": [
              "<div>\n",
              "<style scoped>\n",
              "    .dataframe tbody tr th:only-of-type {\n",
              "        vertical-align: middle;\n",
              "    }\n",
              "\n",
              "    .dataframe tbody tr th {\n",
              "        vertical-align: top;\n",
              "    }\n",
              "\n",
              "    .dataframe thead th {\n",
              "        text-align: right;\n",
              "    }\n",
              "</style>\n",
              "<table border=\"1\" class=\"dataframe\">\n",
              "  <thead>\n",
              "    <tr style=\"text-align: right;\">\n",
              "      <th></th>\n",
              "      <th>country</th>\n",
              "      <th>timestamp</th>\n",
              "      <th>group</th>\n",
              "      <th>landing_page</th>\n",
              "      <th>converted</th>\n",
              "      <th>intercept</th>\n",
              "      <th>ab_page</th>\n",
              "      <th>UK</th>\n",
              "      <th>US</th>\n",
              "      <th>CA</th>\n",
              "    </tr>\n",
              "    <tr>\n",
              "      <th>user_id</th>\n",
              "      <th></th>\n",
              "      <th></th>\n",
              "      <th></th>\n",
              "      <th></th>\n",
              "      <th></th>\n",
              "      <th></th>\n",
              "      <th></th>\n",
              "      <th></th>\n",
              "      <th></th>\n",
              "      <th></th>\n",
              "    </tr>\n",
              "  </thead>\n",
              "  <tbody>\n",
              "    <tr>\n",
              "      <th>834778</th>\n",
              "      <td>UK</td>\n",
              "      <td>2017-01-14 23:08:43.304998</td>\n",
              "      <td>control</td>\n",
              "      <td>old_page</td>\n",
              "      <td>0</td>\n",
              "      <td>1</td>\n",
              "      <td>0</td>\n",
              "      <td>0</td>\n",
              "      <td>1</td>\n",
              "      <td>0</td>\n",
              "    </tr>\n",
              "  </tbody>\n",
              "</table>\n",
              "</div>"
            ],
            "text/plain": [
              "        country                   timestamp    group  ... UK  US  CA\n",
              "user_id                                               ...           \n",
              "834778       UK  2017-01-14 23:08:43.304998  control  ...  0   1   0\n",
              "\n",
              "[1 rows x 10 columns]"
            ]
          },
          "metadata": {
            "tags": []
          },
          "execution_count": 47
        }
      ]
    },
    {
      "cell_type": "code",
      "metadata": {
        "colab": {
          "base_uri": "https://localhost:8080/",
          "height": 112
        },
        "id": "m-w_XochLySt",
        "outputId": "e82c82a3-1d51-475b-bd00-49773d91cbf3"
      },
      "source": [
        "df2 = df2.drop('CA', axis=1)\r\n",
        "df2.head(1)"
      ],
      "execution_count": 48,
      "outputs": [
        {
          "output_type": "execute_result",
          "data": {
            "text/html": [
              "<div>\n",
              "<style scoped>\n",
              "    .dataframe tbody tr th:only-of-type {\n",
              "        vertical-align: middle;\n",
              "    }\n",
              "\n",
              "    .dataframe tbody tr th {\n",
              "        vertical-align: top;\n",
              "    }\n",
              "\n",
              "    .dataframe thead th {\n",
              "        text-align: right;\n",
              "    }\n",
              "</style>\n",
              "<table border=\"1\" class=\"dataframe\">\n",
              "  <thead>\n",
              "    <tr style=\"text-align: right;\">\n",
              "      <th></th>\n",
              "      <th>country</th>\n",
              "      <th>timestamp</th>\n",
              "      <th>group</th>\n",
              "      <th>landing_page</th>\n",
              "      <th>converted</th>\n",
              "      <th>intercept</th>\n",
              "      <th>ab_page</th>\n",
              "      <th>UK</th>\n",
              "      <th>US</th>\n",
              "    </tr>\n",
              "    <tr>\n",
              "      <th>user_id</th>\n",
              "      <th></th>\n",
              "      <th></th>\n",
              "      <th></th>\n",
              "      <th></th>\n",
              "      <th></th>\n",
              "      <th></th>\n",
              "      <th></th>\n",
              "      <th></th>\n",
              "      <th></th>\n",
              "    </tr>\n",
              "  </thead>\n",
              "  <tbody>\n",
              "    <tr>\n",
              "      <th>834778</th>\n",
              "      <td>UK</td>\n",
              "      <td>2017-01-14 23:08:43.304998</td>\n",
              "      <td>control</td>\n",
              "      <td>old_page</td>\n",
              "      <td>0</td>\n",
              "      <td>1</td>\n",
              "      <td>0</td>\n",
              "      <td>0</td>\n",
              "      <td>1</td>\n",
              "    </tr>\n",
              "  </tbody>\n",
              "</table>\n",
              "</div>"
            ],
            "text/plain": [
              "        country                   timestamp    group  ... ab_page  UK  US\n",
              "user_id                                               ...                \n",
              "834778       UK  2017-01-14 23:08:43.304998  control  ...       0   0   1\n",
              "\n",
              "[1 rows x 9 columns]"
            ]
          },
          "metadata": {
            "tags": []
          },
          "execution_count": 48
        }
      ]
    },
    {
      "cell_type": "code",
      "metadata": {
        "colab": {
          "base_uri": "https://localhost:8080/"
        },
        "id": "O8dnZ93OLz51",
        "outputId": "669829ac-4dfb-45bc-b653-97c190c651b2"
      },
      "source": [
        "df2.dtypes"
      ],
      "execution_count": 49,
      "outputs": [
        {
          "output_type": "execute_result",
          "data": {
            "text/plain": [
              "country         object\n",
              "timestamp       object\n",
              "group           object\n",
              "landing_page    object\n",
              "converted        int64\n",
              "intercept        int64\n",
              "ab_page          uint8\n",
              "UK               uint8\n",
              "US               uint8\n",
              "dtype: object"
            ]
          },
          "metadata": {
            "tags": []
          },
          "execution_count": 49
        }
      ]
    },
    {
      "cell_type": "code",
      "metadata": {
        "colab": {
          "base_uri": "https://localhost:8080/"
        },
        "id": "PUsG_jj9OhN1",
        "outputId": "21dd0532-febe-4f4e-efc0-dffae33c9ea6"
      },
      "source": [
        "df2.groupby('country').mean()['converted']"
      ],
      "execution_count": 50,
      "outputs": [
        {
          "output_type": "execute_result",
          "data": {
            "text/plain": [
              "country\n",
              "CA    0.115318\n",
              "UK    0.120594\n",
              "US    0.119547\n",
              "Name: converted, dtype: float64"
            ]
          },
          "metadata": {
            "tags": []
          },
          "execution_count": 50
        }
      ]
    },
    {
      "cell_type": "code",
      "metadata": {
        "colab": {
          "base_uri": "https://localhost:8080/"
        },
        "id": "o3oQyKzZVduj",
        "outputId": "5e12825f-c44b-4eb7-9511-bcd4ff29963d"
      },
      "source": [
        "df2.groupby(['group', 'country']).mean()['converted']"
      ],
      "execution_count": 51,
      "outputs": [
        {
          "output_type": "execute_result",
          "data": {
            "text/plain": [
              "group      country\n",
              "control    CA         0.118783\n",
              "           UK         0.120022\n",
              "           US         0.120630\n",
              "treatment  CA         0.111902\n",
              "           UK         0.121171\n",
              "           US         0.118467\n",
              "Name: converted, dtype: float64"
            ]
          },
          "metadata": {
            "tags": []
          },
          "execution_count": 51
        }
      ]
    },
    {
      "cell_type": "code",
      "metadata": {
        "colab": {
          "base_uri": "https://localhost:8080/"
        },
        "id": "a_n-n5B1aqNm",
        "outputId": "91b182a9-03e7-4c5b-ff30-b8659a90383e"
      },
      "source": [
        "df2.groupby(['landing_page', 'country']).mean()['converted']"
      ],
      "execution_count": 52,
      "outputs": [
        {
          "output_type": "execute_result",
          "data": {
            "text/plain": [
              "landing_page  country\n",
              "new_page      CA         0.111902\n",
              "              UK         0.121171\n",
              "              US         0.118467\n",
              "old_page      CA         0.118783\n",
              "              UK         0.120022\n",
              "              US         0.120630\n",
              "Name: converted, dtype: float64"
            ]
          },
          "metadata": {
            "tags": []
          },
          "execution_count": 52
        }
      ]
    },
    {
      "cell_type": "code",
      "metadata": {
        "colab": {
          "base_uri": "https://localhost:8080/",
          "height": 329
        },
        "id": "3DXUDbVgVuS8",
        "outputId": "2cfc1f7c-8f1f-41f8-d183-bb005b3c7438"
      },
      "source": [
        "logit2 = sm.Logit(df2['converted'], df2[['intercept', 'UK', 'US']])\r\n",
        "results2 = logit2.fit()\r\n",
        "results2.summary()"
      ],
      "execution_count": 53,
      "outputs": [
        {
          "output_type": "stream",
          "text": [
            "Optimization terminated successfully.\n",
            "         Current function value: 0.366117\n",
            "         Iterations 6\n"
          ],
          "name": "stdout"
        },
        {
          "output_type": "execute_result",
          "data": {
            "text/html": [
              "<table class=\"simpletable\">\n",
              "<caption>Logit Regression Results</caption>\n",
              "<tr>\n",
              "  <th>Dep. Variable:</th>       <td>converted</td>    <th>  No. Observations:  </th>   <td>290583</td>   \n",
              "</tr>\n",
              "<tr>\n",
              "  <th>Model:</th>                 <td>Logit</td>      <th>  Df Residuals:      </th>   <td>290580</td>   \n",
              "</tr>\n",
              "<tr>\n",
              "  <th>Method:</th>                 <td>MLE</td>       <th>  Df Model:          </th>   <td>     2</td>   \n",
              "</tr>\n",
              "<tr>\n",
              "  <th>Date:</th>            <td>Thu, 04 Feb 2021</td> <th>  Pseudo R-squ.:     </th>  <td>1.520e-05</td> \n",
              "</tr>\n",
              "<tr>\n",
              "  <th>Time:</th>                <td>19:06:41</td>     <th>  Log-Likelihood:    </th> <td>-1.0639e+05</td>\n",
              "</tr>\n",
              "<tr>\n",
              "  <th>converged:</th>             <td>True</td>       <th>  LL-Null:           </th> <td>-1.0639e+05</td>\n",
              "</tr>\n",
              "<tr>\n",
              "  <th>Covariance Type:</th>     <td>nonrobust</td>    <th>  LLR p-value:       </th>   <td>0.1984</td>   \n",
              "</tr>\n",
              "</table>\n",
              "<table class=\"simpletable\">\n",
              "<tr>\n",
              "      <td></td>         <th>coef</th>     <th>std err</th>      <th>z</th>      <th>P>|z|</th>  <th>[0.025</th>    <th>0.975]</th>  \n",
              "</tr>\n",
              "<tr>\n",
              "  <th>intercept</th> <td>   -1.9967</td> <td>    0.007</td> <td> -292.314</td> <td> 0.000</td> <td>   -2.010</td> <td>   -1.983</td>\n",
              "</tr>\n",
              "<tr>\n",
              "  <th>UK</th>        <td>   -0.0408</td> <td>    0.027</td> <td>   -1.518</td> <td> 0.129</td> <td>   -0.093</td> <td>    0.012</td>\n",
              "</tr>\n",
              "<tr>\n",
              "  <th>US</th>        <td>    0.0099</td> <td>    0.013</td> <td>    0.745</td> <td> 0.456</td> <td>   -0.016</td> <td>    0.036</td>\n",
              "</tr>\n",
              "</table>"
            ],
            "text/plain": [
              "<class 'statsmodels.iolib.summary.Summary'>\n",
              "\"\"\"\n",
              "                           Logit Regression Results                           \n",
              "==============================================================================\n",
              "Dep. Variable:              converted   No. Observations:               290583\n",
              "Model:                          Logit   Df Residuals:                   290580\n",
              "Method:                           MLE   Df Model:                            2\n",
              "Date:                Thu, 04 Feb 2021   Pseudo R-squ.:               1.520e-05\n",
              "Time:                        19:06:41   Log-Likelihood:            -1.0639e+05\n",
              "converged:                       True   LL-Null:                   -1.0639e+05\n",
              "Covariance Type:            nonrobust   LLR p-value:                    0.1984\n",
              "==============================================================================\n",
              "                 coef    std err          z      P>|z|      [0.025      0.975]\n",
              "------------------------------------------------------------------------------\n",
              "intercept     -1.9967      0.007   -292.314      0.000      -2.010      -1.983\n",
              "UK            -0.0408      0.027     -1.518      0.129      -0.093       0.012\n",
              "US             0.0099      0.013      0.745      0.456      -0.016       0.036\n",
              "==============================================================================\n",
              "\"\"\""
            ]
          },
          "metadata": {
            "tags": []
          },
          "execution_count": 53
        }
      ]
    },
    {
      "cell_type": "code",
      "metadata": {
        "colab": {
          "base_uri": "https://localhost:8080/"
        },
        "id": "ufj_OeMnsPr1",
        "outputId": "e0998871-c094-4837-af08-baea2f0e0eb8"
      },
      "source": [
        "#log odds\r\n",
        "np.exp(results2.params)"
      ],
      "execution_count": 54,
      "outputs": [
        {
          "output_type": "execute_result",
          "data": {
            "text/plain": [
              "intercept    0.135779\n",
              "UK           0.960013\n",
              "US           1.009960\n",
              "dtype: float64"
            ]
          },
          "metadata": {
            "tags": []
          },
          "execution_count": 54
        }
      ]
    },
    {
      "cell_type": "code",
      "metadata": {
        "colab": {
          "base_uri": "https://localhost:8080/"
        },
        "id": "xyt3XWbfse81",
        "outputId": "7a58c076-15a1-46d9-ed30-b72d2bf2bda9"
      },
      "source": [
        "#reciprocal of log odds\r\n",
        "1/_"
      ],
      "execution_count": 55,
      "outputs": [
        {
          "output_type": "execute_result",
          "data": {
            "text/plain": [
              "intercept    7.364884\n",
              "UK           1.041653\n",
              "US           0.990138\n",
              "dtype: float64"
            ]
          },
          "metadata": {
            "tags": []
          },
          "execution_count": 55
        }
      ]
    },
    {
      "cell_type": "markdown",
      "metadata": {
        "id": "3AXJ_8SXqaLj"
      },
      "source": [
        "In the above model, adding country factor in the model doesn't seems like any changes of conversion rate, p-value is higher than type 1 error, we fail to reject null hypothesis, countries are not statistical significant to add in our model."
      ]
    },
    {
      "cell_type": "code",
      "metadata": {
        "colab": {
          "base_uri": "https://localhost:8080/",
          "height": 350
        },
        "id": "i0dmBYIJd1DV",
        "outputId": "a933b48c-4864-4408-c1b4-4c3c7b6dca92"
      },
      "source": [
        "logit3 = sm.Logit(df2['converted'], df2[['intercept', 'ab_page', 'UK', 'US']])\r\n",
        "results3 = logit3.fit()\r\n",
        "results3.summary()"
      ],
      "execution_count": 56,
      "outputs": [
        {
          "output_type": "stream",
          "text": [
            "Optimization terminated successfully.\n",
            "         Current function value: 0.366114\n",
            "         Iterations 6\n"
          ],
          "name": "stdout"
        },
        {
          "output_type": "execute_result",
          "data": {
            "text/html": [
              "<table class=\"simpletable\">\n",
              "<caption>Logit Regression Results</caption>\n",
              "<tr>\n",
              "  <th>Dep. Variable:</th>       <td>converted</td>    <th>  No. Observations:  </th>   <td>290583</td>   \n",
              "</tr>\n",
              "<tr>\n",
              "  <th>Model:</th>                 <td>Logit</td>      <th>  Df Residuals:      </th>   <td>290579</td>   \n",
              "</tr>\n",
              "<tr>\n",
              "  <th>Method:</th>                 <td>MLE</td>       <th>  Df Model:          </th>   <td>     3</td>   \n",
              "</tr>\n",
              "<tr>\n",
              "  <th>Date:</th>            <td>Thu, 04 Feb 2021</td> <th>  Pseudo R-squ.:     </th>  <td>2.322e-05</td> \n",
              "</tr>\n",
              "<tr>\n",
              "  <th>Time:</th>                <td>19:08:32</td>     <th>  Log-Likelihood:    </th> <td>-1.0639e+05</td>\n",
              "</tr>\n",
              "<tr>\n",
              "  <th>converged:</th>             <td>True</td>       <th>  LL-Null:           </th> <td>-1.0639e+05</td>\n",
              "</tr>\n",
              "<tr>\n",
              "  <th>Covariance Type:</th>     <td>nonrobust</td>    <th>  LLR p-value:       </th>   <td>0.1761</td>   \n",
              "</tr>\n",
              "</table>\n",
              "<table class=\"simpletable\">\n",
              "<tr>\n",
              "      <td></td>         <th>coef</th>     <th>std err</th>      <th>z</th>      <th>P>|z|</th>  <th>[0.025</th>    <th>0.975]</th>  \n",
              "</tr>\n",
              "<tr>\n",
              "  <th>intercept</th> <td>   -1.9893</td> <td>    0.009</td> <td> -223.763</td> <td> 0.000</td> <td>   -2.007</td> <td>   -1.972</td>\n",
              "</tr>\n",
              "<tr>\n",
              "  <th>ab_page</th>   <td>   -0.0149</td> <td>    0.011</td> <td>   -1.306</td> <td> 0.191</td> <td>   -0.037</td> <td>    0.007</td>\n",
              "</tr>\n",
              "<tr>\n",
              "  <th>UK</th>        <td>   -0.0408</td> <td>    0.027</td> <td>   -1.516</td> <td> 0.129</td> <td>   -0.093</td> <td>    0.012</td>\n",
              "</tr>\n",
              "<tr>\n",
              "  <th>US</th>        <td>    0.0099</td> <td>    0.013</td> <td>    0.743</td> <td> 0.458</td> <td>   -0.016</td> <td>    0.036</td>\n",
              "</tr>\n",
              "</table>"
            ],
            "text/plain": [
              "<class 'statsmodels.iolib.summary.Summary'>\n",
              "\"\"\"\n",
              "                           Logit Regression Results                           \n",
              "==============================================================================\n",
              "Dep. Variable:              converted   No. Observations:               290583\n",
              "Model:                          Logit   Df Residuals:                   290579\n",
              "Method:                           MLE   Df Model:                            3\n",
              "Date:                Thu, 04 Feb 2021   Pseudo R-squ.:               2.322e-05\n",
              "Time:                        19:08:32   Log-Likelihood:            -1.0639e+05\n",
              "converged:                       True   LL-Null:                   -1.0639e+05\n",
              "Covariance Type:            nonrobust   LLR p-value:                    0.1761\n",
              "==============================================================================\n",
              "                 coef    std err          z      P>|z|      [0.025      0.975]\n",
              "------------------------------------------------------------------------------\n",
              "intercept     -1.9893      0.009   -223.763      0.000      -2.007      -1.972\n",
              "ab_page       -0.0149      0.011     -1.306      0.191      -0.037       0.007\n",
              "UK            -0.0408      0.027     -1.516      0.129      -0.093       0.012\n",
              "US             0.0099      0.013      0.743      0.458      -0.016       0.036\n",
              "==============================================================================\n",
              "\"\"\""
            ]
          },
          "metadata": {
            "tags": []
          },
          "execution_count": 56
        }
      ]
    },
    {
      "cell_type": "code",
      "metadata": {
        "colab": {
          "base_uri": "https://localhost:8080/"
        },
        "id": "CIIG2q_1s4m9",
        "outputId": "76deeb98-8e50-4c53-a796-11f41947040d"
      },
      "source": [
        "#log odds\r\n",
        "np.exp(results3.params)"
      ],
      "execution_count": 57,
      "outputs": [
        {
          "output_type": "execute_result",
          "data": {
            "text/plain": [
              "intercept    0.136795\n",
              "ab_page      0.985175\n",
              "UK           0.960057\n",
              "US           1.009927\n",
              "dtype: float64"
            ]
          },
          "metadata": {
            "tags": []
          },
          "execution_count": 57
        }
      ]
    },
    {
      "cell_type": "code",
      "metadata": {
        "colab": {
          "base_uri": "https://localhost:8080/"
        },
        "id": "_WiQqB09tDRA",
        "outputId": "439531cf-f1b0-4650-b4a2-b535913816f8"
      },
      "source": [
        "#reciprocal of log odds\r\n",
        "1/np.exp(results3.params)"
      ],
      "execution_count": 58,
      "outputs": [
        {
          "output_type": "execute_result",
          "data": {
            "text/plain": [
              "intercept    7.310194\n",
              "ab_page      1.015048\n",
              "UK           1.041605\n",
              "US           0.990171\n",
              "dtype: float64"
            ]
          },
          "metadata": {
            "tags": []
          },
          "execution_count": 58
        }
      ]
    },
    {
      "cell_type": "markdown",
      "metadata": {
        "id": "ytzzrbapqQmh"
      },
      "source": [
        "Using by ab_page in this model, we got same results as above model where we used converted instead of ab_page, adding treatment and new_page it's not statistically significant in faour of alternative hypothesis, we fail to reject null hypotesis."
      ]
    },
    {
      "cell_type": "markdown",
      "metadata": {
        "id": "0gAXKgyAc1Eg"
      },
      "source": [
        "h. Though you have now looked at the individual factors of country and page on conversion, we would now like to look at an interaction between page and country to see if there significant effects on conversion. Create the necessary additional columns, and fit the new model.\r\n",
        "\r\n",
        "Provide the summary results, and your conclusions based on the results.\r\n",
        "\r\n",
        "So far from the previous models we didn't get enough evidence that shows new page is better than old page, we sticked on null hypothesis. \r\n",
        "After adding new intreaction columns in our dataset and fit the model logistically and linearlly, we found interesting results that satisfy our provious resluts. That model is also not statistically significant, p-values for all parameters are greater than error rate, however, we fail to reject null hypothesis.\r\n"
      ]
    },
    {
      "cell_type": "code",
      "metadata": {
        "colab": {
          "base_uri": "https://localhost:8080/",
          "height": 143
        },
        "id": "7I3vuNaHdO-i",
        "outputId": "019e46e9-b441-4a29-e794-e81f681406e4"
      },
      "source": [
        "df2['Uk_ab_page'] = df2['UK'] * df2['ab_page']\r\n",
        "df2['US_ab_page'] = df2['US'] * df2['ab_page']\r\n",
        "df2.head(2)"
      ],
      "execution_count": 62,
      "outputs": [
        {
          "output_type": "execute_result",
          "data": {
            "text/html": [
              "<div>\n",
              "<style scoped>\n",
              "    .dataframe tbody tr th:only-of-type {\n",
              "        vertical-align: middle;\n",
              "    }\n",
              "\n",
              "    .dataframe tbody tr th {\n",
              "        vertical-align: top;\n",
              "    }\n",
              "\n",
              "    .dataframe thead th {\n",
              "        text-align: right;\n",
              "    }\n",
              "</style>\n",
              "<table border=\"1\" class=\"dataframe\">\n",
              "  <thead>\n",
              "    <tr style=\"text-align: right;\">\n",
              "      <th></th>\n",
              "      <th>country</th>\n",
              "      <th>timestamp</th>\n",
              "      <th>group</th>\n",
              "      <th>landing_page</th>\n",
              "      <th>converted</th>\n",
              "      <th>intercept</th>\n",
              "      <th>ab_page</th>\n",
              "      <th>UK</th>\n",
              "      <th>US</th>\n",
              "      <th>Uk_ab_page</th>\n",
              "      <th>US_ab_page</th>\n",
              "    </tr>\n",
              "    <tr>\n",
              "      <th>user_id</th>\n",
              "      <th></th>\n",
              "      <th></th>\n",
              "      <th></th>\n",
              "      <th></th>\n",
              "      <th></th>\n",
              "      <th></th>\n",
              "      <th></th>\n",
              "      <th></th>\n",
              "      <th></th>\n",
              "      <th></th>\n",
              "      <th></th>\n",
              "    </tr>\n",
              "  </thead>\n",
              "  <tbody>\n",
              "    <tr>\n",
              "      <th>834778</th>\n",
              "      <td>UK</td>\n",
              "      <td>2017-01-14 23:08:43.304998</td>\n",
              "      <td>control</td>\n",
              "      <td>old_page</td>\n",
              "      <td>0</td>\n",
              "      <td>1</td>\n",
              "      <td>0</td>\n",
              "      <td>0</td>\n",
              "      <td>1</td>\n",
              "      <td>0</td>\n",
              "      <td>0</td>\n",
              "    </tr>\n",
              "    <tr>\n",
              "      <th>928468</th>\n",
              "      <td>US</td>\n",
              "      <td>2017-01-23 14:44:16.387854</td>\n",
              "      <td>treatment</td>\n",
              "      <td>new_page</td>\n",
              "      <td>0</td>\n",
              "      <td>1</td>\n",
              "      <td>1</td>\n",
              "      <td>0</td>\n",
              "      <td>0</td>\n",
              "      <td>0</td>\n",
              "      <td>0</td>\n",
              "    </tr>\n",
              "  </tbody>\n",
              "</table>\n",
              "</div>"
            ],
            "text/plain": [
              "        country                   timestamp  ... Uk_ab_page US_ab_page\n",
              "user_id                                      ...                      \n",
              "834778       UK  2017-01-14 23:08:43.304998  ...          0          0\n",
              "928468       US  2017-01-23 14:44:16.387854  ...          0          0\n",
              "\n",
              "[2 rows x 11 columns]"
            ]
          },
          "metadata": {
            "tags": []
          },
          "execution_count": 62
        }
      ]
    },
    {
      "cell_type": "code",
      "metadata": {
        "colab": {
          "base_uri": "https://localhost:8080/",
          "height": 393
        },
        "id": "KyWWNPPogYme",
        "outputId": "4ebd309e-30ec-4293-d71e-c10b8159b43c"
      },
      "source": [
        "logit4 = sm.Logit(df2['converted'], df2[['intercept', 'ab_page', 'UK', 'US', 'Uk_ab_page', 'US_ab_page']])\r\n",
        "results4 = logit4.fit()\r\n",
        "results4.summary()"
      ],
      "execution_count": 63,
      "outputs": [
        {
          "output_type": "stream",
          "text": [
            "Optimization terminated successfully.\n",
            "         Current function value: 0.366110\n",
            "         Iterations 6\n"
          ],
          "name": "stdout"
        },
        {
          "output_type": "execute_result",
          "data": {
            "text/html": [
              "<table class=\"simpletable\">\n",
              "<caption>Logit Regression Results</caption>\n",
              "<tr>\n",
              "  <th>Dep. Variable:</th>       <td>converted</td>    <th>  No. Observations:  </th>   <td>290583</td>   \n",
              "</tr>\n",
              "<tr>\n",
              "  <th>Model:</th>                 <td>Logit</td>      <th>  Df Residuals:      </th>   <td>290577</td>   \n",
              "</tr>\n",
              "<tr>\n",
              "  <th>Method:</th>                 <td>MLE</td>       <th>  Df Model:          </th>   <td>     5</td>   \n",
              "</tr>\n",
              "<tr>\n",
              "  <th>Date:</th>            <td>Thu, 04 Feb 2021</td> <th>  Pseudo R-squ.:     </th>  <td>3.481e-05</td> \n",
              "</tr>\n",
              "<tr>\n",
              "  <th>Time:</th>                <td>19:33:37</td>     <th>  Log-Likelihood:    </th> <td>-1.0639e+05</td>\n",
              "</tr>\n",
              "<tr>\n",
              "  <th>converged:</th>             <td>True</td>       <th>  LL-Null:           </th> <td>-1.0639e+05</td>\n",
              "</tr>\n",
              "<tr>\n",
              "  <th>Covariance Type:</th>     <td>nonrobust</td>    <th>  LLR p-value:       </th>   <td>0.1922</td>   \n",
              "</tr>\n",
              "</table>\n",
              "<table class=\"simpletable\">\n",
              "<tr>\n",
              "       <td></td>         <th>coef</th>     <th>std err</th>      <th>z</th>      <th>P>|z|</th>  <th>[0.025</th>    <th>0.975]</th>  \n",
              "</tr>\n",
              "<tr>\n",
              "  <th>intercept</th>  <td>   -1.9865</td> <td>    0.010</td> <td> -206.344</td> <td> 0.000</td> <td>   -2.005</td> <td>   -1.968</td>\n",
              "</tr>\n",
              "<tr>\n",
              "  <th>ab_page</th>    <td>   -0.0206</td> <td>    0.014</td> <td>   -1.504</td> <td> 0.132</td> <td>   -0.047</td> <td>    0.006</td>\n",
              "</tr>\n",
              "<tr>\n",
              "  <th>UK</th>         <td>   -0.0175</td> <td>    0.038</td> <td>   -0.465</td> <td> 0.642</td> <td>   -0.091</td> <td>    0.056</td>\n",
              "</tr>\n",
              "<tr>\n",
              "  <th>US</th>         <td>   -0.0057</td> <td>    0.019</td> <td>   -0.306</td> <td> 0.760</td> <td>   -0.043</td> <td>    0.031</td>\n",
              "</tr>\n",
              "<tr>\n",
              "  <th>Uk_ab_page</th> <td>   -0.0469</td> <td>    0.054</td> <td>   -0.872</td> <td> 0.383</td> <td>   -0.152</td> <td>    0.059</td>\n",
              "</tr>\n",
              "<tr>\n",
              "  <th>US_ab_page</th> <td>    0.0314</td> <td>    0.027</td> <td>    1.180</td> <td> 0.238</td> <td>   -0.021</td> <td>    0.084</td>\n",
              "</tr>\n",
              "</table>"
            ],
            "text/plain": [
              "<class 'statsmodels.iolib.summary.Summary'>\n",
              "\"\"\"\n",
              "                           Logit Regression Results                           \n",
              "==============================================================================\n",
              "Dep. Variable:              converted   No. Observations:               290583\n",
              "Model:                          Logit   Df Residuals:                   290577\n",
              "Method:                           MLE   Df Model:                            5\n",
              "Date:                Thu, 04 Feb 2021   Pseudo R-squ.:               3.481e-05\n",
              "Time:                        19:33:37   Log-Likelihood:            -1.0639e+05\n",
              "converged:                       True   LL-Null:                   -1.0639e+05\n",
              "Covariance Type:            nonrobust   LLR p-value:                    0.1922\n",
              "==============================================================================\n",
              "                 coef    std err          z      P>|z|      [0.025      0.975]\n",
              "------------------------------------------------------------------------------\n",
              "intercept     -1.9865      0.010   -206.344      0.000      -2.005      -1.968\n",
              "ab_page       -0.0206      0.014     -1.504      0.132      -0.047       0.006\n",
              "UK            -0.0175      0.038     -0.465      0.642      -0.091       0.056\n",
              "US            -0.0057      0.019     -0.306      0.760      -0.043       0.031\n",
              "Uk_ab_page    -0.0469      0.054     -0.872      0.383      -0.152       0.059\n",
              "US_ab_page     0.0314      0.027      1.180      0.238      -0.021       0.084\n",
              "==============================================================================\n",
              "\"\"\""
            ]
          },
          "metadata": {
            "tags": []
          },
          "execution_count": 63
        }
      ]
    },
    {
      "cell_type": "code",
      "metadata": {
        "colab": {
          "base_uri": "https://localhost:8080/"
        },
        "id": "Abs90In3kL-V",
        "outputId": "f2029026-fcac-4a8e-e70c-dc132dbe94c6"
      },
      "source": [
        "#log odds\r\n",
        "np.exp(results4.params)"
      ],
      "execution_count": 69,
      "outputs": [
        {
          "output_type": "execute_result",
          "data": {
            "text/plain": [
              "intercept     0.137178\n",
              "ab_page       0.979657\n",
              "UK            0.982625\n",
              "US            0.994272\n",
              "Uk_ab_page    0.954187\n",
              "US_ab_page    1.031884\n",
              "dtype: float64"
            ]
          },
          "metadata": {
            "tags": []
          },
          "execution_count": 69
        }
      ]
    },
    {
      "cell_type": "code",
      "metadata": {
        "colab": {
          "base_uri": "https://localhost:8080/"
        },
        "id": "IdeAJoqYkVpj",
        "outputId": "e157c78b-e1b4-4d6b-950c-68dd3662c241"
      },
      "source": [
        "#reciprocal log odds because all values are less than 1\r\n",
        "1/np.exp(results4.params)"
      ],
      "execution_count": 70,
      "outputs": [
        {
          "output_type": "execute_result",
          "data": {
            "text/plain": [
              "intercept     7.289813\n",
              "ab_page       1.020765\n",
              "UK            1.017682\n",
              "US            1.005761\n",
              "Uk_ab_page    1.048013\n",
              "US_ab_page    0.969101\n",
              "dtype: float64"
            ]
          },
          "metadata": {
            "tags": []
          },
          "execution_count": 70
        }
      ]
    },
    {
      "cell_type": "code",
      "metadata": {
        "colab": {
          "base_uri": "https://localhost:8080/",
          "height": 473
        },
        "id": "i0u3Tq_AiRYG",
        "outputId": "9e4525a2-d69d-42c4-821e-886a218c68ed"
      },
      "source": [
        "lm1 = sm.OLS(df2['converted'], df2[['intercept', 'UK', 'US']]).fit()\r\n",
        "resultsa = lm1.summary()\r\n",
        "resultsa\r\n"
      ],
      "execution_count": 65,
      "outputs": [
        {
          "output_type": "execute_result",
          "data": {
            "text/html": [
              "<table class=\"simpletable\">\n",
              "<caption>OLS Regression Results</caption>\n",
              "<tr>\n",
              "  <th>Dep. Variable:</th>        <td>converted</td>    <th>  R-squared:         </th> <td>   0.000</td> \n",
              "</tr>\n",
              "<tr>\n",
              "  <th>Model:</th>                   <td>OLS</td>       <th>  Adj. R-squared:    </th> <td>   0.000</td> \n",
              "</tr>\n",
              "<tr>\n",
              "  <th>Method:</th>             <td>Least Squares</td>  <th>  F-statistic:       </th> <td>   1.605</td> \n",
              "</tr>\n",
              "<tr>\n",
              "  <th>Date:</th>             <td>Thu, 04 Feb 2021</td> <th>  Prob (F-statistic):</th>  <td> 0.201</td>  \n",
              "</tr>\n",
              "<tr>\n",
              "  <th>Time:</th>                 <td>19:36:57</td>     <th>  Log-Likelihood:    </th> <td> -85267.</td> \n",
              "</tr>\n",
              "<tr>\n",
              "  <th>No. Observations:</th>      <td>290583</td>      <th>  AIC:               </th> <td>1.705e+05</td>\n",
              "</tr>\n",
              "<tr>\n",
              "  <th>Df Residuals:</th>          <td>290580</td>      <th>  BIC:               </th> <td>1.706e+05</td>\n",
              "</tr>\n",
              "<tr>\n",
              "  <th>Df Model:</th>              <td>     2</td>      <th>                     </th>     <td> </td>    \n",
              "</tr>\n",
              "<tr>\n",
              "  <th>Covariance Type:</th>      <td>nonrobust</td>    <th>                     </th>     <td> </td>    \n",
              "</tr>\n",
              "</table>\n",
              "<table class=\"simpletable\">\n",
              "<tr>\n",
              "      <td></td>         <th>coef</th>     <th>std err</th>      <th>t</th>      <th>P>|t|</th>  <th>[0.025</th>    <th>0.975]</th>  \n",
              "</tr>\n",
              "<tr>\n",
              "  <th>intercept</th> <td>    0.1195</td> <td>    0.001</td> <td>  166.244</td> <td> 0.000</td> <td>    0.118</td> <td>    0.121</td>\n",
              "</tr>\n",
              "<tr>\n",
              "  <th>UK</th>        <td>   -0.0042</td> <td>    0.003</td> <td>   -1.516</td> <td> 0.129</td> <td>   -0.010</td> <td>    0.001</td>\n",
              "</tr>\n",
              "<tr>\n",
              "  <th>US</th>        <td>    0.0010</td> <td>    0.001</td> <td>    0.746</td> <td> 0.456</td> <td>   -0.002</td> <td>    0.004</td>\n",
              "</tr>\n",
              "</table>\n",
              "<table class=\"simpletable\">\n",
              "<tr>\n",
              "  <th>Omnibus:</th>       <td>125551.502</td> <th>  Durbin-Watson:     </th>  <td>   1.996</td> \n",
              "</tr>\n",
              "<tr>\n",
              "  <th>Prob(Omnibus):</th>   <td> 0.000</td>   <th>  Jarque-Bera (JB):  </th> <td>414300.851</td>\n",
              "</tr>\n",
              "<tr>\n",
              "  <th>Skew:</th>            <td> 2.345</td>   <th>  Prob(JB):          </th>  <td>    0.00</td> \n",
              "</tr>\n",
              "<tr>\n",
              "  <th>Kurtosis:</th>        <td> 6.497</td>   <th>  Cond. No.          </th>  <td>    4.84</td> \n",
              "</tr>\n",
              "</table><br/><br/>Warnings:<br/>[1] Standard Errors assume that the covariance matrix of the errors is correctly specified."
            ],
            "text/plain": [
              "<class 'statsmodels.iolib.summary.Summary'>\n",
              "\"\"\"\n",
              "                            OLS Regression Results                            \n",
              "==============================================================================\n",
              "Dep. Variable:              converted   R-squared:                       0.000\n",
              "Model:                            OLS   Adj. R-squared:                  0.000\n",
              "Method:                 Least Squares   F-statistic:                     1.605\n",
              "Date:                Thu, 04 Feb 2021   Prob (F-statistic):              0.201\n",
              "Time:                        19:36:57   Log-Likelihood:                -85267.\n",
              "No. Observations:              290583   AIC:                         1.705e+05\n",
              "Df Residuals:                  290580   BIC:                         1.706e+05\n",
              "Df Model:                           2                                         \n",
              "Covariance Type:            nonrobust                                         \n",
              "==============================================================================\n",
              "                 coef    std err          t      P>|t|      [0.025      0.975]\n",
              "------------------------------------------------------------------------------\n",
              "intercept      0.1195      0.001    166.244      0.000       0.118       0.121\n",
              "UK            -0.0042      0.003     -1.516      0.129      -0.010       0.001\n",
              "US             0.0010      0.001      0.746      0.456      -0.002       0.004\n",
              "==============================================================================\n",
              "Omnibus:                   125551.502   Durbin-Watson:                   1.996\n",
              "Prob(Omnibus):                  0.000   Jarque-Bera (JB):           414300.851\n",
              "Skew:                           2.345   Prob(JB):                         0.00\n",
              "Kurtosis:                       6.497   Cond. No.                         4.84\n",
              "==============================================================================\n",
              "\n",
              "Warnings:\n",
              "[1] Standard Errors assume that the covariance matrix of the errors is correctly specified.\n",
              "\"\"\""
            ]
          },
          "metadata": {
            "tags": []
          },
          "execution_count": 65
        }
      ]
    },
    {
      "cell_type": "markdown",
      "metadata": {
        "id": "5hDUKR9ylEUB"
      },
      "source": [
        "We also want to see if any factors can effect on treament group, therefore , we are fitting our model linearly with individaully factors and see the effect on ab_page/treatment group."
      ]
    },
    {
      "cell_type": "code",
      "metadata": {
        "colab": {
          "base_uri": "https://localhost:8080/",
          "height": 494
        },
        "id": "P4nQc5oui71U",
        "outputId": "9bdf375e-9ae5-47c1-c35c-df8a2c939a4b"
      },
      "source": [
        "#Using linear regrssion to fit the model and see individually factors can effect the treatment group.\r\n",
        "lm2 = sm.OLS(df2['converted'], df2[['intercept', 'ab_page', 'UK', 'US']]).fit()\r\n",
        "lm2.summary()"
      ],
      "execution_count": 66,
      "outputs": [
        {
          "output_type": "execute_result",
          "data": {
            "text/html": [
              "<table class=\"simpletable\">\n",
              "<caption>OLS Regression Results</caption>\n",
              "<tr>\n",
              "  <th>Dep. Variable:</th>        <td>converted</td>    <th>  R-squared:         </th> <td>   0.000</td> \n",
              "</tr>\n",
              "<tr>\n",
              "  <th>Model:</th>                   <td>OLS</td>       <th>  Adj. R-squared:    </th> <td>   0.000</td> \n",
              "</tr>\n",
              "<tr>\n",
              "  <th>Method:</th>             <td>Least Squares</td>  <th>  F-statistic:       </th> <td>   1.639</td> \n",
              "</tr>\n",
              "<tr>\n",
              "  <th>Date:</th>             <td>Thu, 04 Feb 2021</td> <th>  Prob (F-statistic):</th>  <td> 0.178</td>  \n",
              "</tr>\n",
              "<tr>\n",
              "  <th>Time:</th>                 <td>19:38:28</td>     <th>  Log-Likelihood:    </th> <td> -85266.</td> \n",
              "</tr>\n",
              "<tr>\n",
              "  <th>No. Observations:</th>      <td>290583</td>      <th>  AIC:               </th> <td>1.705e+05</td>\n",
              "</tr>\n",
              "<tr>\n",
              "  <th>Df Residuals:</th>          <td>290579</td>      <th>  BIC:               </th> <td>1.706e+05</td>\n",
              "</tr>\n",
              "<tr>\n",
              "  <th>Df Model:</th>              <td>     3</td>      <th>                     </th>     <td> </td>    \n",
              "</tr>\n",
              "<tr>\n",
              "  <th>Covariance Type:</th>      <td>nonrobust</td>    <th>                     </th>     <td> </td>    \n",
              "</tr>\n",
              "</table>\n",
              "<table class=\"simpletable\">\n",
              "<tr>\n",
              "      <td></td>         <th>coef</th>     <th>std err</th>      <th>t</th>      <th>P>|t|</th>  <th>[0.025</th>    <th>0.975]</th>  \n",
              "</tr>\n",
              "<tr>\n",
              "  <th>intercept</th> <td>    0.1203</td> <td>    0.001</td> <td>  128.267</td> <td> 0.000</td> <td>    0.118</td> <td>    0.122</td>\n",
              "</tr>\n",
              "<tr>\n",
              "  <th>ab_page</th>   <td>   -0.0016</td> <td>    0.001</td> <td>   -1.306</td> <td> 0.191</td> <td>   -0.004</td> <td>    0.001</td>\n",
              "</tr>\n",
              "<tr>\n",
              "  <th>UK</th>        <td>   -0.0042</td> <td>    0.003</td> <td>   -1.515</td> <td> 0.130</td> <td>   -0.010</td> <td>    0.001</td>\n",
              "</tr>\n",
              "<tr>\n",
              "  <th>US</th>        <td>    0.0010</td> <td>    0.001</td> <td>    0.744</td> <td> 0.457</td> <td>   -0.002</td> <td>    0.004</td>\n",
              "</tr>\n",
              "</table>\n",
              "<table class=\"simpletable\">\n",
              "<tr>\n",
              "  <th>Omnibus:</th>       <td>125550.288</td> <th>  Durbin-Watson:     </th>  <td>   1.996</td> \n",
              "</tr>\n",
              "<tr>\n",
              "  <th>Prob(Omnibus):</th>   <td> 0.000</td>   <th>  Jarque-Bera (JB):  </th> <td>414292.604</td>\n",
              "</tr>\n",
              "<tr>\n",
              "  <th>Skew:</th>            <td> 2.345</td>   <th>  Prob(JB):          </th>  <td>    0.00</td> \n",
              "</tr>\n",
              "<tr>\n",
              "  <th>Kurtosis:</th>        <td> 6.497</td>   <th>  Cond. No.          </th>  <td>    5.47</td> \n",
              "</tr>\n",
              "</table><br/><br/>Warnings:<br/>[1] Standard Errors assume that the covariance matrix of the errors is correctly specified."
            ],
            "text/plain": [
              "<class 'statsmodels.iolib.summary.Summary'>\n",
              "\"\"\"\n",
              "                            OLS Regression Results                            \n",
              "==============================================================================\n",
              "Dep. Variable:              converted   R-squared:                       0.000\n",
              "Model:                            OLS   Adj. R-squared:                  0.000\n",
              "Method:                 Least Squares   F-statistic:                     1.639\n",
              "Date:                Thu, 04 Feb 2021   Prob (F-statistic):              0.178\n",
              "Time:                        19:38:28   Log-Likelihood:                -85266.\n",
              "No. Observations:              290583   AIC:                         1.705e+05\n",
              "Df Residuals:                  290579   BIC:                         1.706e+05\n",
              "Df Model:                           3                                         \n",
              "Covariance Type:            nonrobust                                         \n",
              "==============================================================================\n",
              "                 coef    std err          t      P>|t|      [0.025      0.975]\n",
              "------------------------------------------------------------------------------\n",
              "intercept      0.1203      0.001    128.267      0.000       0.118       0.122\n",
              "ab_page       -0.0016      0.001     -1.306      0.191      -0.004       0.001\n",
              "UK            -0.0042      0.003     -1.515      0.130      -0.010       0.001\n",
              "US             0.0010      0.001      0.744      0.457      -0.002       0.004\n",
              "==============================================================================\n",
              "Omnibus:                   125550.288   Durbin-Watson:                   1.996\n",
              "Prob(Omnibus):                  0.000   Jarque-Bera (JB):           414292.604\n",
              "Skew:                           2.345   Prob(JB):                         0.00\n",
              "Kurtosis:                       6.497   Cond. No.                         5.47\n",
              "==============================================================================\n",
              "\n",
              "Warnings:\n",
              "[1] Standard Errors assume that the covariance matrix of the errors is correctly specified.\n",
              "\"\"\""
            ]
          },
          "metadata": {
            "tags": []
          },
          "execution_count": 66
        }
      ]
    },
    {
      "cell_type": "code",
      "metadata": {
        "colab": {
          "base_uri": "https://localhost:8080/",
          "height": 537
        },
        "id": "yL1X8jgijZEk",
        "outputId": "12a0d22a-b6ff-4278-edb9-e8b19c77299d"
      },
      "source": [
        "lm3 = sm.OLS(df2['converted'], df2[['intercept', 'ab_page', 'UK', 'US', 'Uk_ab_page', 'US_ab_page']]).fit()\r\n",
        "lm3.summary()"
      ],
      "execution_count": 68,
      "outputs": [
        {
          "output_type": "execute_result",
          "data": {
            "text/html": [
              "<table class=\"simpletable\">\n",
              "<caption>OLS Regression Results</caption>\n",
              "<tr>\n",
              "  <th>Dep. Variable:</th>        <td>converted</td>    <th>  R-squared:         </th> <td>   0.000</td> \n",
              "</tr>\n",
              "<tr>\n",
              "  <th>Model:</th>                   <td>OLS</td>       <th>  Adj. R-squared:    </th> <td>   0.000</td> \n",
              "</tr>\n",
              "<tr>\n",
              "  <th>Method:</th>             <td>Least Squares</td>  <th>  F-statistic:       </th> <td>   1.466</td> \n",
              "</tr>\n",
              "<tr>\n",
              "  <th>Date:</th>             <td>Thu, 04 Feb 2021</td> <th>  Prob (F-statistic):</th>  <td> 0.197</td>  \n",
              "</tr>\n",
              "<tr>\n",
              "  <th>Time:</th>                 <td>19:41:28</td>     <th>  Log-Likelihood:    </th> <td> -85265.</td> \n",
              "</tr>\n",
              "<tr>\n",
              "  <th>No. Observations:</th>      <td>290583</td>      <th>  AIC:               </th> <td>1.705e+05</td>\n",
              "</tr>\n",
              "<tr>\n",
              "  <th>Df Residuals:</th>          <td>290577</td>      <th>  BIC:               </th> <td>1.706e+05</td>\n",
              "</tr>\n",
              "<tr>\n",
              "  <th>Df Model:</th>              <td>     5</td>      <th>                     </th>     <td> </td>    \n",
              "</tr>\n",
              "<tr>\n",
              "  <th>Covariance Type:</th>      <td>nonrobust</td>    <th>                     </th>     <td> </td>    \n",
              "</tr>\n",
              "</table>\n",
              "<table class=\"simpletable\">\n",
              "<tr>\n",
              "       <td></td>         <th>coef</th>     <th>std err</th>      <th>t</th>      <th>P>|t|</th>  <th>[0.025</th>    <th>0.975]</th>  \n",
              "</tr>\n",
              "<tr>\n",
              "  <th>intercept</th>  <td>    0.1206</td> <td>    0.001</td> <td>  118.563</td> <td> 0.000</td> <td>    0.119</td> <td>    0.123</td>\n",
              "</tr>\n",
              "<tr>\n",
              "  <th>ab_page</th>    <td>   -0.0022</td> <td>    0.001</td> <td>   -1.504</td> <td> 0.133</td> <td>   -0.005</td> <td>    0.001</td>\n",
              "</tr>\n",
              "<tr>\n",
              "  <th>UK</th>         <td>   -0.0018</td> <td>    0.004</td> <td>   -0.467</td> <td> 0.641</td> <td>   -0.010</td> <td>    0.006</td>\n",
              "</tr>\n",
              "<tr>\n",
              "  <th>US</th>         <td>   -0.0006</td> <td>    0.002</td> <td>   -0.307</td> <td> 0.759</td> <td>   -0.004</td> <td>    0.003</td>\n",
              "</tr>\n",
              "<tr>\n",
              "  <th>Uk_ab_page</th> <td>   -0.0047</td> <td>    0.006</td> <td>   -0.846</td> <td> 0.398</td> <td>   -0.016</td> <td>    0.006</td>\n",
              "</tr>\n",
              "<tr>\n",
              "  <th>US_ab_page</th> <td>    0.0033</td> <td>    0.003</td> <td>    1.180</td> <td> 0.238</td> <td>   -0.002</td> <td>    0.009</td>\n",
              "</tr>\n",
              "</table>\n",
              "<table class=\"simpletable\">\n",
              "<tr>\n",
              "  <th>Omnibus:</th>       <td>125548.556</td> <th>  Durbin-Watson:     </th>  <td>   1.996</td> \n",
              "</tr>\n",
              "<tr>\n",
              "  <th>Prob(Omnibus):</th>   <td> 0.000</td>   <th>  Jarque-Bera (JB):  </th> <td>414280.772</td>\n",
              "</tr>\n",
              "<tr>\n",
              "  <th>Skew:</th>            <td> 2.345</td>   <th>  Prob(JB):          </th>  <td>    0.00</td> \n",
              "</tr>\n",
              "<tr>\n",
              "  <th>Kurtosis:</th>        <td> 6.497</td>   <th>  Cond. No.          </th>  <td>    12.7</td> \n",
              "</tr>\n",
              "</table><br/><br/>Warnings:<br/>[1] Standard Errors assume that the covariance matrix of the errors is correctly specified."
            ],
            "text/plain": [
              "<class 'statsmodels.iolib.summary.Summary'>\n",
              "\"\"\"\n",
              "                            OLS Regression Results                            \n",
              "==============================================================================\n",
              "Dep. Variable:              converted   R-squared:                       0.000\n",
              "Model:                            OLS   Adj. R-squared:                  0.000\n",
              "Method:                 Least Squares   F-statistic:                     1.466\n",
              "Date:                Thu, 04 Feb 2021   Prob (F-statistic):              0.197\n",
              "Time:                        19:41:28   Log-Likelihood:                -85265.\n",
              "No. Observations:              290583   AIC:                         1.705e+05\n",
              "Df Residuals:                  290577   BIC:                         1.706e+05\n",
              "Df Model:                           5                                         \n",
              "Covariance Type:            nonrobust                                         \n",
              "==============================================================================\n",
              "                 coef    std err          t      P>|t|      [0.025      0.975]\n",
              "------------------------------------------------------------------------------\n",
              "intercept      0.1206      0.001    118.563      0.000       0.119       0.123\n",
              "ab_page       -0.0022      0.001     -1.504      0.133      -0.005       0.001\n",
              "UK            -0.0018      0.004     -0.467      0.641      -0.010       0.006\n",
              "US            -0.0006      0.002     -0.307      0.759      -0.004       0.003\n",
              "Uk_ab_page    -0.0047      0.006     -0.846      0.398      -0.016       0.006\n",
              "US_ab_page     0.0033      0.003      1.180      0.238      -0.002       0.009\n",
              "==============================================================================\n",
              "Omnibus:                   125548.556   Durbin-Watson:                   1.996\n",
              "Prob(Omnibus):                  0.000   Jarque-Bera (JB):           414280.772\n",
              "Skew:                           2.345   Prob(JB):                         0.00\n",
              "Kurtosis:                       6.497   Cond. No.                         12.7\n",
              "==============================================================================\n",
              "\n",
              "Warnings:\n",
              "[1] Standard Errors assume that the covariance matrix of the errors is correctly specified.\n",
              "\"\"\""
            ]
          },
          "metadata": {
            "tags": []
          },
          "execution_count": 68
        }
      ]
    },
    {
      "cell_type": "markdown",
      "metadata": {
        "id": "4972-EkFFO1a"
      },
      "source": [
        "We can see p-values are greater than error rate, our model is not statistically significant in favour of alternative hypotesis and we fail to reject null hypothesis. Conversion rate is less likely in ab_page as well countries and intreaction of countries variables.I can say users are neutral between control and treatment group, there is no difference of using new page or older page. Users are in the same ratio as before adding new_page in the website."
      ]
    },
    {
      "cell_type": "code",
      "metadata": {
        "id": "vStLG9IWjz4P"
      },
      "source": [
        ""
      ],
      "execution_count": null,
      "outputs": []
    }
  ]
}