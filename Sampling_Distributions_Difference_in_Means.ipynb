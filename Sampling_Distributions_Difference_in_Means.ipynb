{
  "nbformat": 4,
  "nbformat_minor": 0,
  "metadata": {
    "kernelspec": {
      "display_name": "Python 3",
      "language": "python",
      "name": "python3"
    },
    "language_info": {
      "codemirror_mode": {
        "name": "ipython",
        "version": 3
      },
      "file_extension": ".py",
      "mimetype": "text/x-python",
      "name": "python",
      "nbconvert_exporter": "python",
      "pygments_lexer": "ipython3",
      "version": "3.6.3"
    },
    "colab": {
      "name": "Sampling Distributions - Difference in Means.ipynb",
      "provenance": [],
      "include_colab_link": true
    }
  },
  "cells": [
    {
      "cell_type": "markdown",
      "metadata": {
        "id": "view-in-github",
        "colab_type": "text"
      },
      "source": [
        "<a href=\"https://colab.research.google.com/github/Sinha123456/udacity_lesson_project/blob/main/Sampling_Distributions_Difference_in_Means.ipynb\" target=\"_parent\"><img src=\"https://colab.research.google.com/assets/colab-badge.svg\" alt=\"Open In Colab\"/></a>"
      ]
    },
    {
      "cell_type": "markdown",
      "metadata": {
        "id": "-whRTPOZiGlI"
      },
      "source": [
        "### Confidence Interval - Difference In Means\n",
        "\n",
        "Here you will look through the example from the last video, but you will also go a couple of steps further into what might actually be going on with this data."
      ]
    },
    {
      "cell_type": "code",
      "metadata": {
        "id": "2lDbrMEHiGlQ",
        "outputId": "5c955b7b-70fc-4bb4-edab-f107dde9fe5a"
      },
      "source": [
        "import pandas as pd\n",
        "import numpy as np\n",
        "import matplotlib.pyplot as plt\n",
        "\n",
        "%matplotlib inline\n",
        "np.random.seed(42)\n",
        "\n",
        "full_data = pd.read_csv('coffee_dataset.csv')\n",
        "sample_data = full_data.sample(200)\n",
        "sample_data.head(4)"
      ],
      "execution_count": null,
      "outputs": [
        {
          "output_type": "execute_result",
          "data": {
            "text/html": [
              "<div>\n",
              "<style scoped>\n",
              "    .dataframe tbody tr th:only-of-type {\n",
              "        vertical-align: middle;\n",
              "    }\n",
              "\n",
              "    .dataframe tbody tr th {\n",
              "        vertical-align: top;\n",
              "    }\n",
              "\n",
              "    .dataframe thead th {\n",
              "        text-align: right;\n",
              "    }\n",
              "</style>\n",
              "<table border=\"1\" class=\"dataframe\">\n",
              "  <thead>\n",
              "    <tr style=\"text-align: right;\">\n",
              "      <th></th>\n",
              "      <th>user_id</th>\n",
              "      <th>age</th>\n",
              "      <th>drinks_coffee</th>\n",
              "      <th>height</th>\n",
              "    </tr>\n",
              "  </thead>\n",
              "  <tbody>\n",
              "    <tr>\n",
              "      <th>2402</th>\n",
              "      <td>2874</td>\n",
              "      <td>&lt;21</td>\n",
              "      <td>True</td>\n",
              "      <td>64.357154</td>\n",
              "    </tr>\n",
              "    <tr>\n",
              "      <th>2864</th>\n",
              "      <td>3670</td>\n",
              "      <td>&gt;=21</td>\n",
              "      <td>True</td>\n",
              "      <td>66.859636</td>\n",
              "    </tr>\n",
              "    <tr>\n",
              "      <th>2167</th>\n",
              "      <td>7441</td>\n",
              "      <td>&lt;21</td>\n",
              "      <td>False</td>\n",
              "      <td>66.659561</td>\n",
              "    </tr>\n",
              "    <tr>\n",
              "      <th>507</th>\n",
              "      <td>2781</td>\n",
              "      <td>&gt;=21</td>\n",
              "      <td>True</td>\n",
              "      <td>70.166241</td>\n",
              "    </tr>\n",
              "  </tbody>\n",
              "</table>\n",
              "</div>"
            ],
            "text/plain": [
              "      user_id   age  drinks_coffee     height\n",
              "2402     2874   <21           True  64.357154\n",
              "2864     3670  >=21           True  66.859636\n",
              "2167     7441   <21          False  66.659561\n",
              "507      2781  >=21           True  70.166241"
            ]
          },
          "metadata": {
            "tags": []
          },
          "execution_count": 2
        }
      ]
    },
    {
      "cell_type": "code",
      "metadata": {
        "id": "Z4K3QYo6iGlV",
        "outputId": "edfa15df-7b2a-4beb-b142-c8c49a6284e2"
      },
      "source": [
        "coffee_mean = sample_data.query('drinks_coffee == True')['height'].mean()\n",
        "nocoffee_mean = sample_data.query('drinks_coffee == False')['height'].mean()\n",
        "diff_height_mean = coffee_mean - nocoffee_mean\n",
        "diff_height_mean"
      ],
      "execution_count": null,
      "outputs": [
        {
          "output_type": "execute_result",
          "data": {
            "text/plain": [
              "1.3347071093073879"
            ]
          },
          "metadata": {
            "tags": []
          },
          "execution_count": 30
        }
      ]
    },
    {
      "cell_type": "markdown",
      "metadata": {
        "id": "KkFQoeASiGla"
      },
      "source": [
        "`1.` For 10,000 iterations, bootstrap sample your sample data, compute the difference in the average heights for coffee and non-coffee drinkers.  Build a 99% confidence interval using your sampling distribution.  Use your interval to start answering the first quiz question below."
      ]
    },
    {
      "cell_type": "code",
      "metadata": {
        "id": "19jFzkNEiGld",
        "outputId": "3d4313da-fd62-4f06-df47-6bccea540c80"
      },
      "source": [
        "diff_hight = []\n",
        "for _ in range(10000):\n",
        "    bootsamp = sample_data.sample(200,replace = True)\n",
        "    mean_coffee = bootsamp[bootsamp['drinks_coffee']==True]['height'].mean()\n",
        "    mean_nocoffee = bootsamp[bootsamp['drinks_coffee']==False]['height'].mean()\n",
        "    diff_hight.append(mean_coffee - mean_nocoffee)\n",
        "np.percentile(diff_hight, .5), np.percentile(diff_hight, 99.5)"
      ],
      "execution_count": null,
      "outputs": [
        {
          "output_type": "execute_result",
          "data": {
            "text/plain": [
              "(0.10258900080919674, 2.5388333707966284)"
            ]
          },
          "metadata": {
            "tags": []
          },
          "execution_count": 4
        }
      ]
    },
    {
      "cell_type": "markdown",
      "metadata": {
        "id": "rkiV-w39iGlf"
      },
      "source": [
        "`2.` For 10,000 iterations, bootstrap sample your sample data, compute the difference in the average heights for those older than 21 and those younger than 21.  Build a 99% confidence interval using your sampling distribution.  Use your interval to finish answering the first quiz question below.  "
      ]
    },
    {
      "cell_type": "code",
      "metadata": {
        "id": "me-MoxKbiGlh",
        "outputId": "4d0466e5-0673-4d9a-88e6-31a2d4463215"
      },
      "source": [
        "diff_age = []\n",
        "for _ in range(10000):\n",
        "    bootsamp2 = sample_data.sample(200, replace = True)\n",
        "    older_21 = bootsamp2[bootsamp2['age'] =='>=21']['height'].mean()\n",
        "    younger_21 = bootsamp2[bootsamp2['age']=='<21']['height'].mean()\n",
        "    diff_age.append(older_21 - younger_21)\n",
        "np.percentile(diff_age, 0.5), np.percentile(diff_age, 99.5)"
      ],
      "execution_count": null,
      "outputs": [
        {
          "output_type": "execute_result",
          "data": {
            "text/plain": [
              "(3.3846249718386421, 5.1051788925372721)"
            ]
          },
          "metadata": {
            "tags": []
          },
          "execution_count": 17
        }
      ]
    },
    {
      "cell_type": "code",
      "metadata": {
        "id": "71PGO4-QiGlk",
        "outputId": "7aba7c3a-7af3-47b1-dbd5-c17173375b91"
      },
      "source": [
        "plt.hist(diff_age)"
      ],
      "execution_count": null,
      "outputs": [
        {
          "output_type": "execute_result",
          "data": {
            "text/plain": [
              "(array([   11.,    64.,   481.,  1447.,  2618.,  2870.,  1754.,   632.,\n",
              "          110.,    13.]),\n",
              " array([ 2.92252522,  3.18192832,  3.44133142,  3.70073451,  3.96013761,\n",
              "         4.21954071,  4.47894381,  4.73834691,  4.99775   ,  5.2571531 ,\n",
              "         5.5165562 ]),\n",
              " <a list of 10 Patch objects>)"
            ]
          },
          "metadata": {
            "tags": []
          },
          "execution_count": 18
        },
        {
          "output_type": "display_data",
          "data": {
            "image/png": "[encoded data removed]",
            "text/plain": [
              "<matplotlib.figure.Figure at 0x7fba81ed4940>"
            ]
          },
          "metadata": {
            "tags": [],
            "needs_background": "light"
          }
        }
      ]
    },
    {
      "cell_type": "markdown",
      "metadata": {
        "id": "w9X5vBRTiGln"
      },
      "source": [
        "`3.` For 10,000 iterations bootstrap your sample data, compute the **difference** in the average height for coffee drinkers and the average height for non-coffee drinkers for individuals **under** 21 years old.  Using your sampling distribution, build a 95% confidence interval.  Use your interval to start answering question 2 below."
      ]
    },
    {
      "cell_type": "code",
      "metadata": {
        "id": "hjMsTM-HiGlp",
        "outputId": "593b60d8-7a45-497b-e213-23b10bebfa55"
      },
      "source": [
        "diff_underage = []\n",
        "for _ in range(10000):\n",
        "    bootsamp3 = sample_data.sample(200, replace = True)\n",
        "    under21_coffee = bootsamp3.query('drinks_coffee == True and age == \"<21\"')['height'].mean()\n",
        "    under21_nocoffee = bootsamp3.query('drinks_coffee == False and age == \"<21\"')['height'].mean()\n",
        "    diff_underage.append(under21_coffee - under21_nocoffee)\n",
        "np.percentile(diff_underage, 2.5), np.percentile(diff_underage, 97.5)"
      ],
      "execution_count": null,
      "outputs": [
        {
          "output_type": "execute_result",
          "data": {
            "text/plain": [
              "(-2.5896789620119245, -1.0854810109996651)"
            ]
          },
          "metadata": {
            "tags": []
          },
          "execution_count": 25
        }
      ]
    },
    {
      "cell_type": "code",
      "metadata": {
        "id": "b1eUfl__iGls",
        "outputId": "fafc80dc-d7b3-4c6d-f580-b05e3c4f4273"
      },
      "source": [
        "plt.hist(diff_underage)"
      ],
      "execution_count": null,
      "outputs": [
        {
          "output_type": "execute_result",
          "data": {
            "text/plain": [
              "(array([   11.,    59.,   433.,  1602.,  2995.,  2930.,  1492.,   403.,\n",
              "           68.,     7.]),\n",
              " array([-3.44748496, -3.12727589, -2.80706682, -2.48685775, -2.16664868,\n",
              "        -1.84643961, -1.52623054, -1.20602147, -0.8858124 , -0.56560333,\n",
              "        -0.24539426]),\n",
              " <a list of 10 Patch objects>)"
            ]
          },
          "metadata": {
            "tags": []
          },
          "execution_count": 26
        },
        {
          "output_type": "display_data",
          "data": {
            "image/png": "[encoded data removed]",
            "text/plain": [
              "<matplotlib.figure.Figure at 0x7fba82023fd0>"
            ]
          },
          "metadata": {
            "tags": [],
            "needs_background": "light"
          }
        }
      ]
    },
    {
      "cell_type": "markdown",
      "metadata": {
        "id": "4tV0XJZkiGlw"
      },
      "source": [
        "`4.` For 10,000 iterations bootstrap your sample data, compute the **difference** in the average height for coffee drinkers and the average height for non-coffee drinkers for individuals **over** 21 years old.  Using your sampling distribution, build a 95% confidence interval. Use your interval to finish answering the second quiz question below. As well as the following questions. "
      ]
    },
    {
      "cell_type": "code",
      "metadata": {
        "id": "y7pXTayCiGly",
        "outputId": "9976cd76-9fb0-4a92-d9ff-d0bf2fc84b7e"
      },
      "source": [
        "diff_over21 = []\n",
        "for _ in range(10000):\n",
        "    bootsamp4 = sample_data.sample(200, replace = True)\n",
        "    over21_coffee = bootsamp4.query('drinks_coffee == True and age == \">=21\"')['height'].mean()\n",
        "    over21_nocoffee = bootsamp4.query('drinks_coffee == False and age == \">=21\"')['height'].mean()\n",
        "    diff_over21.append(over21_coffee - over21_nocoffee)\n",
        "np.percentile(diff_over21, 2.5), np.percentile(diff_over21, 97.5)"
      ],
      "execution_count": null,
      "outputs": [
        {
          "output_type": "execute_result",
          "data": {
            "text/plain": [
              "(-4.3679284960258311, -1.8065555122634016)"
            ]
          },
          "metadata": {
            "tags": []
          },
          "execution_count": 29
        }
      ]
    },
    {
      "cell_type": "code",
      "metadata": {
        "id": "KxhHKGvNiGlz"
      },
      "source": [
        "plt.hist(diff_over21)"
      ],
      "execution_count": null,
      "outputs": []
    }
  ]
}